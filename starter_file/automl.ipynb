{
 "cells": [
  {
   "cell_type": "markdown",
   "metadata": {},
   "source": [
    "# Automated ML"
   ]
  },
  {
   "cell_type": "code",
   "execution_count": 1,
   "metadata": {},
   "outputs": [
    {
     "name": "stdout",
     "output_type": "stream",
     "text": [
      "SDK version: 1.36.0\n"
     ]
    }
   ],
   "source": [
    "import azureml.core\n",
    "from azureml.core.experiment import Experiment\n",
    "from azureml.core.workspace import Workspace\n",
    "from azureml.train.automl import AutoMLConfig\n",
    "from azureml.core.dataset import Dataset\n",
    "from azureml.core.webservice import Webservice\n",
    "from azureml.core.webservice import AciWebservice\n",
    "from azureml.core.model import InferenceConfig\n",
    "from azureml.core.model import Model\n",
    "\n",
    "print(\"SDK version:\", azureml.core.VERSION)"
   ]
  },
  {
   "cell_type": "markdown",
   "metadata": {},
   "source": [
    "## Dataset\n",
    "\n",
    "### Overview\n",
    "I'll be usingthe datset that was suggested in starter file:\n",
    "[Heart Failure](https://archive.ics.uci.edu/ml/datasets/Heart+failure+clinical+records#)."
   ]
  },
  {
   "cell_type": "code",
   "execution_count": 2,
   "metadata": {
    "gather": {
     "logged": 1598423890461
    },
    "jupyter": {
     "outputs_hidden": false,
     "source_hidden": false
    },
    "nteract": {
     "transient": {
      "deleting": false
     }
    }
   },
   "outputs": [
    {
     "data": {
      "text/html": [
       "<div>\n",
       "<style scoped>\n",
       "    .dataframe tbody tr th:only-of-type {\n",
       "        vertical-align: middle;\n",
       "    }\n",
       "\n",
       "    .dataframe tbody tr th {\n",
       "        vertical-align: top;\n",
       "    }\n",
       "\n",
       "    .dataframe thead th {\n",
       "        text-align: right;\n",
       "    }\n",
       "</style>\n",
       "<table border=\"1\" class=\"dataframe\">\n",
       "  <thead>\n",
       "    <tr style=\"text-align: right;\">\n",
       "      <th></th>\n",
       "      <th>age</th>\n",
       "      <th>anaemia</th>\n",
       "      <th>creatinine_phosphokinase</th>\n",
       "      <th>diabetes</th>\n",
       "      <th>ejection_fraction</th>\n",
       "      <th>high_blood_pressure</th>\n",
       "      <th>platelets</th>\n",
       "      <th>serum_creatinine</th>\n",
       "      <th>serum_sodium</th>\n",
       "      <th>sex</th>\n",
       "      <th>smoking</th>\n",
       "      <th>time</th>\n",
       "      <th>DEATH_EVENT</th>\n",
       "    </tr>\n",
       "  </thead>\n",
       "  <tbody>\n",
       "    <tr>\n",
       "      <th>0</th>\n",
       "      <td>75.0</td>\n",
       "      <td>0</td>\n",
       "      <td>582</td>\n",
       "      <td>0</td>\n",
       "      <td>20</td>\n",
       "      <td>1</td>\n",
       "      <td>265000.00</td>\n",
       "      <td>1.9</td>\n",
       "      <td>130</td>\n",
       "      <td>1</td>\n",
       "      <td>0</td>\n",
       "      <td>4</td>\n",
       "      <td>1</td>\n",
       "    </tr>\n",
       "    <tr>\n",
       "      <th>1</th>\n",
       "      <td>55.0</td>\n",
       "      <td>0</td>\n",
       "      <td>7861</td>\n",
       "      <td>0</td>\n",
       "      <td>38</td>\n",
       "      <td>0</td>\n",
       "      <td>263358.03</td>\n",
       "      <td>1.1</td>\n",
       "      <td>136</td>\n",
       "      <td>1</td>\n",
       "      <td>0</td>\n",
       "      <td>6</td>\n",
       "      <td>1</td>\n",
       "    </tr>\n",
       "    <tr>\n",
       "      <th>2</th>\n",
       "      <td>65.0</td>\n",
       "      <td>0</td>\n",
       "      <td>146</td>\n",
       "      <td>0</td>\n",
       "      <td>20</td>\n",
       "      <td>0</td>\n",
       "      <td>162000.00</td>\n",
       "      <td>1.3</td>\n",
       "      <td>129</td>\n",
       "      <td>1</td>\n",
       "      <td>1</td>\n",
       "      <td>7</td>\n",
       "      <td>1</td>\n",
       "    </tr>\n",
       "    <tr>\n",
       "      <th>3</th>\n",
       "      <td>50.0</td>\n",
       "      <td>1</td>\n",
       "      <td>111</td>\n",
       "      <td>0</td>\n",
       "      <td>20</td>\n",
       "      <td>0</td>\n",
       "      <td>210000.00</td>\n",
       "      <td>1.9</td>\n",
       "      <td>137</td>\n",
       "      <td>1</td>\n",
       "      <td>0</td>\n",
       "      <td>7</td>\n",
       "      <td>1</td>\n",
       "    </tr>\n",
       "    <tr>\n",
       "      <th>4</th>\n",
       "      <td>65.0</td>\n",
       "      <td>1</td>\n",
       "      <td>160</td>\n",
       "      <td>1</td>\n",
       "      <td>20</td>\n",
       "      <td>0</td>\n",
       "      <td>327000.00</td>\n",
       "      <td>2.7</td>\n",
       "      <td>116</td>\n",
       "      <td>0</td>\n",
       "      <td>0</td>\n",
       "      <td>8</td>\n",
       "      <td>1</td>\n",
       "    </tr>\n",
       "  </tbody>\n",
       "</table>\n",
       "</div>"
      ],
      "text/plain": [
       "    age  anaemia  creatinine_phosphokinase  diabetes  ejection_fraction  \\\n",
       "0  75.0        0                       582         0                 20   \n",
       "1  55.0        0                      7861         0                 38   \n",
       "2  65.0        0                       146         0                 20   \n",
       "3  50.0        1                       111         0                 20   \n",
       "4  65.0        1                       160         1                 20   \n",
       "\n",
       "   high_blood_pressure  platelets  serum_creatinine  serum_sodium  sex  \\\n",
       "0                    1  265000.00               1.9           130    1   \n",
       "1                    0  263358.03               1.1           136    1   \n",
       "2                    0  162000.00               1.3           129    1   \n",
       "3                    0  210000.00               1.9           137    1   \n",
       "4                    0  327000.00               2.7           116    0   \n",
       "\n",
       "   smoking  time  DEATH_EVENT  \n",
       "0        0     4            1  \n",
       "1        0     6            1  \n",
       "2        1     7            1  \n",
       "3        0     7            1  \n",
       "4        0     8            1  "
      ]
     },
     "execution_count": 2,
     "metadata": {},
     "output_type": "execute_result"
    }
   ],
   "source": [
    "ws = Workspace.from_config()\n",
    "experiment_name = 'heart-failure-experiment'\n",
    "\n",
    "experiment=Experiment(ws, experiment_name)\n",
    "\n",
    "\n",
    "# check if data already available\n",
    "key = 'heart-failure'\n",
    "description_text = 'heart failure data. See https://archive.ics.uci.edu/ml/datasets/Heart+failure+clinical+records# for more information.'\n",
    "found = False\n",
    "\n",
    "if key in ws.datasets.keys(): \n",
    "    found = True\n",
    "    dataset = ws.datasets[key] \n",
    "\n",
    "if not found:\n",
    "    # register the dataset\n",
    "    data = 'https://archive.ics.uci.edu/ml/machine-learning-databases/00519/heart_failure_clinical_records_dataset.csv'\n",
    "    dataset = Dataset.Tabular.from_delimited_files(data)\n",
    "    dataset = dataset.register(workspace=ws,\n",
    "                               name=key,\n",
    "                               description=description_text)\n",
    "\n",
    "\n",
    "df = dataset.to_pandas_dataframe()\n",
    "df.head()"
   ]
  },
  {
   "cell_type": "markdown",
   "metadata": {},
   "source": [
    "### Create compute cluster\n"
   ]
  },
  {
   "cell_type": "code",
   "execution_count": 4,
   "metadata": {},
   "outputs": [
    {
     "name": "stdout",
     "output_type": "stream",
     "text": [
      "Found existing cluster, use it.\n"
     ]
    }
   ],
   "source": [
    "from azureml.core.compute import AmlCompute\n",
    "from azureml.core.compute import ComputeTarget\n",
    "from azureml.core.compute_target import ComputeTargetException\n",
    "\n",
    "# Choose a name for your CPU cluster\n",
    "amlcompute_cluster_name = \"cpu-cluster\"\n",
    "\n",
    "# check, if a cluster exists and does not need to be provisioned\n",
    "try:\n",
    "    compute_target = ComputeTarget(workspace=ws, name=amlcompute_cluster_name)\n",
    "    print('Found existing cluster, use it.')\n",
    "except ComputeTargetException:\n",
    "    compute_config = AmlCompute.provisioning_configuration(vm_size='STANDARD_DS12_V2',# for GPU, use \"STANDARD_NC6\"\n",
    "                                                           #vm_priority = 'lowpriority', # optional\n",
    "                                                           max_nodes=10)\n",
    "    compute_target = ComputeTarget.create(ws, amlcompute_cluster_name, compute_config)\n",
    "\n",
    "# compute_target.wait_for_completion(show_output=True, min_node_count = 2, timeout_in_minutes = 10)"
   ]
  },
  {
   "cell_type": "markdown",
   "metadata": {},
   "source": [
    "## AutoML Configuration\n",
    "\n",
    "As stated above, we will classify individuals as being likely to die in the next period.\n",
    "Different to the notebook using hyperparameter tuning, however, we will make use of Azure's AutoML capabilities in this approach.\n",
    "To be cautious when evaluating fit, weighted AUC is used as the primary metric."
   ]
  },
  {
   "cell_type": "code",
   "execution_count": 5,
   "metadata": {
    "gather": {
     "logged": 1598429217746
    },
    "jupyter": {
     "outputs_hidden": false,
     "source_hidden": false
    },
    "nteract": {
     "transient": {
      "deleting": false
     }
    }
   },
   "outputs": [],
   "source": [
    "# TODO: Put your automl settings here\n",
    "automl_settings = {\"max_concurrent_iterations\": 9,  #max possible number, since cluster has 10 = 9 exp + 1 parent\n",
    "                   \"primary_metric\" : 'AUC_weighted'\n",
    "}\n",
    "project_folder = './aml-heart-failure'\n",
    "\n",
    "# TODO: Put your automl config here\n",
    "automl_config = AutoMLConfig(compute_target=compute_target,\n",
    "                             task = \"classification\",\n",
    "                             experiment_timeout_minutes = 20,\n",
    "                             training_data=dataset,\n",
    "                             label_column_name=\"DEATH_EVENT\",   \n",
    "                             path = project_folder,\n",
    "                             enable_early_stopping= True,\n",
    "                             featurization= 'auto',\n",
    "                             debug_log = \"aml-error-log.log\",\n",
    "                             **automl_settings)"
   ]
  },
  {
   "cell_type": "code",
   "execution_count": 6,
   "metadata": {
    "gather": {
     "logged": 1598431107951
    },
    "jupyter": {
     "outputs_hidden": false,
     "source_hidden": false
    },
    "nteract": {
     "transient": {
      "deleting": false
     }
    }
   },
   "outputs": [
    {
     "name": "stdout",
     "output_type": "stream",
     "text": [
      "Submitting remote run.\n"
     ]
    },
    {
     "data": {
      "text/html": [
       "<table style=\"width:100%\"><tr><th>Experiment</th><th>Id</th><th>Type</th><th>Status</th><th>Details Page</th><th>Docs Page</th></tr><tr><td>heart-failure-experiment</td><td>AutoML_d3d7619a-7438-4a73-a422-7771f8b72101</td><td>automl</td><td>NotStarted</td><td><a href=\"https://ml.azure.com/runs/AutoML_d3d7619a-7438-4a73-a422-7771f8b72101?wsid=/subscriptions/976ee174-3882-4721-b90a-b5fef6b72f24/resourcegroups/aml-quickstarts-170222/workspaces/quick-starts-ws-170222&amp;tid=660b3398-b80e-49d2-bc5b-ac1dc93b5254\" target=\"_blank\" rel=\"noopener\">Link to Azure Machine Learning studio</a></td><td><a href=\"https://docs.microsoft.com/en-us/python/api/overview/azure/ml/intro?view=azure-ml-py\" target=\"_blank\" rel=\"noopener\">Link to Documentation</a></td></tr></table>"
      ],
      "text/plain": [
       "<IPython.core.display.HTML object>"
      ]
     },
     "metadata": {},
     "output_type": "display_data"
    }
   ],
   "source": [
    "# TODO: Submit your experiment\n",
    "aml_run = experiment.submit(automl_config, show_output=False)"
   ]
  },
  {
   "cell_type": "markdown",
   "metadata": {},
   "source": [
    "## Run Details\n",
    "\n",
    "To get details on the run, you can have a look at the `RunDetails` widget."
   ]
  },
  {
   "cell_type": "code",
   "execution_count": 7,
   "metadata": {
    "gather": {
     "logged": 1598431121770
    },
    "jupyter": {
     "outputs_hidden": false,
     "source_hidden": false
    },
    "nteract": {
     "transient": {
      "deleting": false
     }
    },
    "scrolled": true
   },
   "outputs": [
    {
     "data": {
      "application/vnd.jupyter.widget-view+json": {
       "model_id": "9804824fa0b54b5fa4643dd3a605783a",
       "version_major": 2,
       "version_minor": 0
      },
      "text/plain": [
       "_AutoMLWidget(widget_settings={'childWidgetDisplay': 'popup', 'send_telemetry': False, 'log_level': 'INFO', 's…"
      ]
     },
     "metadata": {},
     "output_type": "display_data"
    },
    {
     "data": {
      "application/aml.mini.widget.v1": "{\"status\": \"Completed\", \"workbench_run_details_uri\": \"https://ml.azure.com/runs/AutoML_d3d7619a-7438-4a73-a422-7771f8b72101?wsid=/subscriptions/976ee174-3882-4721-b90a-b5fef6b72f24/resourcegroups/aml-quickstarts-170222/workspaces/quick-starts-ws-170222&tid=660b3398-b80e-49d2-bc5b-ac1dc93b5254\", \"run_id\": \"AutoML_d3d7619a-7438-4a73-a422-7771f8b72101\", \"run_properties\": {\"run_id\": \"AutoML_d3d7619a-7438-4a73-a422-7771f8b72101\", \"created_utc\": \"2021-12-29T13:17:48.020652Z\", \"properties\": {\"num_iterations\": \"1000\", \"training_type\": \"TrainFull\", \"acquisition_function\": \"EI\", \"primary_metric\": \"AUC_weighted\", \"train_split\": \"0\", \"acquisition_parameter\": \"0\", \"num_cross_validation\": null, \"target\": \"cpu-cluster\", \"AMLSettingsJsonString\": \"{\\\"path\\\":null,\\\"name\\\":\\\"heart-failure-experiment\\\",\\\"subscription_id\\\":\\\"976ee174-3882-4721-b90a-b5fef6b72f24\\\",\\\"resource_group\\\":\\\"aml-quickstarts-170222\\\",\\\"workspace_name\\\":\\\"quick-starts-ws-170222\\\",\\\"region\\\":\\\"southcentralus\\\",\\\"compute_target\\\":\\\"cpu-cluster\\\",\\\"spark_service\\\":null,\\\"azure_service\\\":\\\"remote\\\",\\\"many_models\\\":false,\\\"pipeline_fetch_max_batch_size\\\":1,\\\"enable_batch_run\\\":false,\\\"enable_run_restructure\\\":false,\\\"start_auxiliary_runs_before_parent_complete\\\":false,\\\"enable_code_generation\\\":false,\\\"iterations\\\":1000,\\\"primary_metric\\\":\\\"AUC_weighted\\\",\\\"task_type\\\":\\\"classification\\\",\\\"positive_label\\\":null,\\\"data_script\\\":null,\\\"test_size\\\":0.0,\\\"test_include_predictions_only\\\":false,\\\"validation_size\\\":0.0,\\\"n_cross_validations\\\":null,\\\"y_min\\\":null,\\\"y_max\\\":null,\\\"num_classes\\\":null,\\\"featurization\\\":\\\"auto\\\",\\\"_ignore_package_version_incompatibilities\\\":false,\\\"is_timeseries\\\":false,\\\"max_cores_per_iteration\\\":1,\\\"max_concurrent_iterations\\\":9,\\\"iteration_timeout_minutes\\\":null,\\\"mem_in_mb\\\":null,\\\"enforce_time_on_windows\\\":false,\\\"experiment_timeout_minutes\\\":20,\\\"experiment_exit_score\\\":null,\\\"whitelist_models\\\":null,\\\"blacklist_algos\\\":[\\\"TensorFlowLinearClassifier\\\",\\\"TensorFlowDNN\\\"],\\\"supported_models\\\":[\\\"LightGBM\\\",\\\"AveragedPerceptronClassifier\\\",\\\"TensorFlowDNN\\\",\\\"TensorFlowLinearClassifier\\\",\\\"SGD\\\",\\\"BernoulliNaiveBayes\\\",\\\"GradientBoosting\\\",\\\"LogisticRegression\\\",\\\"ExtremeRandomTrees\\\",\\\"MultinomialNaiveBayes\\\",\\\"SVM\\\",\\\"LinearSVM\\\",\\\"XGBoostClassifier\\\",\\\"RandomForest\\\",\\\"DecisionTree\\\",\\\"KNN\\\"],\\\"private_models\\\":[\\\"TabnetClassifier\\\"],\\\"auto_blacklist\\\":true,\\\"blacklist_samples_reached\\\":false,\\\"exclude_nan_labels\\\":true,\\\"verbosity\\\":20,\\\"_debug_log\\\":\\\"azureml_automl.log\\\",\\\"show_warnings\\\":false,\\\"model_explainability\\\":true,\\\"service_url\\\":null,\\\"sdk_url\\\":null,\\\"sdk_packages\\\":null,\\\"enable_onnx_compatible_models\\\":false,\\\"enable_split_onnx_featurizer_estimator_models\\\":false,\\\"vm_type\\\":\\\"STANDARD_DS12_V2\\\",\\\"telemetry_verbosity\\\":20,\\\"send_telemetry\\\":true,\\\"enable_dnn\\\":false,\\\"scenario\\\":\\\"SDK-1.13.0\\\",\\\"environment_label\\\":null,\\\"save_mlflow\\\":false,\\\"enable_categorical_indicators\\\":false,\\\"force_text_dnn\\\":false,\\\"enable_feature_sweeping\\\":true,\\\"enable_early_stopping\\\":true,\\\"early_stopping_n_iters\\\":10,\\\"arguments\\\":null,\\\"dataset_id\\\":null,\\\"hyperdrive_config\\\":null,\\\"validation_dataset_id\\\":null,\\\"run_source\\\":null,\\\"metrics\\\":null,\\\"enable_metric_confidence\\\":false,\\\"enable_ensembling\\\":true,\\\"enable_stack_ensembling\\\":true,\\\"ensemble_iterations\\\":15,\\\"enable_tf\\\":false,\\\"enable_subsampling\\\":null,\\\"subsample_seed\\\":null,\\\"enable_nimbusml\\\":false,\\\"enable_streaming\\\":false,\\\"force_streaming\\\":false,\\\"track_child_runs\\\":true,\\\"allowed_private_models\\\":[],\\\"label_column_name\\\":\\\"DEATH_EVENT\\\",\\\"weight_column_name\\\":null,\\\"cv_split_column_names\\\":null,\\\"enable_local_managed\\\":false,\\\"_local_managed_run_id\\\":null,\\\"cost_mode\\\":1,\\\"lag_length\\\":0,\\\"metric_operation\\\":\\\"maximize\\\",\\\"preprocess\\\":true}\", \"DataPrepJsonString\": \"{\\\\\\\"training_data\\\\\\\": {\\\\\\\"datasetId\\\\\\\": \\\\\\\"b3fe7597-97f6-428a-8e6a-771a4a775245\\\\\\\"}, \\\\\\\"datasets\\\\\\\": 0}\", \"EnableSubsampling\": null, \"runTemplate\": \"AutoML\", \"azureml.runsource\": \"automl\", \"display_task_type\": \"classification\", \"dependencies_versions\": \"{\\\"azureml-widgets\\\": \\\"1.36.0\\\", \\\"azureml-train\\\": \\\"1.36.0\\\", \\\"azureml-train-restclients-hyperdrive\\\": \\\"1.36.0\\\", \\\"azureml-train-core\\\": \\\"1.36.0\\\", \\\"azureml-train-automl\\\": \\\"1.36.0\\\", \\\"azureml-train-automl-runtime\\\": \\\"1.36.0\\\", \\\"azureml-train-automl-client\\\": \\\"1.36.0\\\", \\\"azureml-tensorboard\\\": \\\"1.36.0\\\", \\\"azureml-telemetry\\\": \\\"1.36.0\\\", \\\"azureml-sdk\\\": \\\"1.36.0\\\", \\\"azureml-samples\\\": \\\"0+unknown\\\", \\\"azureml-responsibleai\\\": \\\"1.36.0\\\", \\\"azureml-pipeline\\\": \\\"1.36.0\\\", \\\"azureml-pipeline-steps\\\": \\\"1.36.0\\\", \\\"azureml-pipeline-core\\\": \\\"1.36.0\\\", \\\"azureml-opendatasets\\\": \\\"1.36.0\\\", \\\"azureml-mlflow\\\": \\\"1.36.0\\\", \\\"azureml-interpret\\\": \\\"1.36.0\\\", \\\"azureml-inference-server-http\\\": \\\"0.4.1\\\", \\\"azureml-explain-model\\\": \\\"1.36.0\\\", \\\"azureml-defaults\\\": \\\"1.36.0\\\", \\\"azureml-dataset-runtime\\\": \\\"1.36.0\\\", \\\"azureml-dataprep\\\": \\\"2.24.4\\\", \\\"azureml-dataprep-rslex\\\": \\\"2.0.3\\\", \\\"azureml-dataprep-native\\\": \\\"38.0.0\\\", \\\"azureml-datadrift\\\": \\\"1.36.0\\\", \\\"azureml-core\\\": \\\"1.36.0.post2\\\", \\\"azureml-contrib-services\\\": \\\"1.36.0\\\", \\\"azureml-contrib-server\\\": \\\"1.36.0\\\", \\\"azureml-contrib-reinforcementlearning\\\": \\\"1.36.0\\\", \\\"azureml-contrib-pipeline-steps\\\": \\\"1.36.0\\\", \\\"azureml-contrib-notebook\\\": \\\"1.36.0\\\", \\\"azureml-contrib-fairness\\\": \\\"1.36.0\\\", \\\"azureml-contrib-dataset\\\": \\\"1.36.0\\\", \\\"azureml-contrib-automl-pipeline-steps\\\": \\\"1.36.0\\\", \\\"azureml-cli-common\\\": \\\"1.36.0\\\", \\\"azureml-automl-runtime\\\": \\\"1.36.0\\\", \\\"azureml-automl-dnn-nlp\\\": \\\"1.36.0\\\", \\\"azureml-automl-core\\\": \\\"1.36.0\\\", \\\"azureml-accel-models\\\": \\\"1.36.0\\\"}\", \"_aml_system_scenario_identification\": \"Remote.Parent\", \"ClientType\": \"SDK\", \"environment_cpu_name\": \"AzureML-AutoML\", \"environment_cpu_label\": \"prod\", \"environment_gpu_name\": \"AzureML-AutoML-GPU\", \"environment_gpu_label\": \"prod\", \"root_attribution\": \"automl\", \"attribution\": \"AutoML\", \"Orchestrator\": \"AutoML\", \"CancelUri\": \"https://southcentralus.api.azureml.ms/jasmine/v1.0/subscriptions/976ee174-3882-4721-b90a-b5fef6b72f24/resourceGroups/aml-quickstarts-170222/providers/Microsoft.MachineLearningServices/workspaces/quick-starts-ws-170222/experimentids/a7aec307-1584-4cee-ad0b-6abb5e0a1736/cancel/AutoML_d3d7619a-7438-4a73-a422-7771f8b72101\", \"azureml.git.repository_uri\": \"https://github.com/David929292/udacity-final.git\", \"mlflow.source.git.repoURL\": \"https://github.com/David929292/udacity-final.git\", \"azureml.git.branch\": \"master\", \"mlflow.source.git.branch\": \"master\", \"azureml.git.commit\": \"05ee50c14b6ab5753a79153daa8e550c81904c5a\", \"mlflow.source.git.commit\": \"05ee50c14b6ab5753a79153daa8e550c81904c5a\", \"azureml.git.dirty\": \"False\", \"ClientSdkVersion\": \"1.36.1\", \"snapshotId\": \"00000000-0000-0000-0000-000000000000\", \"SetupRunId\": \"AutoML_d3d7619a-7438-4a73-a422-7771f8b72101_setup\", \"SetupRunContainerId\": \"dcid.AutoML_d3d7619a-7438-4a73-a422-7771f8b72101_setup\", \"FeaturizationRunJsonPath\": \"featurizer_container.json\", \"FeaturizationRunId\": \"AutoML_d3d7619a-7438-4a73-a422-7771f8b72101_featurize\", \"ProblemInfoJsonString\": \"{\\\"dataset_num_categorical\\\": 0, \\\"is_sparse\\\": false, \\\"subsampling\\\": false, \\\"has_extra_col\\\": true, \\\"dataset_classes\\\": 2, \\\"dataset_features\\\": 12, \\\"dataset_samples\\\": 299, \\\"single_frequency_class_detected\\\": false}\", \"ModelExplainRunId\": \"AutoML_d3d7619a-7438-4a73-a422-7771f8b72101_ModelExplain\"}, \"tags\": {\"model_explain_run\": \"best_run\", \"_aml_system_azureml.automlComponent\": \"AutoML\", \"pipeline_id\": \"\", \"score\": \"\", \"predicted_cost\": \"\", \"fit_time\": \"\", \"training_percent\": \"\", \"iteration\": \"\", \"run_preprocessor\": \"\", \"run_algorithm\": \"\", \"dynamic_whitelisting_iterations\": \"<25>;<26>;<35>;<40>;<45>;<50>;<55>;<56>;<65>;<70>;\", \"_aml_system_azureml.automl_early_exit_message\": \"No scores improved over last 20 iterations, so experiment stopped early. This early stopping behavior can be disabled by setting enable_early_stopping = False in AutoMLConfig for notebook/python SDK runs.\", \"automl_best_child_run_id\": \"AutoML_d3d7619a-7438-4a73-a422-7771f8b72101_74\", \"model_explain_best_run_child_id\": \"AutoML_d3d7619a-7438-4a73-a422-7771f8b72101_74\"}, \"end_time_utc\": \"2021-12-29T13:38:52.786593Z\", \"status\": \"Completed\", \"log_files\": {}, \"log_groups\": [], \"run_duration\": \"0:21:04\", \"run_number\": \"1\", \"run_queued_details\": {\"status\": \"Completed\", \"details\": null}}, \"child_runs\": [{\"run_id\": \"AutoML_d3d7619a-7438-4a73-a422-7771f8b72101_setup\", \"run_number\": 2, \"metric\": null, \"status\": \"Completed\", \"run_type\": \"azureml.scriptrun\", \"training_percent\": null, \"start_time\": \"2021-12-29T13:22:06.864508Z\", \"end_time\": \"2021-12-29T13:22:22.473414Z\", \"created_time\": \"2021-12-29T13:18:01.100062Z\", \"created_time_dt\": \"2021-12-29T13:18:01.100062Z\", \"duration\": \"0:04:21\", \"iteration\": null, \"goal\": null, \"run_name\": \"Completed\", \"run_properties\": null}, {\"run_id\": \"AutoML_d3d7619a-7438-4a73-a422-7771f8b72101_featurize\", \"run_number\": 3, \"metric\": null, \"status\": \"Completed\", \"run_type\": \"automl.featurization\", \"training_percent\": null, \"start_time\": \"2021-12-29T13:22:23.329909Z\", \"end_time\": \"2021-12-29T13:23:10.755605Z\", \"created_time\": \"2021-12-29T13:22:22.919735Z\", \"created_time_dt\": \"2021-12-29T13:22:22.919735Z\", \"duration\": \"0:00:47\", \"iteration\": null, \"goal\": null, \"run_name\": \"Completed\", \"run_properties\": null}, {\"run_id\": \"AutoML_d3d7619a-7438-4a73-a422-7771f8b72101_0\", \"run_number\": 5, \"metric\": null, \"status\": \"Completed\", \"run_type\": \"azureml.scriptrun\", \"training_percent\": \"100\", \"start_time\": \"2021-12-29T13:23:11.854196Z\", \"end_time\": \"2021-12-29T13:25:57.728343Z\", \"created_time\": \"2021-12-29T13:23:11.854196Z\", \"created_time_dt\": \"2021-12-29T13:23:11.854196Z\", \"duration\": \"0:02:45\", \"iteration\": \"0\", \"goal\": \"AUC_weighted_max\", \"run_name\": \"MaxAbsScaler, LightGBM\", \"run_properties\": \"copy=True\", \"primary_metric\": 0.88310347, \"best_metric\": 0.88310347}, {\"run_id\": \"AutoML_d3d7619a-7438-4a73-a422-7771f8b72101_8\", \"run_number\": 6, \"metric\": null, \"status\": \"Completed\", \"run_type\": \"azureml.scriptrun\", \"training_percent\": \"100\", \"start_time\": \"2021-12-29T13:25:15.909838Z\", \"end_time\": \"2021-12-29T13:26:07.12887Z\", \"created_time\": \"2021-12-29T13:23:11.88232Z\", \"created_time_dt\": \"2021-12-29T13:23:11.88232Z\", \"duration\": \"0:02:55\", \"iteration\": \"8\", \"goal\": \"AUC_weighted_max\", \"run_name\": \"RobustScaler, KNN\", \"run_properties\": \"copy=True, quantile_range=[25, 75], with_centering=False,\\n             with_scaling=True\", \"primary_metric\": 0.83326588, \"best_metric\": 0.9028613}, {\"run_id\": \"AutoML_d3d7619a-7438-4a73-a422-7771f8b72101_2\", \"run_number\": 7, \"metric\": null, \"status\": \"Completed\", \"run_type\": \"azureml.scriptrun\", \"training_percent\": \"100\", \"start_time\": \"2021-12-29T13:23:11.919022Z\", \"end_time\": \"2021-12-29T13:24:37.221648Z\", \"created_time\": \"2021-12-29T13:23:11.919022Z\", \"created_time_dt\": \"2021-12-29T13:23:11.919022Z\", \"duration\": \"0:01:25\", \"iteration\": \"2\", \"goal\": \"AUC_weighted_max\", \"run_name\": \"MaxAbsScaler, ExtremeRandomTrees\", \"run_properties\": \"copy=True\", \"primary_metric\": 0.8847716, \"best_metric\": 0.8847716}, {\"run_id\": \"AutoML_d3d7619a-7438-4a73-a422-7771f8b72101_3\", \"run_number\": 8, \"metric\": null, \"status\": \"Completed\", \"run_type\": \"azureml.scriptrun\", \"training_percent\": \"100\", \"start_time\": \"2021-12-29T13:23:11.912944Z\", \"end_time\": \"2021-12-29T13:23:40.527012Z\", \"created_time\": \"2021-12-29T13:23:11.912944Z\", \"created_time_dt\": \"2021-12-29T13:23:11.912944Z\", \"duration\": \"0:00:28\", \"iteration\": \"3\", \"goal\": \"AUC_weighted_max\", \"run_name\": \"MaxAbsScaler, RandomForest\", \"run_properties\": \"copy=True\", \"primary_metric\": 0.89400959, \"best_metric\": 0.89400959}, {\"run_id\": \"AutoML_d3d7619a-7438-4a73-a422-7771f8b72101_5\", \"run_number\": 9, \"metric\": null, \"status\": \"Completed\", \"run_type\": \"azureml.scriptrun\", \"training_percent\": \"100\", \"start_time\": \"2021-12-29T13:25:16.153119Z\", \"end_time\": \"2021-12-29T13:26:07.272273Z\", \"created_time\": \"2021-12-29T13:23:11.935219Z\", \"created_time_dt\": \"2021-12-29T13:23:11.935219Z\", \"duration\": \"0:02:55\", \"iteration\": \"5\", \"goal\": \"AUC_weighted_max\", \"run_name\": \"StandardScalerWrapper, KNN\", \"run_properties\": \"\\n    copy=True,\\n    with_mean=True,\\n    with_std=False\\n\", \"primary_metric\": 0.50585726, \"best_metric\": 0.9028613}, {\"run_id\": \"AutoML_d3d7619a-7438-4a73-a422-7771f8b72101_1\", \"run_number\": 10, \"metric\": null, \"status\": \"Completed\", \"run_type\": \"azureml.scriptrun\", \"training_percent\": \"100\", \"start_time\": \"2021-12-29T13:25:15.75991Z\", \"end_time\": \"2021-12-29T13:26:07.658223Z\", \"created_time\": \"2021-12-29T13:23:11.920723Z\", \"created_time_dt\": \"2021-12-29T13:23:11.920723Z\", \"duration\": \"0:02:55\", \"iteration\": \"1\", \"goal\": \"AUC_weighted_max\", \"run_name\": \"MaxAbsScaler, XGBoostClassifier\", \"run_properties\": \"copy=True\", \"primary_metric\": 0.88473694, \"best_metric\": 0.88473694}, {\"run_id\": \"AutoML_d3d7619a-7438-4a73-a422-7771f8b72101_4\", \"run_number\": 11, \"metric\": null, \"status\": \"Completed\", \"run_type\": \"azureml.scriptrun\", \"training_percent\": \"100\", \"start_time\": \"2021-12-29T13:23:11.910596Z\", \"end_time\": \"2021-12-29T13:24:10.019703Z\", \"created_time\": \"2021-12-29T13:23:11.910596Z\", \"created_time_dt\": \"2021-12-29T13:23:11.910596Z\", \"duration\": \"0:00:58\", \"iteration\": \"4\", \"goal\": \"AUC_weighted_max\", \"run_name\": \"StandardScalerWrapper, LightGBM\", \"run_properties\": \"\\n    copy=True,\\n    with_mean=False,\\n    with_std=True\\n\", \"primary_metric\": 0.9028613, \"best_metric\": 0.9028613}, {\"run_id\": \"AutoML_d3d7619a-7438-4a73-a422-7771f8b72101_6\", \"run_number\": 12, \"metric\": null, \"status\": \"Completed\", \"run_type\": \"azureml.scriptrun\", \"training_percent\": \"100\", \"start_time\": \"2021-12-29T13:23:11.943401Z\", \"end_time\": \"2021-12-29T13:25:07.876472Z\", \"created_time\": \"2021-12-29T13:23:11.943401Z\", \"created_time_dt\": \"2021-12-29T13:23:11.943401Z\", \"duration\": \"0:01:55\", \"iteration\": \"6\", \"goal\": \"AUC_weighted_max\", \"run_name\": \"SparseNormalizer, XGBoostClassifier\", \"run_properties\": \"copy=True, norm='max'\", \"primary_metric\": 0.86723315, \"best_metric\": 0.9028613}, {\"run_id\": \"AutoML_d3d7619a-7438-4a73-a422-7771f8b72101_7\", \"run_number\": 13, \"metric\": null, \"status\": \"Completed\", \"run_type\": \"azureml.scriptrun\", \"training_percent\": \"100\", \"start_time\": \"2021-12-29T13:25:16.051504Z\", \"end_time\": \"2021-12-29T13:26:05.614402Z\", \"created_time\": \"2021-12-29T13:23:11.904909Z\", \"created_time_dt\": \"2021-12-29T13:23:11.904909Z\", \"duration\": \"0:02:53\", \"iteration\": \"7\", \"goal\": \"AUC_weighted_max\", \"run_name\": \"SparseNormalizer, RandomForest\", \"run_properties\": \"copy=True, norm='l2'\", \"primary_metric\": 0.8938913, \"best_metric\": 0.9028613}, {\"run_id\": \"AutoML_d3d7619a-7438-4a73-a422-7771f8b72101_9\", \"run_number\": 14, \"metric\": null, \"status\": \"Completed\", \"run_type\": \"azureml.scriptrun\", \"training_percent\": \"100\", \"start_time\": \"2021-12-29T13:23:44.372761Z\", \"end_time\": \"2021-12-29T13:26:02.555619Z\", \"created_time\": \"2021-12-29T13:23:44.372761Z\", \"created_time_dt\": \"2021-12-29T13:23:44.372761Z\", \"duration\": \"0:02:18\", \"iteration\": \"9\", \"goal\": \"AUC_weighted_max\", \"run_name\": \"MinMaxScaler, RandomForest\", \"run_properties\": \"copy=True, feature_range=(0, 1\", \"primary_metric\": 0.90018652, \"best_metric\": 0.9028613}, {\"run_id\": \"AutoML_d3d7619a-7438-4a73-a422-7771f8b72101_10\", \"run_number\": 15, \"metric\": null, \"status\": \"Completed\", \"run_type\": \"azureml.scriptrun\", \"training_percent\": \"100\", \"start_time\": \"2021-12-29T13:24:13.967421Z\", \"end_time\": \"2021-12-29T13:25:44.066335Z\", \"created_time\": \"2021-12-29T13:24:13.967421Z\", \"created_time_dt\": \"2021-12-29T13:24:13.967421Z\", \"duration\": \"0:01:30\", \"iteration\": \"10\", \"goal\": \"AUC_weighted_max\", \"run_name\": \"StandardScalerWrapper, LogisticRegression\", \"run_properties\": \"\\n    copy=True,\\n    with_mean=True,\\n    with_std=True\\n\", \"primary_metric\": 0.86383871, \"best_metric\": 0.9028613}, {\"run_id\": \"AutoML_d3d7619a-7438-4a73-a422-7771f8b72101_11\", \"run_number\": 16, \"metric\": null, \"status\": \"Completed\", \"run_type\": \"azureml.scriptrun\", \"training_percent\": \"100\", \"start_time\": \"2021-12-29T13:24:41.153345Z\", \"end_time\": \"2021-12-29T13:26:27.627603Z\", \"created_time\": \"2021-12-29T13:24:41.153345Z\", \"created_time_dt\": \"2021-12-29T13:24:41.153345Z\", \"duration\": \"0:01:46\", \"iteration\": \"11\", \"goal\": \"AUC_weighted_max\", \"run_name\": \"StandardScalerWrapper, SVM\", \"run_properties\": \"\\n    copy=True,\\n    with_mean=True,\\n    with_std=True\\n\", \"primary_metric\": 0.79962588, \"best_metric\": 0.9028613}, {\"run_id\": \"AutoML_d3d7619a-7438-4a73-a422-7771f8b72101_12\", \"run_number\": 17, \"metric\": null, \"status\": \"Completed\", \"run_type\": \"azureml.scriptrun\", \"training_percent\": \"100\", \"start_time\": \"2021-12-29T13:25:11.762966Z\", \"end_time\": \"2021-12-29T13:26:14.270876Z\", \"created_time\": \"2021-12-29T13:25:11.762966Z\", \"created_time_dt\": \"2021-12-29T13:25:11.762966Z\", \"duration\": \"0:01:02\", \"iteration\": \"12\", \"goal\": \"AUC_weighted_max\", \"run_name\": \"StandardScalerWrapper, XGBoostClassifier\", \"run_properties\": \"\\n    copy=True,\\n    with_mean=False,\\n    with_std=False\\n\", \"primary_metric\": 0.8845018, \"best_metric\": 0.9028613}, {\"run_id\": \"AutoML_d3d7619a-7438-4a73-a422-7771f8b72101_13\", \"run_number\": 18, \"metric\": null, \"status\": \"Completed\", \"run_type\": \"azureml.scriptrun\", \"training_percent\": \"100\", \"start_time\": \"2021-12-29T13:25:48.106208Z\", \"end_time\": \"2021-12-29T13:26:26.008421Z\", \"created_time\": \"2021-12-29T13:25:48.106208Z\", \"created_time_dt\": \"2021-12-29T13:25:48.106208Z\", \"duration\": \"0:00:37\", \"iteration\": \"13\", \"goal\": \"AUC_weighted_max\", \"run_name\": \"SparseNormalizer, KNN\", \"run_properties\": \"copy=True, norm='max'\", \"primary_metric\": 0.74640116, \"best_metric\": 0.9028613}, {\"run_id\": \"AutoML_d3d7619a-7438-4a73-a422-7771f8b72101_14\", \"run_number\": 19, \"metric\": null, \"status\": \"Completed\", \"run_type\": \"azureml.scriptrun\", \"training_percent\": \"100\", \"start_time\": \"2021-12-29T13:26:01.445437Z\", \"end_time\": \"2021-12-29T13:26:30.26371Z\", \"created_time\": \"2021-12-29T13:26:01.445437Z\", \"created_time_dt\": \"2021-12-29T13:26:01.445437Z\", \"duration\": \"0:00:28\", \"iteration\": \"14\", \"goal\": \"AUC_weighted_max\", \"run_name\": \"RobustScaler, ExtremeRandomTrees\", \"run_properties\": \"copy=True, quantile_range=[10, 90], with_centering=True,\\n             with_scaling=False\", \"primary_metric\": 0.89677444, \"best_metric\": 0.9028613}, {\"run_id\": \"AutoML_d3d7619a-7438-4a73-a422-7771f8b72101_15\", \"run_number\": 20, \"metric\": null, \"status\": \"Completed\", \"run_type\": \"azureml.scriptrun\", \"training_percent\": \"100\", \"start_time\": \"2021-12-29T13:26:06.096271Z\", \"end_time\": \"2021-12-29T13:26:59.378593Z\", \"created_time\": \"2021-12-29T13:26:06.096271Z\", \"created_time_dt\": \"2021-12-29T13:26:06.096271Z\", \"duration\": \"0:00:53\", \"iteration\": \"15\", \"goal\": \"AUC_weighted_max\", \"run_name\": \"SparseNormalizer, XGBoostClassifier\", \"run_properties\": \"copy=True, norm='max'\", \"primary_metric\": 0.86227326, \"best_metric\": 0.9028613}, {\"run_id\": \"AutoML_d3d7619a-7438-4a73-a422-7771f8b72101_16\", \"run_number\": 21, \"metric\": null, \"status\": \"Completed\", \"run_type\": \"azureml.scriptrun\", \"training_percent\": \"100\", \"start_time\": \"2021-12-29T13:26:10.708155Z\", \"end_time\": \"2021-12-29T13:27:45.342976Z\", \"created_time\": \"2021-12-29T13:26:10.708155Z\", \"created_time_dt\": \"2021-12-29T13:26:10.708155Z\", \"duration\": \"0:01:34\", \"iteration\": \"16\", \"goal\": \"AUC_weighted_max\", \"run_name\": \"MinMaxScaler, ExtremeRandomTrees\", \"run_properties\": \"copy=True, feature_range=(0, 1\", \"primary_metric\": 0.90319649, \"best_metric\": 0.90319649}, {\"run_id\": \"AutoML_d3d7619a-7438-4a73-a422-7771f8b72101_17\", \"run_number\": 22, \"metric\": null, \"status\": \"Completed\", \"run_type\": \"azureml.scriptrun\", \"training_percent\": \"100\", \"start_time\": \"2021-12-29T13:26:10.735945Z\", \"end_time\": \"2021-12-29T13:27:44.038467Z\", \"created_time\": \"2021-12-29T13:26:10.735945Z\", \"created_time_dt\": \"2021-12-29T13:26:10.735945Z\", \"duration\": \"0:01:33\", \"iteration\": \"17\", \"goal\": \"AUC_weighted_max\", \"run_name\": \"MinMaxScaler, ExtremeRandomTrees\", \"run_properties\": \"copy=True, feature_range=(0, 1\", \"primary_metric\": 0.89720632, \"best_metric\": 0.90319649}, {\"run_id\": \"AutoML_d3d7619a-7438-4a73-a422-7771f8b72101_18\", \"run_number\": 23, \"metric\": null, \"status\": \"Completed\", \"run_type\": \"azureml.scriptrun\", \"training_percent\": \"100\", \"start_time\": \"2021-12-29T13:26:15.949038Z\", \"end_time\": \"2021-12-29T13:27:43.974817Z\", \"created_time\": \"2021-12-29T13:26:15.949038Z\", \"created_time_dt\": \"2021-12-29T13:26:15.949038Z\", \"duration\": \"0:01:28\", \"iteration\": \"18\", \"goal\": \"AUC_weighted_max\", \"run_name\": \"SparseNormalizer, LightGBM\", \"run_properties\": \"copy=True, norm='l1'\", \"primary_metric\": 0.88535471, \"best_metric\": 0.90319649}, {\"run_id\": \"AutoML_d3d7619a-7438-4a73-a422-7771f8b72101_19\", \"run_number\": 24, \"metric\": null, \"status\": \"Completed\", \"run_type\": \"azureml.scriptrun\", \"training_percent\": \"100\", \"start_time\": \"2021-12-29T13:26:15.970568Z\", \"end_time\": \"2021-12-29T13:27:49.063244Z\", \"created_time\": \"2021-12-29T13:26:15.970568Z\", \"created_time_dt\": \"2021-12-29T13:26:15.970568Z\", \"duration\": \"0:01:33\", \"iteration\": \"19\", \"goal\": \"AUC_weighted_max\", \"run_name\": \"MaxAbsScaler, ExtremeRandomTrees\", \"run_properties\": \"copy=True\", \"primary_metric\": 0.87495296, \"best_metric\": 0.90319649}, {\"run_id\": \"AutoML_d3d7619a-7438-4a73-a422-7771f8b72101_20\", \"run_number\": 25, \"metric\": null, \"status\": \"Completed\", \"run_type\": \"azureml.scriptrun\", \"training_percent\": \"100\", \"start_time\": \"2021-12-29T13:26:20.764477Z\", \"end_time\": \"2021-12-29T13:27:44.448528Z\", \"created_time\": \"2021-12-29T13:26:20.764477Z\", \"created_time_dt\": \"2021-12-29T13:26:20.764477Z\", \"duration\": \"0:01:23\", \"iteration\": \"20\", \"goal\": \"AUC_weighted_max\", \"run_name\": \"StandardScalerWrapper, XGBoostClassifier\", \"run_properties\": \"\\n    copy=True,\\n    with_mean=False,\\n    with_std=False\\n\", \"primary_metric\": 0.89609125, \"best_metric\": 0.90319649}, {\"run_id\": \"AutoML_d3d7619a-7438-4a73-a422-7771f8b72101_21\", \"run_number\": 26, \"metric\": null, \"status\": \"Completed\", \"run_type\": \"azureml.scriptrun\", \"training_percent\": \"100\", \"start_time\": \"2021-12-29T13:26:30.724299Z\", \"end_time\": \"2021-12-29T13:27:44.024879Z\", \"created_time\": \"2021-12-29T13:26:30.724299Z\", \"created_time_dt\": \"2021-12-29T13:26:30.724299Z\", \"duration\": \"0:01:13\", \"iteration\": \"21\", \"goal\": \"AUC_weighted_max\", \"run_name\": \"StandardScalerWrapper, RandomForest\", \"run_properties\": \"\\n    copy=True,\\n    with_mean=False,\\n    with_std=False\\n\", \"primary_metric\": 0.90654916, \"best_metric\": 0.90654916}, {\"run_id\": \"AutoML_d3d7619a-7438-4a73-a422-7771f8b72101_22\", \"run_number\": 27, \"metric\": null, \"status\": \"Completed\", \"run_type\": \"azureml.scriptrun\", \"training_percent\": \"100\", \"start_time\": \"2021-12-29T13:26:35.886395Z\", \"end_time\": \"2021-12-29T13:28:17.560336Z\", \"created_time\": \"2021-12-29T13:26:35.886395Z\", \"created_time_dt\": \"2021-12-29T13:26:35.886395Z\", \"duration\": \"0:01:41\", \"iteration\": \"22\", \"goal\": \"AUC_weighted_max\", \"run_name\": \"MaxAbsScaler, LightGBM\", \"run_properties\": \"copy=True\", \"primary_metric\": 0.89822963, \"best_metric\": 0.90654916}, {\"run_id\": \"AutoML_d3d7619a-7438-4a73-a422-7771f8b72101_23\", \"run_number\": 28, \"metric\": null, \"status\": \"Completed\", \"run_type\": \"azureml.scriptrun\", \"training_percent\": \"100\", \"start_time\": \"2021-12-29T13:26:35.905295Z\", \"end_time\": \"2021-12-29T13:27:42.945107Z\", \"created_time\": \"2021-12-29T13:26:35.905295Z\", \"created_time_dt\": \"2021-12-29T13:26:35.905295Z\", \"duration\": \"0:01:07\", \"iteration\": \"23\", \"goal\": \"AUC_weighted_max\", \"run_name\": \"MaxAbsScaler, LogisticRegression\", \"run_properties\": \"copy=True\", \"primary_metric\": 0.86742265, \"best_metric\": 0.90654916}, {\"run_id\": \"AutoML_d3d7619a-7438-4a73-a422-7771f8b72101_24\", \"run_number\": 29, \"metric\": null, \"status\": \"Completed\", \"run_type\": \"azureml.scriptrun\", \"training_percent\": \"100\", \"start_time\": \"2021-12-29T13:27:02.928668Z\", \"end_time\": \"2021-12-29T13:29:30.260947Z\", \"created_time\": \"2021-12-29T13:27:02.928668Z\", \"created_time_dt\": \"2021-12-29T13:27:02.928668Z\", \"duration\": \"0:02:27\", \"iteration\": \"24\", \"goal\": \"AUC_weighted_max\", \"run_name\": \"StandardScalerWrapper, ExtremeRandomTrees\", \"run_properties\": \"\\n    copy=True,\\n    with_mean=False,\\n    with_std=True\\n\", \"primary_metric\": 0.91013634, \"best_metric\": 0.91013634}, {\"run_id\": \"AutoML_d3d7619a-7438-4a73-a422-7771f8b72101_25\", \"run_number\": 30, \"metric\": null, \"status\": \"Completed\", \"run_type\": \"azureml.scriptrun\", \"training_percent\": \"100\", \"start_time\": \"2021-12-29T13:27:48.473134Z\", \"end_time\": \"2021-12-29T13:28:58.883726Z\", \"created_time\": \"2021-12-29T13:27:48.473134Z\", \"created_time_dt\": \"2021-12-29T13:27:48.473134Z\", \"duration\": \"0:01:10\", \"iteration\": \"25\", \"goal\": \"AUC_weighted_max\", \"run_name\": \"RobustScaler, LightGBM\", \"run_properties\": \"copy=True, quantile_range=[10, 90], with_centering=False,\\n             with_scaling=False\", \"primary_metric\": 0.86683796, \"best_metric\": 0.91013634}, {\"run_id\": \"AutoML_d3d7619a-7438-4a73-a422-7771f8b72101_26\", \"run_number\": 31, \"metric\": null, \"status\": \"Completed\", \"run_type\": \"azureml.scriptrun\", \"training_percent\": \"100\", \"start_time\": \"2021-12-29T13:27:52.915546Z\", \"end_time\": \"2021-12-29T13:29:48.9605Z\", \"created_time\": \"2021-12-29T13:27:52.915546Z\", \"created_time_dt\": \"2021-12-29T13:27:52.915546Z\", \"duration\": \"0:01:56\", \"iteration\": \"26\", \"goal\": \"AUC_weighted_max\", \"run_name\": \"StandardScalerWrapper, RandomForest\", \"run_properties\": \"\\n    copy=True,\\n    with_mean=True,\\n    with_std=False\\n\", \"primary_metric\": 0.77329171, \"best_metric\": 0.91013634}, {\"run_id\": \"AutoML_d3d7619a-7438-4a73-a422-7771f8b72101_28\", \"run_number\": 32, \"metric\": null, \"status\": \"Completed\", \"run_type\": \"azureml.scriptrun\", \"training_percent\": \"100\", \"start_time\": \"2021-12-29T13:27:52.928772Z\", \"end_time\": \"2021-12-29T13:29:49.022695Z\", \"created_time\": \"2021-12-29T13:27:52.928772Z\", \"created_time_dt\": \"2021-12-29T13:27:52.928772Z\", \"duration\": \"0:01:56\", \"iteration\": \"28\", \"goal\": \"AUC_weighted_max\", \"run_name\": \"MaxAbsScaler, LightGBM\", \"run_properties\": \"copy=True\", \"primary_metric\": 0.90063597, \"best_metric\": 0.91013634}, {\"run_id\": \"AutoML_d3d7619a-7438-4a73-a422-7771f8b72101_27\", \"run_number\": 33, \"metric\": null, \"status\": \"Completed\", \"run_type\": \"azureml.scriptrun\", \"training_percent\": \"100\", \"start_time\": \"2021-12-29T13:27:52.944355Z\", \"end_time\": \"2021-12-29T13:29:50.137814Z\", \"created_time\": \"2021-12-29T13:27:52.944355Z\", \"created_time_dt\": \"2021-12-29T13:27:52.944355Z\", \"duration\": \"0:01:57\", \"iteration\": \"27\", \"goal\": \"AUC_weighted_max\", \"run_name\": \"MinMaxScaler, RandomForest\", \"run_properties\": \"copy=True, feature_range=(0, 1\", \"primary_metric\": 0.90526778, \"best_metric\": 0.91013634}, {\"run_id\": \"AutoML_d3d7619a-7438-4a73-a422-7771f8b72101_30\", \"run_number\": 34, \"metric\": null, \"status\": \"Completed\", \"run_type\": \"azureml.scriptrun\", \"training_percent\": \"100\", \"start_time\": \"2021-12-29T13:27:52.960937Z\", \"end_time\": \"2021-12-29T13:29:49.641781Z\", \"created_time\": \"2021-12-29T13:27:52.960937Z\", \"created_time_dt\": \"2021-12-29T13:27:52.960937Z\", \"duration\": \"0:01:56\", \"iteration\": \"30\", \"goal\": \"AUC_weighted_max\", \"run_name\": \"MaxAbsScaler, GradientBoosting\", \"run_properties\": \"copy=True\", \"primary_metric\": 0.9131287, \"best_metric\": 0.9131287}, {\"run_id\": \"AutoML_d3d7619a-7438-4a73-a422-7771f8b72101_31\", \"run_number\": 35, \"metric\": null, \"status\": \"Completed\", \"run_type\": \"azureml.scriptrun\", \"training_percent\": \"100\", \"start_time\": \"2021-12-29T13:27:52.962302Z\", \"end_time\": \"2021-12-29T13:29:51.512053Z\", \"created_time\": \"2021-12-29T13:27:52.962302Z\", \"created_time_dt\": \"2021-12-29T13:27:52.962302Z\", \"duration\": \"0:01:58\", \"iteration\": \"31\", \"goal\": \"AUC_weighted_max\", \"run_name\": \"StandardScalerWrapper, ExtremeRandomTrees\", \"run_properties\": \"\\n    copy=True,\\n    with_mean=True,\\n    with_std=True\\n\", \"primary_metric\": 0.86867238, \"best_metric\": 0.9131287}, {\"run_id\": \"AutoML_d3d7619a-7438-4a73-a422-7771f8b72101_29\", \"run_number\": 36, \"metric\": null, \"status\": \"Completed\", \"run_type\": \"azureml.scriptrun\", \"training_percent\": \"100\", \"start_time\": \"2021-12-29T13:27:52.967426Z\", \"end_time\": \"2021-12-29T13:29:56.952271Z\", \"created_time\": \"2021-12-29T13:27:52.967426Z\", \"created_time_dt\": \"2021-12-29T13:27:52.967426Z\", \"duration\": \"0:02:03\", \"iteration\": \"29\", \"goal\": \"AUC_weighted_max\", \"run_name\": \"MaxAbsScaler, ExtremeRandomTrees\", \"run_properties\": \"copy=True\", \"primary_metric\": 0.88011823, \"best_metric\": 0.91013634}, {\"run_id\": \"AutoML_d3d7619a-7438-4a73-a422-7771f8b72101_32\", \"run_number\": 37, \"metric\": null, \"status\": \"Completed\", \"run_type\": \"azureml.scriptrun\", \"training_percent\": \"100\", \"start_time\": \"2021-12-29T13:28:19.413422Z\", \"end_time\": \"2021-12-29T13:29:56.04545Z\", \"created_time\": \"2021-12-29T13:28:19.413422Z\", \"created_time_dt\": \"2021-12-29T13:28:19.413422Z\", \"duration\": \"0:01:36\", \"iteration\": \"32\", \"goal\": \"AUC_weighted_max\", \"run_name\": \"StandardScalerWrapper, RandomForest\", \"run_properties\": \"\\n    copy=True,\\n    with_mean=True,\\n    with_std=False\\n\", \"primary_metric\": 0.90645197, \"best_metric\": 0.9131287}, {\"run_id\": \"AutoML_d3d7619a-7438-4a73-a422-7771f8b72101_33\", \"run_number\": 38, \"metric\": null, \"status\": \"Completed\", \"run_type\": \"azureml.scriptrun\", \"training_percent\": \"100\", \"start_time\": \"2021-12-29T13:29:00.635911Z\", \"end_time\": \"2021-12-29T13:30:23.172097Z\", \"created_time\": \"2021-12-29T13:29:00.635911Z\", \"created_time_dt\": \"2021-12-29T13:29:00.635911Z\", \"duration\": \"0:01:22\", \"iteration\": \"33\", \"goal\": \"AUC_weighted_max\", \"run_name\": \"StandardScalerWrapper, RandomForest\", \"run_properties\": \"\\n    copy=True,\\n    with_mean=False,\\n    with_std=True\\n\", \"primary_metric\": 0.91037071, \"best_metric\": 0.9131287}, {\"run_id\": \"AutoML_d3d7619a-7438-4a73-a422-7771f8b72101_34\", \"run_number\": 39, \"metric\": null, \"status\": \"Completed\", \"run_type\": \"azureml.scriptrun\", \"training_percent\": \"100\", \"start_time\": \"2021-12-29T13:29:32.324366Z\", \"end_time\": \"2021-12-29T13:30:38.415217Z\", \"created_time\": \"2021-12-29T13:29:32.324366Z\", \"created_time_dt\": \"2021-12-29T13:29:32.324366Z\", \"duration\": \"0:01:06\", \"iteration\": \"34\", \"goal\": \"AUC_weighted_max\", \"run_name\": \"MaxAbsScaler, GradientBoosting\", \"run_properties\": \"copy=True\", \"primary_metric\": 0.89466986, \"best_metric\": 0.9131287}, {\"run_id\": \"AutoML_d3d7619a-7438-4a73-a422-7771f8b72101_35\", \"run_number\": 40, \"metric\": null, \"status\": \"Completed\", \"run_type\": \"azureml.scriptrun\", \"training_percent\": \"100\", \"start_time\": \"2021-12-29T13:29:51.975274Z\", \"end_time\": \"2021-12-29T13:31:07.924327Z\", \"created_time\": \"2021-12-29T13:29:51.975274Z\", \"created_time_dt\": \"2021-12-29T13:29:51.975274Z\", \"duration\": \"0:01:15\", \"iteration\": \"35\", \"goal\": \"AUC_weighted_max\", \"run_name\": \"MaxAbsScaler, ExtremeRandomTrees\", \"run_properties\": \"copy=True\", \"primary_metric\": 0.88863448, \"best_metric\": 0.9131287}, {\"run_id\": \"AutoML_d3d7619a-7438-4a73-a422-7771f8b72101_36\", \"run_number\": 41, \"metric\": null, \"status\": \"Completed\", \"run_type\": \"azureml.scriptrun\", \"training_percent\": \"100\", \"start_time\": \"2021-12-29T13:29:51.997125Z\", \"end_time\": \"2021-12-29T13:31:50.111971Z\", \"created_time\": \"2021-12-29T13:29:51.997125Z\", \"created_time_dt\": \"2021-12-29T13:29:51.997125Z\", \"duration\": \"0:01:58\", \"iteration\": \"36\", \"goal\": \"AUC_weighted_max\", \"run_name\": \"StandardScalerWrapper, RandomForest\", \"run_properties\": \"\\n    copy=True,\\n    with_mean=False,\\n    with_std=True\\n\", \"primary_metric\": 0.90682051, \"best_metric\": 0.9131287}, {\"run_id\": \"AutoML_d3d7619a-7438-4a73-a422-7771f8b72101_39\", \"run_number\": 42, \"metric\": null, \"status\": \"Completed\", \"run_type\": \"azureml.scriptrun\", \"training_percent\": \"100\", \"start_time\": \"2021-12-29T13:29:54.973126Z\", \"end_time\": \"2021-12-29T13:31:47.045366Z\", \"created_time\": \"2021-12-29T13:29:54.973126Z\", \"created_time_dt\": \"2021-12-29T13:29:54.973126Z\", \"duration\": \"0:01:52\", \"iteration\": \"39\", \"goal\": \"AUC_weighted_max\", \"run_name\": \"RobustScaler, LightGBM\", \"run_properties\": \"copy=True, quantile_range=[25, 75], with_centering=True,\\n             with_scaling=True\", \"primary_metric\": 0.89090939, \"best_metric\": 0.9131287}, {\"run_id\": \"AutoML_d3d7619a-7438-4a73-a422-7771f8b72101_38\", \"run_number\": 43, \"metric\": null, \"status\": \"Completed\", \"run_type\": \"azureml.scriptrun\", \"training_percent\": \"100\", \"start_time\": \"2021-12-29T13:29:54.975531Z\", \"end_time\": \"2021-12-29T13:31:47.153733Z\", \"created_time\": \"2021-12-29T13:29:54.975531Z\", \"created_time_dt\": \"2021-12-29T13:29:54.975531Z\", \"duration\": \"0:01:52\", \"iteration\": \"38\", \"goal\": \"AUC_weighted_max\", \"run_name\": \"StandardScalerWrapper, XGBoostClassifier\", \"run_properties\": \"\\n    copy=True,\\n    with_mean=False,\\n    with_std=False\\n\", \"primary_metric\": 0.90406489, \"best_metric\": 0.9131287}, {\"run_id\": \"AutoML_d3d7619a-7438-4a73-a422-7771f8b72101_37\", \"run_number\": 44, \"metric\": null, \"status\": \"Completed\", \"run_type\": \"azureml.scriptrun\", \"training_percent\": \"100\", \"start_time\": \"2021-12-29T13:29:54.978533Z\", \"end_time\": \"2021-12-29T13:31:46.731584Z\", \"created_time\": \"2021-12-29T13:29:54.978533Z\", \"created_time_dt\": \"2021-12-29T13:29:54.978533Z\", \"duration\": \"0:01:51\", \"iteration\": \"37\", \"goal\": \"AUC_weighted_max\", \"run_name\": \"StandardScalerWrapper, XGBoostClassifier\", \"run_properties\": \"\\n    copy=True,\\n    with_mean=False,\\n    with_std=False\\n\", \"primary_metric\": 0.90869393, \"best_metric\": 0.9131287}, {\"run_id\": \"AutoML_d3d7619a-7438-4a73-a422-7771f8b72101_40\", \"run_number\": 45, \"metric\": null, \"status\": \"Completed\", \"run_type\": \"azureml.scriptrun\", \"training_percent\": \"100\", \"start_time\": \"2021-12-29T13:29:58.844045Z\", \"end_time\": \"2021-12-29T13:31:46.235584Z\", \"created_time\": \"2021-12-29T13:29:58.844045Z\", \"created_time_dt\": \"2021-12-29T13:29:58.844045Z\", \"duration\": \"0:01:47\", \"iteration\": \"40\", \"goal\": \"AUC_weighted_max\", \"run_name\": \"MaxAbsScaler, GradientBoosting\", \"run_properties\": \"copy=True\", \"primary_metric\": 0.87858863, \"best_metric\": 0.9131287}, {\"run_id\": \"AutoML_d3d7619a-7438-4a73-a422-7771f8b72101_41\", \"run_number\": 46, \"metric\": null, \"status\": \"Completed\", \"run_type\": \"azureml.scriptrun\", \"training_percent\": \"100\", \"start_time\": \"2021-12-29T13:30:01.579894Z\", \"end_time\": \"2021-12-29T13:31:45.061965Z\", \"created_time\": \"2021-12-29T13:30:01.579894Z\", \"created_time_dt\": \"2021-12-29T13:30:01.579894Z\", \"duration\": \"0:01:43\", \"iteration\": \"41\", \"goal\": \"AUC_weighted_max\", \"run_name\": \"StandardScalerWrapper, XGBoostClassifier\", \"run_properties\": \"\\n    copy=True,\\n    with_mean=False,\\n    with_std=False\\n\", \"primary_metric\": 0.90545485, \"best_metric\": 0.9131287}, {\"run_id\": \"AutoML_d3d7619a-7438-4a73-a422-7771f8b72101_42\", \"run_number\": 47, \"metric\": null, \"status\": \"Completed\", \"run_type\": \"azureml.scriptrun\", \"training_percent\": \"100\", \"start_time\": \"2021-12-29T13:30:25.091236Z\", \"end_time\": \"2021-12-29T13:31:50.997219Z\", \"created_time\": \"2021-12-29T13:30:25.091236Z\", \"created_time_dt\": \"2021-12-29T13:30:25.091236Z\", \"duration\": \"0:01:25\", \"iteration\": \"42\", \"goal\": \"AUC_weighted_max\", \"run_name\": \"MaxAbsScaler, RandomForest\", \"run_properties\": \"copy=True\", \"primary_metric\": 0.90858288, \"best_metric\": 0.9131287}, {\"run_id\": \"AutoML_d3d7619a-7438-4a73-a422-7771f8b72101_43\", \"run_number\": 48, \"metric\": null, \"status\": \"Completed\", \"run_type\": \"azureml.scriptrun\", \"training_percent\": \"100\", \"start_time\": \"2021-12-29T13:30:40.284755Z\", \"end_time\": \"2021-12-29T13:32:21.12459Z\", \"created_time\": \"2021-12-29T13:30:40.284755Z\", \"created_time_dt\": \"2021-12-29T13:30:40.284755Z\", \"duration\": \"0:01:40\", \"iteration\": \"43\", \"goal\": \"AUC_weighted_max\", \"run_name\": \"MinMaxScaler, LightGBM\", \"run_properties\": \"copy=True, feature_range=(0, 1\", \"primary_metric\": 0.89569622, \"best_metric\": 0.9131287}, {\"run_id\": \"AutoML_d3d7619a-7438-4a73-a422-7771f8b72101_44\", \"run_number\": 49, \"metric\": null, \"status\": \"Completed\", \"run_type\": \"azureml.scriptrun\", \"training_percent\": \"100\", \"start_time\": \"2021-12-29T13:31:09.752334Z\", \"end_time\": \"2021-12-29T13:32:38.118009Z\", \"created_time\": \"2021-12-29T13:31:09.752334Z\", \"created_time_dt\": \"2021-12-29T13:31:09.752334Z\", \"duration\": \"0:01:28\", \"iteration\": \"44\", \"goal\": \"AUC_weighted_max\", \"run_name\": \"StandardScalerWrapper, LightGBM\", \"run_properties\": \"\\n    copy=True,\\n    with_mean=True,\\n    with_std=True\\n\", \"primary_metric\": 0.90371338, \"best_metric\": 0.9131287}, {\"run_id\": \"AutoML_d3d7619a-7438-4a73-a422-7771f8b72101_45\", \"run_number\": 50, \"metric\": null, \"status\": \"Completed\", \"run_type\": \"azureml.scriptrun\", \"training_percent\": \"100\", \"start_time\": \"2021-12-29T13:31:47.89754Z\", \"end_time\": \"2021-12-29T13:33:02.79999Z\", \"created_time\": \"2021-12-29T13:31:47.89754Z\", \"created_time_dt\": \"2021-12-29T13:31:47.89754Z\", \"duration\": \"0:01:14\", \"iteration\": \"45\", \"goal\": \"AUC_weighted_max\", \"run_name\": \"RobustScaler, GradientBoosting\", \"run_properties\": \"copy=True, quantile_range=[25, 75], with_centering=True,\\n             with_scaling=False\", \"primary_metric\": 0.90830175, \"best_metric\": 0.9131287}, {\"run_id\": \"AutoML_d3d7619a-7438-4a73-a422-7771f8b72101_47\", \"run_number\": 51, \"metric\": null, \"status\": \"Completed\", \"run_type\": \"azureml.scriptrun\", \"training_percent\": \"100\", \"start_time\": \"2021-12-29T13:31:51.293546Z\", \"end_time\": \"2021-12-29T13:33:43.925509Z\", \"created_time\": \"2021-12-29T13:31:51.293546Z\", \"created_time_dt\": \"2021-12-29T13:31:51.293546Z\", \"duration\": \"0:01:52\", \"iteration\": \"47\", \"goal\": \"AUC_weighted_max\", \"run_name\": \"StandardScalerWrapper, RandomForest\", \"run_properties\": \"\\n    copy=True,\\n    with_mean=False,\\n    with_std=False\\n\", \"primary_metric\": 0.90865538, \"best_metric\": 0.91572185}, {\"run_id\": \"AutoML_d3d7619a-7438-4a73-a422-7771f8b72101_46\", \"run_number\": 52, \"metric\": null, \"status\": \"Completed\", \"run_type\": \"azureml.scriptrun\", \"training_percent\": \"100\", \"start_time\": \"2021-12-29T13:31:51.284945Z\", \"end_time\": \"2021-12-29T13:33:43.69589Z\", \"created_time\": \"2021-12-29T13:31:51.284945Z\", \"created_time_dt\": \"2021-12-29T13:31:51.284945Z\", \"duration\": \"0:01:52\", \"iteration\": \"46\", \"goal\": \"AUC_weighted_max\", \"run_name\": \"StandardScalerWrapper, RandomForest\", \"run_properties\": \"\\n    copy=True,\\n    with_mean=False,\\n    with_std=False\\n\", \"primary_metric\": 0.91572185, \"best_metric\": 0.91572185}, {\"run_id\": \"AutoML_d3d7619a-7438-4a73-a422-7771f8b72101_48\", \"run_number\": 53, \"metric\": null, \"status\": \"Completed\", \"run_type\": \"azureml.scriptrun\", \"training_percent\": \"100\", \"start_time\": \"2021-12-29T13:31:51.303902Z\", \"end_time\": \"2021-12-29T13:33:43.893667Z\", \"created_time\": \"2021-12-29T13:31:51.303902Z\", \"created_time_dt\": \"2021-12-29T13:31:51.303902Z\", \"duration\": \"0:01:52\", \"iteration\": \"48\", \"goal\": \"AUC_weighted_max\", \"run_name\": \"MinMaxScaler, LightGBM\", \"run_properties\": \"copy=True, feature_range=(0, 1\", \"primary_metric\": 0.91082649, \"best_metric\": 0.91572185}, {\"run_id\": \"AutoML_d3d7619a-7438-4a73-a422-7771f8b72101_49\", \"run_number\": 54, \"metric\": null, \"status\": \"Completed\", \"run_type\": \"azureml.scriptrun\", \"training_percent\": \"100\", \"start_time\": \"2021-12-29T13:31:51.318079Z\", \"end_time\": \"2021-12-29T13:33:42.967858Z\", \"created_time\": \"2021-12-29T13:31:51.318079Z\", \"created_time_dt\": \"2021-12-29T13:31:51.318079Z\", \"duration\": \"0:01:51\", \"iteration\": \"49\", \"goal\": \"AUC_weighted_max\", \"run_name\": \"StandardScalerWrapper, LogisticRegression\", \"run_properties\": \"\\n    copy=True,\\n    with_mean=False,\\n    with_std=True\\n\", \"primary_metric\": 0.87002459, \"best_metric\": 0.91572185}, {\"run_id\": \"AutoML_d3d7619a-7438-4a73-a422-7771f8b72101_50\", \"run_number\": 55, \"metric\": null, \"status\": \"Completed\", \"run_type\": \"azureml.scriptrun\", \"training_percent\": \"100\", \"start_time\": \"2021-12-29T13:31:55.62641Z\", \"end_time\": \"2021-12-29T13:33:41.059086Z\", \"created_time\": \"2021-12-29T13:31:55.62641Z\", \"created_time_dt\": \"2021-12-29T13:31:55.62641Z\", \"duration\": \"0:01:45\", \"iteration\": \"50\", \"goal\": \"AUC_weighted_max\", \"run_name\": \"MinMaxScaler, GradientBoosting\", \"run_properties\": \"copy=True, feature_range=(0, 1\", \"primary_metric\": 0.8023954, \"best_metric\": 0.91572185}, {\"run_id\": \"AutoML_d3d7619a-7438-4a73-a422-7771f8b72101_51\", \"run_number\": 56, \"metric\": null, \"status\": \"Completed\", \"run_type\": \"azureml.scriptrun\", \"training_percent\": \"100\", \"start_time\": \"2021-12-29T13:31:55.600406Z\", \"end_time\": \"2021-12-29T13:33:43.361364Z\", \"created_time\": \"2021-12-29T13:31:55.600406Z\", \"created_time_dt\": \"2021-12-29T13:31:55.600406Z\", \"duration\": \"0:01:47\", \"iteration\": \"51\", \"goal\": \"AUC_weighted_max\", \"run_name\": \"MaxAbsScaler, RandomForest\", \"run_properties\": \"copy=True\", \"primary_metric\": 0.90493192, \"best_metric\": 0.91572185}, {\"run_id\": \"AutoML_d3d7619a-7438-4a73-a422-7771f8b72101_52\", \"run_number\": 57, \"metric\": null, \"status\": \"Completed\", \"run_type\": \"azureml.scriptrun\", \"training_percent\": \"100\", \"start_time\": \"2021-12-29T13:32:23.04489Z\", \"end_time\": \"2021-12-29T13:33:44.647353Z\", \"created_time\": \"2021-12-29T13:32:23.04489Z\", \"created_time_dt\": \"2021-12-29T13:32:23.04489Z\", \"duration\": \"0:01:21\", \"iteration\": \"52\", \"goal\": \"AUC_weighted_max\", \"run_name\": \"MaxAbsScaler, RandomForest\", \"run_properties\": \"copy=True\", \"primary_metric\": 0.90645186, \"best_metric\": 0.91572185}, {\"run_id\": \"AutoML_d3d7619a-7438-4a73-a422-7771f8b72101_53\", \"run_number\": 58, \"metric\": null, \"status\": \"Completed\", \"run_type\": \"azureml.scriptrun\", \"training_percent\": \"100\", \"start_time\": \"2021-12-29T13:32:40.01586Z\", \"end_time\": \"2021-12-29T13:34:33.697577Z\", \"created_time\": \"2021-12-29T13:32:40.01586Z\", \"created_time_dt\": \"2021-12-29T13:32:40.01586Z\", \"duration\": \"0:01:53\", \"iteration\": \"53\", \"goal\": \"AUC_weighted_max\", \"run_name\": \"StandardScalerWrapper, RandomForest\", \"run_properties\": \"\\n    copy=True,\\n    with_mean=True,\\n    with_std=False\\n\", \"primary_metric\": 0.90319186, \"best_metric\": 0.91572185}, {\"run_id\": \"AutoML_d3d7619a-7438-4a73-a422-7771f8b72101_54\", \"run_number\": 59, \"metric\": null, \"status\": \"Completed\", \"run_type\": \"azureml.scriptrun\", \"training_percent\": \"100\", \"start_time\": \"2021-12-29T13:33:04.855636Z\", \"end_time\": \"2021-12-29T13:34:44.372087Z\", \"created_time\": \"2021-12-29T13:33:04.855636Z\", \"created_time_dt\": \"2021-12-29T13:33:04.855636Z\", \"duration\": \"0:01:39\", \"iteration\": \"54\", \"goal\": \"AUC_weighted_max\", \"run_name\": \"StandardScalerWrapper, ExtremeRandomTrees\", \"run_properties\": \"\\n    copy=True,\\n    with_mean=True,\\n    with_std=False\\n\", \"primary_metric\": 0.88605912, \"best_metric\": 0.91572185}, {\"run_id\": \"AutoML_d3d7619a-7438-4a73-a422-7771f8b72101_55\", \"run_number\": 60, \"metric\": null, \"status\": \"Completed\", \"run_type\": \"azureml.scriptrun\", \"training_percent\": \"100\", \"start_time\": \"2021-12-29T13:33:44.194064Z\", \"end_time\": \"2021-12-29T13:35:09.329736Z\", \"created_time\": \"2021-12-29T13:33:44.194064Z\", \"created_time_dt\": \"2021-12-29T13:33:44.194064Z\", \"duration\": \"0:01:25\", \"iteration\": \"55\", \"goal\": \"AUC_weighted_max\", \"run_name\": \"StandardScalerWrapper, GradientBoosting\", \"run_properties\": \"\\n    copy=True,\\n    with_mean=True,\\n    with_std=False\\n\", \"primary_metric\": 0.90928396, \"best_metric\": 0.91572185}, {\"run_id\": \"AutoML_d3d7619a-7438-4a73-a422-7771f8b72101_56\", \"run_number\": 61, \"metric\": null, \"status\": \"Completed\", \"run_type\": \"azureml.scriptrun\", \"training_percent\": \"100\", \"start_time\": \"2021-12-29T13:33:48.744423Z\", \"end_time\": \"2021-12-29T13:35:54.503026Z\", \"created_time\": \"2021-12-29T13:33:48.744423Z\", \"created_time_dt\": \"2021-12-29T13:33:48.744423Z\", \"duration\": \"0:02:05\", \"iteration\": \"56\", \"goal\": \"AUC_weighted_max\", \"run_name\": \"MinMaxScaler, RandomForest\", \"run_properties\": \"copy=True, feature_range=(0, 1\", \"primary_metric\": 0.90886595, \"best_metric\": 0.91572185}, {\"run_id\": \"AutoML_d3d7619a-7438-4a73-a422-7771f8b72101_61\", \"run_number\": 62, \"metric\": null, \"status\": \"Completed\", \"run_type\": \"azureml.scriptrun\", \"training_percent\": \"100\", \"start_time\": \"2021-12-29T13:33:48.760161Z\", \"end_time\": \"2021-12-29T13:35:47.062038Z\", \"created_time\": \"2021-12-29T13:33:48.760161Z\", \"created_time_dt\": \"2021-12-29T13:33:48.760161Z\", \"duration\": \"0:01:58\", \"iteration\": \"61\", \"goal\": \"AUC_weighted_max\", \"run_name\": \"StandardScalerWrapper, GradientBoosting\", \"run_properties\": \"\\n    copy=True,\\n    with_mean=True,\\n    with_std=False\\n\", \"primary_metric\": 0.9091452, \"best_metric\": 0.91572185}, {\"run_id\": \"AutoML_d3d7619a-7438-4a73-a422-7771f8b72101_58\", \"run_number\": 63, \"metric\": null, \"status\": \"Completed\", \"run_type\": \"azureml.scriptrun\", \"training_percent\": \"100\", \"start_time\": \"2021-12-29T13:33:48.769639Z\", \"end_time\": \"2021-12-29T13:35:49.912892Z\", \"created_time\": \"2021-12-29T13:33:48.769639Z\", \"created_time_dt\": \"2021-12-29T13:33:48.769639Z\", \"duration\": \"0:02:01\", \"iteration\": \"58\", \"goal\": \"AUC_weighted_max\", \"run_name\": \"StandardScalerWrapper, GradientBoosting\", \"run_properties\": \"\\n    copy=True,\\n    with_mean=False,\\n    with_std=False\\n\", \"primary_metric\": 0.91158957, \"best_metric\": 0.91572185}, {\"run_id\": \"AutoML_d3d7619a-7438-4a73-a422-7771f8b72101_59\", \"run_number\": 64, \"metric\": null, \"status\": \"Completed\", \"run_type\": \"azureml.scriptrun\", \"training_percent\": \"100\", \"start_time\": \"2021-12-29T13:33:48.777841Z\", \"end_time\": \"2021-12-29T13:35:46.975259Z\", \"created_time\": \"2021-12-29T13:33:48.777841Z\", \"created_time_dt\": \"2021-12-29T13:33:48.777841Z\", \"duration\": \"0:01:58\", \"iteration\": \"59\", \"goal\": \"AUC_weighted_max\", \"run_name\": \"MaxAbsScaler, GradientBoosting\", \"run_properties\": \"copy=True\", \"primary_metric\": 0.89817619, \"best_metric\": 0.91572185}, {\"run_id\": \"AutoML_d3d7619a-7438-4a73-a422-7771f8b72101_60\", \"run_number\": 65, \"metric\": null, \"status\": \"Completed\", \"run_type\": \"azureml.scriptrun\", \"training_percent\": \"100\", \"start_time\": \"2021-12-29T13:33:48.79023Z\", \"end_time\": \"2021-12-29T13:35:48.199197Z\", \"created_time\": \"2021-12-29T13:33:48.79023Z\", \"created_time_dt\": \"2021-12-29T13:33:48.79023Z\", \"duration\": \"0:01:59\", \"iteration\": \"60\", \"goal\": \"AUC_weighted_max\", \"run_name\": \"StandardScalerWrapper, XGBoostClassifier\", \"run_properties\": \"\\n    copy=True,\\n    with_mean=False,\\n    with_std=False\\n\", \"primary_metric\": 0.9020935, \"best_metric\": 0.91572185}, {\"run_id\": \"AutoML_d3d7619a-7438-4a73-a422-7771f8b72101_57\", \"run_number\": 66, \"metric\": null, \"status\": \"Completed\", \"run_type\": \"azureml.scriptrun\", \"training_percent\": \"100\", \"start_time\": \"2021-12-29T13:33:48.764709Z\", \"end_time\": \"2021-12-29T13:35:46.4878Z\", \"created_time\": \"2021-12-29T13:33:48.764709Z\", \"created_time_dt\": \"2021-12-29T13:33:48.764709Z\", \"duration\": \"0:01:57\", \"iteration\": \"57\", \"goal\": \"AUC_weighted_max\", \"run_name\": \"StandardScalerWrapper, XGBoostClassifier\", \"run_properties\": \"\\n    copy=True,\\n    with_mean=False,\\n    with_std=False\\n\", \"primary_metric\": 0.9090252, \"best_metric\": 0.91572185}, {\"run_id\": \"AutoML_d3d7619a-7438-4a73-a422-7771f8b72101_62\", \"run_number\": 67, \"metric\": null, \"status\": \"Completed\", \"run_type\": \"azureml.scriptrun\", \"training_percent\": \"100\", \"start_time\": \"2021-12-29T13:34:35.532267Z\", \"end_time\": \"2021-12-29T13:35:45.291562Z\", \"created_time\": \"2021-12-29T13:34:35.532267Z\", \"created_time_dt\": \"2021-12-29T13:34:35.532267Z\", \"duration\": \"0:01:09\", \"iteration\": \"62\", \"goal\": \"AUC_weighted_max\", \"run_name\": \"StandardScalerWrapper, XGBoostClassifier\", \"run_properties\": \"\\n    copy=True,\\n    with_mean=False,\\n    with_std=False\\n\", \"primary_metric\": 0.89610883, \"best_metric\": 0.91572185}, {\"run_id\": \"AutoML_d3d7619a-7438-4a73-a422-7771f8b72101_63\", \"run_number\": 68, \"metric\": null, \"status\": \"Completed\", \"run_type\": \"azureml.scriptrun\", \"training_percent\": \"100\", \"start_time\": \"2021-12-29T13:34:46.233722Z\", \"end_time\": \"2021-12-29T13:36:23.673559Z\", \"created_time\": \"2021-12-29T13:34:46.233722Z\", \"created_time_dt\": \"2021-12-29T13:34:46.233722Z\", \"duration\": \"0:01:37\", \"iteration\": \"63\", \"goal\": \"AUC_weighted_max\", \"run_name\": \"StandardScalerWrapper, XGBoostClassifier\", \"run_properties\": \"\\n    copy=True,\\n    with_mean=False,\\n    with_std=False\\n\", \"primary_metric\": 0.89925881, \"best_metric\": 0.91572185}, {\"run_id\": \"AutoML_d3d7619a-7438-4a73-a422-7771f8b72101_64\", \"run_number\": 69, \"metric\": null, \"status\": \"Completed\", \"run_type\": \"azureml.scriptrun\", \"training_percent\": \"100\", \"start_time\": \"2021-12-29T13:35:11.130402Z\", \"end_time\": \"2021-12-29T13:36:42.362981Z\", \"created_time\": \"2021-12-29T13:35:11.130402Z\", \"created_time_dt\": \"2021-12-29T13:35:11.130402Z\", \"duration\": \"0:01:31\", \"iteration\": \"64\", \"goal\": \"AUC_weighted_max\", \"run_name\": \"StandardScalerWrapper, XGBoostClassifier\", \"run_properties\": \"\\n    copy=True,\\n    with_mean=False,\\n    with_std=False\\n\", \"primary_metric\": 0.90396305, \"best_metric\": 0.91572185}, {\"run_id\": \"AutoML_d3d7619a-7438-4a73-a422-7771f8b72101_65\", \"run_number\": 70, \"metric\": null, \"status\": \"Completed\", \"run_type\": \"azureml.scriptrun\", \"training_percent\": \"100\", \"start_time\": \"2021-12-29T13:35:48.17922Z\", \"end_time\": \"2021-12-29T13:37:10.033162Z\", \"created_time\": \"2021-12-29T13:35:48.17922Z\", \"created_time_dt\": \"2021-12-29T13:35:48.17922Z\", \"duration\": \"0:01:21\", \"iteration\": \"65\", \"goal\": \"AUC_weighted_max\", \"run_name\": \"MaxAbsScaler, RandomForest\", \"run_properties\": \"copy=True\", \"primary_metric\": 0.87421167, \"best_metric\": 0.91572185}, {\"run_id\": \"AutoML_d3d7619a-7438-4a73-a422-7771f8b72101_66\", \"run_number\": 71, \"metric\": null, \"status\": \"Canceled\", \"run_type\": \"azureml.scriptrun\", \"training_percent\": \"100\", \"start_time\": \"2021-12-29T13:35:51.142022Z\", \"end_time\": \"2021-12-29T13:37:11.234241Z\", \"created_time\": \"2021-12-29T13:35:51.142022Z\", \"created_time_dt\": \"2021-12-29T13:35:51.142022Z\", \"duration\": \"0:01:20\", \"iteration\": \"66\", \"goal\": null, \"run_name\": \"Canceled\", \"run_properties\": null}, {\"run_id\": \"AutoML_d3d7619a-7438-4a73-a422-7771f8b72101_69\", \"run_number\": 72, \"metric\": null, \"status\": \"Canceled\", \"run_type\": \"azureml.scriptrun\", \"training_percent\": \"100\", \"start_time\": \"2021-12-29T13:35:51.160748Z\", \"end_time\": \"2021-12-29T13:37:11.22451Z\", \"created_time\": \"2021-12-29T13:35:51.160748Z\", \"created_time_dt\": \"2021-12-29T13:35:51.160748Z\", \"duration\": \"0:01:20\", \"iteration\": \"69\", \"goal\": null, \"run_name\": \"Canceled\", \"run_properties\": null}, {\"run_id\": \"AutoML_d3d7619a-7438-4a73-a422-7771f8b72101_68\", \"run_number\": 73, \"metric\": null, \"status\": \"Canceled\", \"run_type\": \"azureml.scriptrun\", \"training_percent\": \"100\", \"start_time\": \"2021-12-29T13:35:51.172609Z\", \"end_time\": \"2021-12-29T13:37:11.299853Z\", \"created_time\": \"2021-12-29T13:35:51.172609Z\", \"created_time_dt\": \"2021-12-29T13:35:51.172609Z\", \"duration\": \"0:01:20\", \"iteration\": \"68\", \"goal\": null, \"run_name\": \"Canceled\", \"run_properties\": null}, {\"run_id\": \"AutoML_d3d7619a-7438-4a73-a422-7771f8b72101_67\", \"run_number\": 74, \"metric\": null, \"status\": \"Canceled\", \"run_type\": \"azureml.scriptrun\", \"training_percent\": \"100\", \"start_time\": \"2021-12-29T13:35:51.16924Z\", \"end_time\": \"2021-12-29T13:37:11.057847Z\", \"created_time\": \"2021-12-29T13:35:51.16924Z\", \"created_time_dt\": \"2021-12-29T13:35:51.16924Z\", \"duration\": \"0:01:19\", \"iteration\": \"67\", \"goal\": null, \"run_name\": \"Canceled\", \"run_properties\": null}, {\"run_id\": \"AutoML_d3d7619a-7438-4a73-a422-7771f8b72101_70\", \"run_number\": 75, \"metric\": null, \"status\": \"Canceled\", \"run_type\": \"azureml.scriptrun\", \"training_percent\": \"100\", \"start_time\": \"2021-12-29T13:35:55.256174Z\", \"end_time\": \"2021-12-29T13:37:11.108879Z\", \"created_time\": \"2021-12-29T13:35:55.256174Z\", \"created_time_dt\": \"2021-12-29T13:35:55.256174Z\", \"duration\": \"0:01:15\", \"iteration\": \"70\", \"goal\": null, \"run_name\": \"Canceled\", \"run_properties\": null}, {\"run_id\": \"AutoML_d3d7619a-7438-4a73-a422-7771f8b72101_71\", \"run_number\": 76, \"metric\": null, \"status\": \"Canceled\", \"run_type\": \"azureml.scriptrun\", \"training_percent\": \"100\", \"start_time\": \"2021-12-29T13:35:58.051906Z\", \"end_time\": \"2021-12-29T13:37:11.255965Z\", \"created_time\": \"2021-12-29T13:35:58.051906Z\", \"created_time_dt\": \"2021-12-29T13:35:58.051906Z\", \"duration\": \"0:01:13\", \"iteration\": \"71\", \"goal\": null, \"run_name\": \"Canceled\", \"run_properties\": null}, {\"run_id\": \"AutoML_d3d7619a-7438-4a73-a422-7771f8b72101_72\", \"run_number\": 77, \"metric\": null, \"status\": \"Canceled\", \"run_type\": \"azureml.scriptrun\", \"training_percent\": \"100\", \"start_time\": \"2021-12-29T13:36:26.14838Z\", \"end_time\": \"2021-12-29T13:37:11.254597Z\", \"created_time\": \"2021-12-29T13:36:26.14838Z\", \"created_time_dt\": \"2021-12-29T13:36:26.14838Z\", \"duration\": \"0:00:45\", \"iteration\": \"72\", \"goal\": null, \"run_name\": \"Canceled\", \"run_properties\": null}, {\"run_id\": \"AutoML_d3d7619a-7438-4a73-a422-7771f8b72101_73\", \"run_number\": 78, \"metric\": null, \"status\": \"Canceled\", \"run_type\": \"azureml.scriptrun\", \"training_percent\": \"100\", \"start_time\": \"2021-12-29T13:36:45.003375Z\", \"end_time\": \"2021-12-29T13:37:11.165548Z\", \"created_time\": \"2021-12-29T13:36:45.003375Z\", \"created_time_dt\": \"2021-12-29T13:36:45.003375Z\", \"duration\": \"0:00:26\", \"iteration\": \"73\", \"goal\": null, \"run_name\": \"Canceled\", \"run_properties\": null}, {\"run_id\": \"AutoML_d3d7619a-7438-4a73-a422-7771f8b72101_74\", \"run_number\": 79, \"metric\": null, \"status\": \"Completed\", \"run_type\": \"azureml.scriptrun\", \"training_percent\": \"100\", \"start_time\": \"2021-12-29T13:37:13.357447Z\", \"end_time\": \"2021-12-29T13:38:30.619772Z\", \"created_time\": \"2021-12-29T13:37:13.357447Z\", \"created_time_dt\": \"2021-12-29T13:37:13.357447Z\", \"duration\": \"0:01:17\", \"iteration\": \"74\", \"goal\": \"AUC_weighted_max\", \"run_name\": \"VotingEnsemble\", \"run_properties\": \"\\n    estimators=[('46', Pipeline(\\n        memory=None,\\n        steps=[('standardscalerwrapper', StandardScalerWrapper(\\n            copy=True,\\n            with_mean=False,\\n            with_std=False\\n        \", \"primary_metric\": 0.91780546, \"best_metric\": 0.91780546}, {\"run_id\": \"AutoML_d3d7619a-7438-4a73-a422-7771f8b72101_75\", \"run_number\": 80, \"metric\": null, \"status\": \"Completed\", \"run_type\": \"azureml.scriptrun\", \"training_percent\": \"100\", \"start_time\": \"2021-12-29T13:37:13.383815Z\", \"end_time\": \"2021-12-29T13:38:50.522733Z\", \"created_time\": \"2021-12-29T13:37:13.383815Z\", \"created_time_dt\": \"2021-12-29T13:37:13.383815Z\", \"duration\": \"0:01:37\", \"iteration\": \"75\", \"goal\": \"AUC_weighted_max\", \"run_name\": \"StackEnsemble\", \"run_properties\": \"\\n    base_learners=[('46', Pipeline(\\n        memory=None,\\n        steps=[('standardscalerwrapper', StandardScalerWrapper(\\n            copy=True,\\n            with_mean=False,\\n            with_std=False\\n        \", \"primary_metric\": 0.90894983, \"best_metric\": 0.91780546}], \"children_metrics\": {\"categories\": [0], \"series\": {\"average_precision_score_micro\": [{\"categories\": [\"0\", \"1\", \"2\", \"3\", \"4\", \"5\", \"6\", \"7\", \"8\", \"9\", \"10\", \"11\", \"12\", \"13\", \"14\", \"15\", \"16\", \"17\", \"18\", \"19\", \"20\", \"21\", \"22\", \"23\", \"24\", \"25\", \"26\", \"27\", \"28\", \"29\", \"30\", \"31\", \"32\", \"33\", \"34\", \"35\", \"36\", \"37\", \"38\", \"39\", \"40\", \"41\", \"42\", \"43\", \"44\", \"45\", \"46\", \"47\", \"48\", \"49\", \"50\", \"51\", \"52\", \"53\", \"54\", \"55\", \"56\", \"57\", \"58\", \"59\", \"60\", \"61\", \"62\", \"63\", \"64\", \"65\", \"74\", \"75\"], \"mode\": \"markers\", \"name\": \"average_precision_score_micro\", \"stepped\": false, \"type\": \"scatter\", \"data\": [0.9012598211363931, 0.9033793522124445, 0.9006615231975765, 0.9031692731913129, 0.9155363729429506, 0.6528425787987014, 0.8947304292910921, 0.9044805382630979, 0.8462412467064075, 0.9113987476466668, 0.8850299274029687, 0.8184555452507801, 0.9005814449415992, 0.792947413420068, 0.9021412545115476, 0.8759644368256971, 0.9157446860630319, 0.9117352482294254, 0.894320210503871, 0.8925358719335128, 0.915055993167238, 0.9166595875465147, 0.9065051520760224, 0.861974341731363, 0.9124081913468747, 0.8740351168600382, 0.8036634562428702, 0.9085997204198, 0.9173663726853105, 0.8844537023978439, 0.925479654886795, 0.876804192767905, 0.9061589342845547, 0.9118533848168102, 0.8810861735518216, 0.905713478614586, 0.9199242343306988, 0.922840394950805, 0.9207475878055655, 0.907249249537901, 0.8838787953780324, 0.9208696967259733, 0.9189061022430579, 0.8968752769755367, 0.9200284639373624, 0.8652641095696281, 0.9114331650825264, 0.8993485024165944, 0.916620253321857, 0.894033252313571, 0.818986775549414, 0.9067181665692059, 0.9021767898226434, 0.8966002000508333, 0.8966397003200255, 0.9228941494766424, 0.9143103781197235, 0.9174164729263573, 0.9236157574361048, 0.9141304118594198, 0.9109377495792348, 0.9222418910162669, 0.8999490069754014, 0.9101277522354746, 0.9130889807006242, 0.8769666585814555, 0.9252395195733742, 0.8879768727099279]}, {\"categories\": [\"0\", \"1\", \"2\", \"3\", \"4\", \"5\", \"6\", \"7\", \"8\", \"9\", \"10\", \"11\", \"12\", \"13\", \"14\", \"15\", \"16\", \"17\", \"18\", \"19\", \"20\", \"21\", \"22\", \"23\", \"24\", \"25\", \"26\", \"27\", \"28\", \"29\", \"30\", \"31\", \"32\", \"33\", \"34\", \"35\", \"36\", \"37\", \"38\", \"39\", \"40\", \"41\", \"42\", \"43\", \"44\", \"45\", \"46\", \"47\", \"48\", \"49\", \"50\", \"51\", \"52\", \"53\", \"54\", \"55\", \"56\", \"57\", \"58\", \"59\", \"60\", \"61\", \"62\", \"63\", \"64\", \"65\", \"74\", \"75\"], \"mode\": \"lines\", \"name\": \"average_precision_score_micro_max\", \"stepped\": true, \"type\": \"scatter\", \"data\": [0.9012598211363931, 0.9033793522124445, 0.9033793522124445, 0.9033793522124445, 0.9155363729429506, 0.9155363729429506, 0.9155363729429506, 0.9155363729429506, 0.9155363729429506, 0.9155363729429506, 0.9155363729429506, 0.9155363729429506, 0.9155363729429506, 0.9155363729429506, 0.9155363729429506, 0.9155363729429506, 0.9157446860630319, 0.9157446860630319, 0.9157446860630319, 0.9157446860630319, 0.9157446860630319, 0.9166595875465147, 0.9166595875465147, 0.9166595875465147, 0.9166595875465147, 0.9166595875465147, 0.9166595875465147, 0.9166595875465147, 0.9173663726853105, 0.9173663726853105, 0.925479654886795, 0.925479654886795, 0.925479654886795, 0.925479654886795, 0.925479654886795, 0.925479654886795, 0.925479654886795, 0.925479654886795, 0.925479654886795, 0.925479654886795, 0.925479654886795, 0.925479654886795, 0.925479654886795, 0.925479654886795, 0.925479654886795, 0.925479654886795, 0.925479654886795, 0.925479654886795, 0.925479654886795, 0.925479654886795, 0.925479654886795, 0.925479654886795, 0.925479654886795, 0.925479654886795, 0.925479654886795, 0.925479654886795, 0.925479654886795, 0.925479654886795, 0.925479654886795, 0.925479654886795, 0.925479654886795, 0.925479654886795, 0.925479654886795, 0.925479654886795, 0.925479654886795, 0.925479654886795, 0.925479654886795, 0.925479654886795]}], \"matthews_correlation\": [{\"categories\": [\"0\", \"1\", \"2\", \"3\", \"4\", \"5\", \"6\", \"7\", \"8\", \"9\", \"10\", \"11\", \"12\", \"13\", \"14\", \"15\", \"16\", \"17\", \"18\", \"19\", \"20\", \"21\", \"22\", \"23\", \"24\", \"25\", \"26\", \"27\", \"28\", \"29\", \"30\", \"31\", \"32\", \"33\", \"34\", \"35\", \"36\", \"37\", \"38\", \"39\", \"40\", \"41\", \"42\", \"43\", \"44\", \"45\", \"46\", \"47\", \"48\", \"49\", \"50\", \"51\", \"52\", \"53\", \"54\", \"55\", \"56\", \"57\", \"58\", \"59\", \"60\", \"61\", \"62\", \"63\", \"64\", \"65\", \"74\", \"75\"], \"mode\": \"markers\", \"name\": \"matthews_correlation\", \"stepped\": false, \"type\": \"scatter\", \"data\": [0.6231314496952846, 0.6345538749068885, 0.6358344200185254, 0.6044314109720563, 0.6815460945218462, 0.0819796276020419, 0.581909708969879, 0.6171526484653863, 0.33431381404420973, 0.6381077405098039, 0.5986771914346563, 0.4256731146511221, 0.6393945846412377, 0.4335563191961641, 0.6180758138450603, 0.5428289655628894, 0.6267636011242862, 0.5754003373094454, 0.6142812012077433, 0.6286019262829975, 0.6613844749265068, 0.6219141460979203, 0.616962174990131, 0.5585540540065608, 0.6124955487996174, 0.42360714950215855, 0.0488220586128881, 0.6172061430936633, 0.6200895356457041, 0.5853582685269247, 0.6735862123020784, 0.5770922316944727, 0.6063096762324307, 0.6491174480935934, 0.45049774164087975, 0.650133925927993, 0.6326917788995752, 0.668141274901191, 0.6549488371683102, 0.6065729834208511, 0.5571683446642942, 0.6472720858277246, 0.6515348114446612, 0.5749254117703237, 0.6573511817624215, 0.0, 0.6341360257098858, 0.6339500194628959, 0.6552879276199183, 0.5927601637074752, 0.0, 0.6012265387387121, 0.6092524908414894, 0.6129109850719797, 0.6240396415442957, 0.6696485256080921, 0.6233404012049701, 0.6400562973931692, 0.6369611252155629, 0.647758811552786, 0.635076888149394, 0.6516139784690764, 0.6547568585536914, 0.6502438135737487, 0.6488996055050807, 0.619382228508595, 0.644675168109656, 0.4348575654220178]}, {\"categories\": [\"0\", \"1\", \"2\", \"3\", \"4\", \"5\", \"6\", \"7\", \"8\", \"9\", \"10\", \"11\", \"12\", \"13\", \"14\", \"15\", \"16\", \"17\", \"18\", \"19\", \"20\", \"21\", \"22\", \"23\", \"24\", \"25\", \"26\", \"27\", \"28\", \"29\", \"30\", \"31\", \"32\", \"33\", \"34\", \"35\", \"36\", \"37\", \"38\", \"39\", \"40\", \"41\", \"42\", \"43\", \"44\", \"45\", \"46\", \"47\", \"48\", \"49\", \"50\", \"51\", \"52\", \"53\", \"54\", \"55\", \"56\", \"57\", \"58\", \"59\", \"60\", \"61\", \"62\", \"63\", \"64\", \"65\", \"74\", \"75\"], \"mode\": \"lines\", \"name\": \"matthews_correlation_max\", \"stepped\": true, \"type\": \"scatter\", \"data\": [0.6231314496952846, 0.6345538749068885, 0.6358344200185254, 0.6358344200185254, 0.6815460945218462, 0.6815460945218462, 0.6815460945218462, 0.6815460945218462, 0.6815460945218462, 0.6815460945218462, 0.6815460945218462, 0.6815460945218462, 0.6815460945218462, 0.6815460945218462, 0.6815460945218462, 0.6815460945218462, 0.6815460945218462, 0.6815460945218462, 0.6815460945218462, 0.6815460945218462, 0.6815460945218462, 0.6815460945218462, 0.6815460945218462, 0.6815460945218462, 0.6815460945218462, 0.6815460945218462, 0.6815460945218462, 0.6815460945218462, 0.6815460945218462, 0.6815460945218462, 0.6815460945218462, 0.6815460945218462, 0.6815460945218462, 0.6815460945218462, 0.6815460945218462, 0.6815460945218462, 0.6815460945218462, 0.6815460945218462, 0.6815460945218462, 0.6815460945218462, 0.6815460945218462, 0.6815460945218462, 0.6815460945218462, 0.6815460945218462, 0.6815460945218462, 0.6815460945218462, 0.6815460945218462, 0.6815460945218462, 0.6815460945218462, 0.6815460945218462, 0.6815460945218462, 0.6815460945218462, 0.6815460945218462, 0.6815460945218462, 0.6815460945218462, 0.6815460945218462, 0.6815460945218462, 0.6815460945218462, 0.6815460945218462, 0.6815460945218462, 0.6815460945218462, 0.6815460945218462, 0.6815460945218462, 0.6815460945218462, 0.6815460945218462, 0.6815460945218462, 0.6815460945218462, 0.6815460945218462]}], \"average_precision_score_macro\": [{\"categories\": [\"0\", \"1\", \"2\", \"3\", \"4\", \"5\", \"6\", \"7\", \"8\", \"9\", \"10\", \"11\", \"12\", \"13\", \"14\", \"15\", \"16\", \"17\", \"18\", \"19\", \"20\", \"21\", \"22\", \"23\", \"24\", \"25\", \"26\", \"27\", \"28\", \"29\", \"30\", \"31\", \"32\", \"33\", \"34\", \"35\", \"36\", \"37\", \"38\", \"39\", \"40\", \"41\", \"42\", \"43\", \"44\", \"45\", \"46\", \"47\", \"48\", \"49\", \"50\", \"51\", \"52\", \"53\", \"54\", \"55\", \"56\", \"57\", \"58\", \"59\", \"60\", \"61\", \"62\", \"63\", \"64\", \"65\", \"74\", \"75\"], \"mode\": \"markers\", \"name\": \"average_precision_score_macro\", \"stepped\": false, \"type\": \"scatter\", \"data\": [0.8794329614904072, 0.8807340475847678, 0.8871834010566382, 0.8874598679224593, 0.8921531458325905, 0.5741193378226761, 0.8549011972784539, 0.8783805647525483, 0.8168239673569666, 0.8874921049948693, 0.8531397251050148, 0.782511974035226, 0.8836471964617113, 0.7597412180878824, 0.8953762218283877, 0.851897551293337, 0.8917622085788632, 0.8922308476196144, 0.8721288603547072, 0.868949605827759, 0.8874550291522019, 0.8975744686326704, 0.887180334599772, 0.8522056473141492, 0.9005785213475141, 0.8593905407907865, 0.7497654518190244, 0.8946641737249952, 0.8891644959707146, 0.8796499003507054, 0.9115754875480835, 0.8691013266877716, 0.9008669893922743, 0.9028322034731898, 0.8885866314110931, 0.8886126060177407, 0.9042009702833056, 0.9003805573142456, 0.8933321482530798, 0.8900602399440773, 0.8584882917591011, 0.8968989194570332, 0.8996358904467273, 0.8909324015619735, 0.896733579651855, 0.8905120877076695, 0.9048653931929633, 0.888063374723337, 0.9036760603633672, 0.858840490225593, 0.8125768181576584, 0.896811511671673, 0.8918892648368679, 0.8880736034120187, 0.8858740202616333, 0.906516463153648, 0.8945861054552555, 0.9036107001540591, 0.9070561221732198, 0.8845519218221725, 0.8910056656639769, 0.9009752542494469, 0.886074055709255, 0.8914854006800903, 0.8950805508591578, 0.8627024525139481, 0.9099130955220188, 0.8989719923674736]}, {\"categories\": [\"0\", \"1\", \"2\", \"3\", \"4\", \"5\", \"6\", \"7\", \"8\", \"9\", \"10\", \"11\", \"12\", \"13\", \"14\", \"15\", \"16\", \"17\", \"18\", \"19\", \"20\", \"21\", \"22\", \"23\", \"24\", \"25\", \"26\", \"27\", \"28\", \"29\", \"30\", \"31\", \"32\", \"33\", \"34\", \"35\", \"36\", \"37\", \"38\", \"39\", \"40\", \"41\", \"42\", \"43\", \"44\", \"45\", \"46\", \"47\", \"48\", \"49\", \"50\", \"51\", \"52\", \"53\", \"54\", \"55\", \"56\", \"57\", \"58\", \"59\", \"60\", \"61\", \"62\", \"63\", \"64\", \"65\", \"74\", \"75\"], \"mode\": \"lines\", \"name\": \"average_precision_score_macro_max\", \"stepped\": true, \"type\": \"scatter\", \"data\": [0.8794329614904072, 0.8807340475847678, 0.8871834010566382, 0.8874598679224593, 0.8921531458325905, 0.8921531458325905, 0.8921531458325905, 0.8921531458325905, 0.8921531458325905, 0.8921531458325905, 0.8921531458325905, 0.8921531458325905, 0.8921531458325905, 0.8921531458325905, 0.8953762218283877, 0.8953762218283877, 0.8953762218283877, 0.8953762218283877, 0.8953762218283877, 0.8953762218283877, 0.8953762218283877, 0.8975744686326704, 0.8975744686326704, 0.8975744686326704, 0.9005785213475141, 0.9005785213475141, 0.9005785213475141, 0.9005785213475141, 0.9005785213475141, 0.9005785213475141, 0.9115754875480835, 0.9115754875480835, 0.9115754875480835, 0.9115754875480835, 0.9115754875480835, 0.9115754875480835, 0.9115754875480835, 0.9115754875480835, 0.9115754875480835, 0.9115754875480835, 0.9115754875480835, 0.9115754875480835, 0.9115754875480835, 0.9115754875480835, 0.9115754875480835, 0.9115754875480835, 0.9115754875480835, 0.9115754875480835, 0.9115754875480835, 0.9115754875480835, 0.9115754875480835, 0.9115754875480835, 0.9115754875480835, 0.9115754875480835, 0.9115754875480835, 0.9115754875480835, 0.9115754875480835, 0.9115754875480835, 0.9115754875480835, 0.9115754875480835, 0.9115754875480835, 0.9115754875480835, 0.9115754875480835, 0.9115754875480835, 0.9115754875480835, 0.9115754875480835, 0.9115754875480835, 0.9115754875480835]}], \"f1_score_micro\": [{\"categories\": [\"0\", \"1\", \"2\", \"3\", \"4\", \"5\", \"6\", \"7\", \"8\", \"9\", \"10\", \"11\", \"12\", \"13\", \"14\", \"15\", \"16\", \"17\", \"18\", \"19\", \"20\", \"21\", \"22\", \"23\", \"24\", \"25\", \"26\", \"27\", \"28\", \"29\", \"30\", \"31\", \"32\", \"33\", \"34\", \"35\", \"36\", \"37\", \"38\", \"39\", \"40\", \"41\", \"42\", \"43\", \"44\", \"45\", \"46\", \"47\", \"48\", \"49\", \"50\", \"51\", \"52\", \"53\", \"54\", \"55\", \"56\", \"57\", \"58\", \"59\", \"60\", \"61\", \"62\", \"63\", \"64\", \"65\", \"74\", \"75\"], \"mode\": \"markers\", \"name\": \"f1_score_micro\", \"stepped\": false, \"type\": \"scatter\", \"data\": [0.8359770114942527, 0.8358620689655172, 0.8427586206896553, 0.8262068965517242, 0.8593103448275862, 0.6424137931034484, 0.8225287356321838, 0.8326436781609197, 0.7393103448275863, 0.8459770114942529, 0.822528735632184, 0.7590804597701151, 0.8428735632183908, 0.7658620689655172, 0.8291954022988506, 0.8026436781609195, 0.8394252873563219, 0.8124137931034483, 0.8327586206896551, 0.835977011494253, 0.8560919540229885, 0.8359770114942527, 0.8359770114942527, 0.792528735632184, 0.8291954022988506, 0.7657471264367816, 0.679080459770115, 0.8224137931034482, 0.8359770114942527, 0.8195402298850574, 0.8562068965517243, 0.805632183908046, 0.8157471264367816, 0.839080459770115, 0.7660919540229885, 0.849425287356322, 0.8428735632183908, 0.8526436781609196, 0.8493103448275863, 0.8291954022988506, 0.8190804597701149, 0.8459770114942529, 0.8491954022988505, 0.8160919540229885, 0.8527586206896552, 0.6791954022988507, 0.8290804597701149, 0.8357471264367817, 0.8457471264367816, 0.8226436781609194, 0.6791954022988507, 0.8155172413793104, 0.8121839080459772, 0.8157471264367817, 0.8324137931034483, 0.8527586206896552, 0.8324137931034483, 0.8391954022988506, 0.8427586206896553, 0.8462068965517242, 0.8358620689655174, 0.8462068965517242, 0.8495402298850576, 0.8426436781609196, 0.8425287356321839, 0.8122988505747127, 0.842528735632184, 0.7691954022988506]}, {\"categories\": [\"0\", \"1\", \"2\", \"3\", \"4\", \"5\", \"6\", \"7\", \"8\", \"9\", \"10\", \"11\", \"12\", \"13\", \"14\", \"15\", \"16\", \"17\", \"18\", \"19\", \"20\", \"21\", \"22\", \"23\", \"24\", \"25\", \"26\", \"27\", \"28\", \"29\", \"30\", \"31\", \"32\", \"33\", \"34\", \"35\", \"36\", \"37\", \"38\", \"39\", \"40\", \"41\", \"42\", \"43\", \"44\", \"45\", \"46\", \"47\", \"48\", \"49\", \"50\", \"51\", \"52\", \"53\", \"54\", \"55\", \"56\", \"57\", \"58\", \"59\", \"60\", \"61\", \"62\", \"63\", \"64\", \"65\", \"74\", \"75\"], \"mode\": \"lines\", \"name\": \"f1_score_micro_max\", \"stepped\": true, \"type\": \"scatter\", \"data\": [0.8359770114942527, 0.8359770114942527, 0.8427586206896553, 0.8427586206896553, 0.8593103448275862, 0.8593103448275862, 0.8593103448275862, 0.8593103448275862, 0.8593103448275862, 0.8593103448275862, 0.8593103448275862, 0.8593103448275862, 0.8593103448275862, 0.8593103448275862, 0.8593103448275862, 0.8593103448275862, 0.8593103448275862, 0.8593103448275862, 0.8593103448275862, 0.8593103448275862, 0.8593103448275862, 0.8593103448275862, 0.8593103448275862, 0.8593103448275862, 0.8593103448275862, 0.8593103448275862, 0.8593103448275862, 0.8593103448275862, 0.8593103448275862, 0.8593103448275862, 0.8593103448275862, 0.8593103448275862, 0.8593103448275862, 0.8593103448275862, 0.8593103448275862, 0.8593103448275862, 0.8593103448275862, 0.8593103448275862, 0.8593103448275862, 0.8593103448275862, 0.8593103448275862, 0.8593103448275862, 0.8593103448275862, 0.8593103448275862, 0.8593103448275862, 0.8593103448275862, 0.8593103448275862, 0.8593103448275862, 0.8593103448275862, 0.8593103448275862, 0.8593103448275862, 0.8593103448275862, 0.8593103448275862, 0.8593103448275862, 0.8593103448275862, 0.8593103448275862, 0.8593103448275862, 0.8593103448275862, 0.8593103448275862, 0.8593103448275862, 0.8593103448275862, 0.8593103448275862, 0.8593103448275862, 0.8593103448275862, 0.8593103448275862, 0.8593103448275862, 0.8593103448275862, 0.8593103448275862]}], \"average_precision_score_weighted\": [{\"categories\": [\"0\", \"1\", \"2\", \"3\", \"4\", \"5\", \"6\", \"7\", \"8\", \"9\", \"10\", \"11\", \"12\", \"13\", \"14\", \"15\", \"16\", \"17\", \"18\", \"19\", \"20\", \"21\", \"22\", \"23\", \"24\", \"25\", \"26\", \"27\", \"28\", \"29\", \"30\", \"31\", \"32\", \"33\", \"34\", \"35\", \"36\", \"37\", \"38\", \"39\", \"40\", \"41\", \"42\", \"43\", \"44\", \"45\", \"46\", \"47\", \"48\", \"49\", \"50\", \"51\", \"52\", \"53\", \"54\", \"55\", \"56\", \"57\", \"58\", \"59\", \"60\", \"61\", \"62\", \"63\", \"64\", \"65\", \"74\", \"75\"], \"mode\": \"markers\", \"name\": \"average_precision_score_weighted\", \"stepped\": false, \"type\": \"scatter\", \"data\": [0.9051008129377234, 0.907154018724502, 0.9096290921941683, 0.9111704952144202, 0.9195172452015952, 0.6307313459057176, 0.8899646080634913, 0.9068274231189403, 0.8602186701143436, 0.9140714135359327, 0.8879444208863108, 0.8270292193103982, 0.9072257750919638, 0.7942963774294312, 0.9167054477349573, 0.881325058913727, 0.9169858036264895, 0.9175873083762577, 0.8967556516569866, 0.8971161643451364, 0.9151320934713377, 0.9223012026915944, 0.9151035288033279, 0.8886032389371155, 0.9246111640214792, 0.891987839040711, 0.8044409146303162, 0.9190384956164556, 0.9187210280482478, 0.9045894676370665, 0.9317253823311553, 0.8950360624588042, 0.9246328065433366, 0.9259784229446192, 0.9136493148371168, 0.9109762355238826, 0.9253744819816638, 0.9258149513021093, 0.9194274170190232, 0.9161059010458935, 0.8916216580668761, 0.9234038275204994, 0.9237722511310402, 0.9177201657071832, 0.9225745828653228, 0.9154199887239003, 0.9283505193985849, 0.9156456145987975, 0.9261402718488607, 0.8942553107169863, 0.8506183894966742, 0.9219708695090633, 0.9185022473474115, 0.9148628441803919, 0.9092072861508511, 0.9271790895525882, 0.921300012366918, 0.9266277644586463, 0.928526518753953, 0.9119494227270799, 0.9181113732711139, 0.9246352790373639, 0.9100325873415127, 0.9173529770597366, 0.9210306994244497, 0.8963521437028552, 0.9314271581501158, 0.9221534270612206]}, {\"categories\": [\"0\", \"1\", \"2\", \"3\", \"4\", \"5\", \"6\", \"7\", \"8\", \"9\", \"10\", \"11\", \"12\", \"13\", \"14\", \"15\", \"16\", \"17\", \"18\", \"19\", \"20\", \"21\", \"22\", \"23\", \"24\", \"25\", \"26\", \"27\", \"28\", \"29\", \"30\", \"31\", \"32\", \"33\", \"34\", \"35\", \"36\", \"37\", \"38\", \"39\", \"40\", \"41\", \"42\", \"43\", \"44\", \"45\", \"46\", \"47\", \"48\", \"49\", \"50\", \"51\", \"52\", \"53\", \"54\", \"55\", \"56\", \"57\", \"58\", \"59\", \"60\", \"61\", \"62\", \"63\", \"64\", \"65\", \"74\", \"75\"], \"mode\": \"lines\", \"name\": \"average_precision_score_weighted_max\", \"stepped\": true, \"type\": \"scatter\", \"data\": [0.9051008129377234, 0.907154018724502, 0.9096290921941683, 0.9111704952144202, 0.9195172452015952, 0.9195172452015952, 0.9195172452015952, 0.9195172452015952, 0.9195172452015952, 0.9195172452015952, 0.9195172452015952, 0.9195172452015952, 0.9195172452015952, 0.9195172452015952, 0.9195172452015952, 0.9195172452015952, 0.9195172452015952, 0.9195172452015952, 0.9195172452015952, 0.9195172452015952, 0.9195172452015952, 0.9223012026915944, 0.9223012026915944, 0.9223012026915944, 0.9246111640214792, 0.9246111640214792, 0.9246111640214792, 0.9246111640214792, 0.9246111640214792, 0.9246111640214792, 0.9317253823311553, 0.9317253823311553, 0.9317253823311553, 0.9317253823311553, 0.9317253823311553, 0.9317253823311553, 0.9317253823311553, 0.9317253823311553, 0.9317253823311553, 0.9317253823311553, 0.9317253823311553, 0.9317253823311553, 0.9317253823311553, 0.9317253823311553, 0.9317253823311553, 0.9317253823311553, 0.9317253823311553, 0.9317253823311553, 0.9317253823311553, 0.9317253823311553, 0.9317253823311553, 0.9317253823311553, 0.9317253823311553, 0.9317253823311553, 0.9317253823311553, 0.9317253823311553, 0.9317253823311553, 0.9317253823311553, 0.9317253823311553, 0.9317253823311553, 0.9317253823311553, 0.9317253823311553, 0.9317253823311553, 0.9317253823311553, 0.9317253823311553, 0.9317253823311553, 0.9317253823311553, 0.9317253823311553]}], \"recall_score_macro\": [{\"categories\": [\"0\", \"1\", \"2\", \"3\", \"4\", \"5\", \"6\", \"7\", \"8\", \"9\", \"10\", \"11\", \"12\", \"13\", \"14\", \"15\", \"16\", \"17\", \"18\", \"19\", \"20\", \"21\", \"22\", \"23\", \"24\", \"25\", \"26\", \"27\", \"28\", \"29\", \"30\", \"31\", \"32\", \"33\", \"34\", \"35\", \"36\", \"37\", \"38\", \"39\", \"40\", \"41\", \"42\", \"43\", \"44\", \"45\", \"46\", \"47\", \"48\", \"49\", \"50\", \"51\", \"52\", \"53\", \"54\", \"55\", \"56\", \"57\", \"58\", \"59\", \"60\", \"61\", \"62\", \"63\", \"64\", \"65\", \"74\", \"75\"], \"mode\": \"markers\", \"name\": \"recall_score_macro\", \"stepped\": false, \"type\": \"scatter\", \"data\": [0.8077082895810014, 0.8130249020938379, 0.7952587310667975, 0.7950796098447701, 0.8314527833912845, 0.5462382764387913, 0.7764642419619536, 0.7993211511981534, 0.61765993953923, 0.8140416229143346, 0.7878200375774747, 0.6837352831188644, 0.7934417169405729, 0.6741668441525421, 0.8168764000746267, 0.7653338629016546, 0.7994181513566525, 0.7870097192090899, 0.7929775583557047, 0.8176457856598016, 0.8224065759755119, 0.8043957943277166, 0.784952061890563, 0.7890289850944885, 0.8117345929877395, 0.6594152872299326, 0.5125974025974026, 0.8241628453544928, 0.7933653649935114, 0.7466476199556864, 0.8261673984863342, 0.7981745792346479, 0.8194981401131287, 0.840677297245089, 0.6551769575453786, 0.7981108234188897, 0.8053344572729584, 0.8235564677504037, 0.8234726882258346, 0.792303762122698, 0.7568269669562576, 0.8168014172453532, 0.8180509074894087, 0.7422508799997358, 0.8063869464504476, 0.5, 0.8324293222351002, 0.827627545064902, 0.8201177098708563, 0.7859102251676622, 0.5, 0.8129529200141329, 0.8212782408920853, 0.8218713144851588, 0.8199048044188204, 0.8271321398852862, 0.8179936117467582, 0.818582622151558, 0.8132637188326548, 0.8161681513566524, 0.8099874789906254, 0.8157436117467581, 0.8048568551649214, 0.8207535864529572, 0.8204518501457863, 0.8294703850370325, 0.8242504660036125, 0.7178765482546947]}, {\"categories\": [\"0\", \"1\", \"2\", \"3\", \"4\", \"5\", \"6\", \"7\", \"8\", \"9\", \"10\", \"11\", \"12\", \"13\", \"14\", \"15\", \"16\", \"17\", \"18\", \"19\", \"20\", \"21\", \"22\", \"23\", \"24\", \"25\", \"26\", \"27\", \"28\", \"29\", \"30\", \"31\", \"32\", \"33\", \"34\", \"35\", \"36\", \"37\", \"38\", \"39\", \"40\", \"41\", \"42\", \"43\", \"44\", \"45\", \"46\", \"47\", \"48\", \"49\", \"50\", \"51\", \"52\", \"53\", \"54\", \"55\", \"56\", \"57\", \"58\", \"59\", \"60\", \"61\", \"62\", \"63\", \"64\", \"65\", \"74\", \"75\"], \"mode\": \"lines\", \"name\": \"recall_score_macro_max\", \"stepped\": true, \"type\": \"scatter\", \"data\": [0.8077082895810014, 0.8130249020938379, 0.8130249020938379, 0.8130249020938379, 0.8314527833912845, 0.8314527833912845, 0.8314527833912845, 0.8314527833912845, 0.8314527833912845, 0.8314527833912845, 0.8314527833912845, 0.8314527833912845, 0.8314527833912845, 0.8314527833912845, 0.8314527833912845, 0.8314527833912845, 0.8314527833912845, 0.8314527833912845, 0.8314527833912845, 0.8314527833912845, 0.8314527833912845, 0.8314527833912845, 0.8314527833912845, 0.8314527833912845, 0.8314527833912845, 0.8314527833912845, 0.8314527833912845, 0.8314527833912845, 0.8314527833912845, 0.8314527833912845, 0.8314527833912845, 0.8314527833912845, 0.8314527833912845, 0.840677297245089, 0.840677297245089, 0.840677297245089, 0.840677297245089, 0.840677297245089, 0.840677297245089, 0.840677297245089, 0.840677297245089, 0.840677297245089, 0.840677297245089, 0.840677297245089, 0.840677297245089, 0.840677297245089, 0.840677297245089, 0.840677297245089, 0.840677297245089, 0.840677297245089, 0.840677297245089, 0.840677297245089, 0.840677297245089, 0.840677297245089, 0.840677297245089, 0.840677297245089, 0.840677297245089, 0.840677297245089, 0.840677297245089, 0.840677297245089, 0.840677297245089, 0.840677297245089, 0.840677297245089, 0.840677297245089, 0.840677297245089, 0.840677297245089, 0.840677297245089, 0.840677297245089]}], \"AUC_weighted\": [{\"categories\": [\"0\", \"1\", \"2\", \"3\", \"4\", \"5\", \"6\", \"7\", \"8\", \"9\", \"10\", \"11\", \"12\", \"13\", \"14\", \"15\", \"16\", \"17\", \"18\", \"19\", \"20\", \"21\", \"22\", \"23\", \"24\", \"25\", \"26\", \"27\", \"28\", \"29\", \"30\", \"31\", \"32\", \"33\", \"34\", \"35\", \"36\", \"37\", \"38\", \"39\", \"40\", \"41\", \"42\", \"43\", \"44\", \"45\", \"46\", \"47\", \"48\", \"49\", \"50\", \"51\", \"52\", \"53\", \"54\", \"55\", \"56\", \"57\", \"58\", \"59\", \"60\", \"61\", \"62\", \"63\", \"64\", \"65\", \"74\", \"75\"], \"mode\": \"markers\", \"name\": \"AUC_weighted\", \"stepped\": false, \"type\": \"scatter\", \"data\": [0.8831034719814468, 0.8847369443591411, 0.8847715965088391, 0.8940095883923688, 0.9028613008971705, 0.5058572603005097, 0.8672331527930499, 0.8938913023115541, 0.8332658768957968, 0.9001865207044842, 0.8638387105774978, 0.7996258755419511, 0.8845017973402985, 0.7464011599733854, 0.8967744396124259, 0.8622732591524926, 0.9031964896871075, 0.8972063200106106, 0.8853547098147212, 0.8749529647570837, 0.8960912485429647, 0.9065491630921836, 0.8982296342250005, 0.867422648766184, 0.9101363372198614, 0.8668379604864158, 0.773291712482788, 0.90526777965445, 0.9006359715989578, 0.8801182310189175, 0.9131286955861325, 0.8686723778869659, 0.9064519654978463, 0.9103707053371239, 0.8946698649071074, 0.888634476067199, 0.9068205093321797, 0.9086939266534804, 0.9040648909273624, 0.8909093929102511, 0.8785886259071042, 0.9054548453643992, 0.9085828752821887, 0.8956962236233975, 0.903713377179224, 0.9083017527899679, 0.9157218452367193, 0.9086553771478544, 0.9108264893679081, 0.8700245886455269, 0.8023954043265829, 0.9049319189772851, 0.9064518577130134, 0.9031918625890591, 0.8860591151242183, 0.9092839639998107, 0.9088659476700094, 0.9090251992244557, 0.9115895727736116, 0.8981761860871987, 0.9020935013477921, 0.9091452032034413, 0.8961088333619511, 0.8992588115270609, 0.9039630540173448, 0.8742116665731082, 0.9178054571816012, 0.9089498269443922]}, {\"categories\": [\"0\", \"1\", \"2\", \"3\", \"4\", \"5\", \"6\", \"7\", \"8\", \"9\", \"10\", \"11\", \"12\", \"13\", \"14\", \"15\", \"16\", \"17\", \"18\", \"19\", \"20\", \"21\", \"22\", \"23\", \"24\", \"25\", \"26\", \"27\", \"28\", \"29\", \"30\", \"31\", \"32\", \"33\", \"34\", \"35\", \"36\", \"37\", \"38\", \"39\", \"40\", \"41\", \"42\", \"43\", \"44\", \"45\", \"46\", \"47\", \"48\", \"49\", \"50\", \"51\", \"52\", \"53\", \"54\", \"55\", \"56\", \"57\", \"58\", \"59\", \"60\", \"61\", \"62\", \"63\", \"64\", \"65\", \"74\", \"75\"], \"mode\": \"lines\", \"name\": \"AUC_weighted_max\", \"stepped\": true, \"type\": \"scatter\", \"data\": [0.8831034719814468, 0.8847369443591411, 0.8847715965088391, 0.8940095883923688, 0.9028613008971705, 0.9028613008971705, 0.9028613008971705, 0.9028613008971705, 0.9028613008971705, 0.9028613008971705, 0.9028613008971705, 0.9028613008971705, 0.9028613008971705, 0.9028613008971705, 0.9028613008971705, 0.9028613008971705, 0.9031964896871075, 0.9031964896871075, 0.9031964896871075, 0.9031964896871075, 0.9031964896871075, 0.9065491630921836, 0.9065491630921836, 0.9065491630921836, 0.9101363372198614, 0.9101363372198614, 0.9101363372198614, 0.9101363372198614, 0.9101363372198614, 0.9101363372198614, 0.9131286955861325, 0.9131286955861325, 0.9131286955861325, 0.9131286955861325, 0.9131286955861325, 0.9131286955861325, 0.9131286955861325, 0.9131286955861325, 0.9131286955861325, 0.9131286955861325, 0.9131286955861325, 0.9131286955861325, 0.9131286955861325, 0.9131286955861325, 0.9131286955861325, 0.9131286955861325, 0.9157218452367193, 0.9157218452367193, 0.9157218452367193, 0.9157218452367193, 0.9157218452367193, 0.9157218452367193, 0.9157218452367193, 0.9157218452367193, 0.9157218452367193, 0.9157218452367193, 0.9157218452367193, 0.9157218452367193, 0.9157218452367193, 0.9157218452367193, 0.9157218452367193, 0.9157218452367193, 0.9157218452367193, 0.9157218452367193, 0.9157218452367193, 0.9157218452367193, 0.9178054571816012, 0.9178054571816012]}], \"f1_score_macro\": [{\"categories\": [\"0\", \"1\", \"2\", \"3\", \"4\", \"5\", \"6\", \"7\", \"8\", \"9\", \"10\", \"11\", \"12\", \"13\", \"14\", \"15\", \"16\", \"17\", \"18\", \"19\", \"20\", \"21\", \"22\", \"23\", \"24\", \"25\", \"26\", \"27\", \"28\", \"29\", \"30\", \"31\", \"32\", \"33\", \"34\", \"35\", \"36\", \"37\", \"38\", \"39\", \"40\", \"41\", \"42\", \"43\", \"44\", \"45\", \"46\", \"47\", \"48\", \"49\", \"50\", \"51\", \"52\", \"53\", \"54\", \"55\", \"56\", \"57\", \"58\", \"59\", \"60\", \"61\", \"62\", \"63\", \"64\", \"65\", \"74\", \"75\"], \"mode\": \"markers\", \"name\": \"f1_score_macro\", \"stepped\": false, \"type\": \"scatter\", \"data\": [0.8043314151248963, 0.8078501228997539, 0.8050826619787024, 0.7889874341442946, 0.8303557632038444, 0.5099311378159193, 0.7799209816490544, 0.7978504833819471, 0.6003405547539441, 0.8114431709011706, 0.7859665734784926, 0.6814942684754226, 0.8030594263892136, 0.6829016131755693, 0.8008940349130098, 0.7608691587822023, 0.8020087298439702, 0.7779369414610366, 0.7941938330059873, 0.8069183426747367, 0.822815722901729, 0.8038493270152639, 0.7945419677576429, 0.7627173409308519, 0.7975569981154437, 0.6613380936044788, 0.42852721712427283, 0.7991841787271826, 0.7945684785509859, 0.7635157824722907, 0.8259928907900003, 0.7799877136282245, 0.7924076139239183, 0.816412039472915, 0.6584493763061906, 0.810389774218673, 0.8077567488328358, 0.8213053999622515, 0.81921156594933, 0.7888558848068329, 0.7626130427020519, 0.8125955006816259, 0.8176452395189024, 0.7540677356597105, 0.8127604882890178, 0.4024893878511494, 0.8072559259339445, 0.808315901260287, 0.8161795273857322, 0.7847066222312058, 0.4024893878511494, 0.7901483816965007, 0.7890331939067008, 0.7916969907537825, 0.8044694152742105, 0.8253081779406081, 0.8026513561170312, 0.809063178634785, 0.8092506874241453, 0.8135350473969373, 0.8082161908780117, 0.8149277872765681, 0.8147508899599678, 0.8158097909107214, 0.8156507842706866, 0.792843498075922, 0.8133131655472596, 0.6748446971313666]}, {\"categories\": [\"0\", \"1\", \"2\", \"3\", \"4\", \"5\", \"6\", \"7\", \"8\", \"9\", \"10\", \"11\", \"12\", \"13\", \"14\", \"15\", \"16\", \"17\", \"18\", \"19\", \"20\", \"21\", \"22\", \"23\", \"24\", \"25\", \"26\", \"27\", \"28\", \"29\", \"30\", \"31\", \"32\", \"33\", \"34\", \"35\", \"36\", \"37\", \"38\", \"39\", \"40\", \"41\", \"42\", \"43\", \"44\", \"45\", \"46\", \"47\", \"48\", \"49\", \"50\", \"51\", \"52\", \"53\", \"54\", \"55\", \"56\", \"57\", \"58\", \"59\", \"60\", \"61\", \"62\", \"63\", \"64\", \"65\", \"74\", \"75\"], \"mode\": \"lines\", \"name\": \"f1_score_macro_max\", \"stepped\": true, \"type\": \"scatter\", \"data\": [0.8043314151248963, 0.8078501228997539, 0.8078501228997539, 0.8078501228997539, 0.8303557632038444, 0.8303557632038444, 0.8303557632038444, 0.8303557632038444, 0.8303557632038444, 0.8303557632038444, 0.8303557632038444, 0.8303557632038444, 0.8303557632038444, 0.8303557632038444, 0.8303557632038444, 0.8303557632038444, 0.8303557632038444, 0.8303557632038444, 0.8303557632038444, 0.8303557632038444, 0.8303557632038444, 0.8303557632038444, 0.8303557632038444, 0.8303557632038444, 0.8303557632038444, 0.8303557632038444, 0.8303557632038444, 0.8303557632038444, 0.8303557632038444, 0.8303557632038444, 0.8303557632038444, 0.8303557632038444, 0.8303557632038444, 0.8303557632038444, 0.8303557632038444, 0.8303557632038444, 0.8303557632038444, 0.8303557632038444, 0.8303557632038444, 0.8303557632038444, 0.8303557632038444, 0.8303557632038444, 0.8303557632038444, 0.8303557632038444, 0.8303557632038444, 0.8303557632038444, 0.8303557632038444, 0.8303557632038444, 0.8303557632038444, 0.8303557632038444, 0.8303557632038444, 0.8303557632038444, 0.8303557632038444, 0.8303557632038444, 0.8303557632038444, 0.8303557632038444, 0.8303557632038444, 0.8303557632038444, 0.8303557632038444, 0.8303557632038444, 0.8303557632038444, 0.8303557632038444, 0.8303557632038444, 0.8303557632038444, 0.8303557632038444, 0.8303557632038444, 0.8303557632038444, 0.8303557632038444]}], \"precision_score_macro\": [{\"categories\": [\"0\", \"1\", \"2\", \"3\", \"4\", \"5\", \"6\", \"7\", \"8\", \"9\", \"10\", \"11\", \"12\", \"13\", \"14\", \"15\", \"16\", \"17\", \"18\", \"19\", \"20\", \"21\", \"22\", \"23\", \"24\", \"25\", \"26\", \"27\", \"28\", \"29\", \"30\", \"31\", \"32\", \"33\", \"34\", \"35\", \"36\", \"37\", \"38\", \"39\", \"40\", \"41\", \"42\", \"43\", \"44\", \"45\", \"46\", \"47\", \"48\", \"49\", \"50\", \"51\", \"52\", \"53\", \"54\", \"55\", \"56\", \"57\", \"58\", \"59\", \"60\", \"61\", \"62\", \"63\", \"64\", \"65\", \"74\", \"75\"], \"mode\": \"markers\", \"name\": \"precision_score_macro\", \"stepped\": false, \"type\": \"scatter\", \"data\": [0.8167365852764965, 0.8232986049897815, 0.8435752853284824, 0.8124716810966811, 0.8520443996110977, 0.5285095656467471, 0.8111825429846025, 0.8199590814840176, 0.7597003248986007, 0.8254080276448696, 0.8133497194072137, 0.756605998671216, 0.8518742899612464, 0.773829678500159, 0.8027839692015558, 0.7798998525628961, 0.8296960302601034, 0.7901915113871636, 0.8240546484632162, 0.8121522345884473, 0.8408582185788067, 0.8182830570253843, 0.8353732981993851, 0.7717295219830049, 0.8024884759502473, 0.7920782605006742, 0.40823165340406725, 0.7946703071927699, 0.8308262717674483, 0.8516227106227106, 0.8502209595959596, 0.7804252091199358, 0.7887764557424, 0.8100712358135127, 0.8362910539540973, 0.856285008469791, 0.8288332549093418, 0.8475612883493318, 0.8329130526336408, 0.8179215026870498, 0.8037065289782681, 0.8326834023464457, 0.8348873766188344, 0.8481224407637452, 0.8557187052713369, 0.33959770114942534, 0.8032151343985878, 0.8076078329882677, 0.8378946543652426, 0.8090402079804253, 0.33959770114942534, 0.7900483091787439, 0.7902074104086488, 0.7929692194630275, 0.8056021559168013, 0.8444485691560499, 0.8070114930536925, 0.8237118256775007, 0.8254841505113244, 0.8336116064952381, 0.8268033671358481, 0.8380321662939446, 0.8524953416149069, 0.8311846078757844, 0.8301618806030572, 0.7921807070096711, 0.8219380241455051, 0.6597360718991154]}, {\"categories\": [\"0\", \"1\", \"2\", \"3\", \"4\", \"5\", \"6\", \"7\", \"8\", \"9\", \"10\", \"11\", \"12\", \"13\", \"14\", \"15\", \"16\", \"17\", \"18\", \"19\", \"20\", \"21\", \"22\", \"23\", \"24\", \"25\", \"26\", \"27\", \"28\", \"29\", \"30\", \"31\", \"32\", \"33\", \"34\", \"35\", \"36\", \"37\", \"38\", \"39\", \"40\", \"41\", \"42\", \"43\", \"44\", \"45\", \"46\", \"47\", \"48\", \"49\", \"50\", \"51\", \"52\", \"53\", \"54\", \"55\", \"56\", \"57\", \"58\", \"59\", \"60\", \"61\", \"62\", \"63\", \"64\", \"65\", \"74\", \"75\"], \"mode\": \"lines\", \"name\": \"precision_score_macro_max\", \"stepped\": true, \"type\": \"scatter\", \"data\": [0.8167365852764965, 0.8232986049897815, 0.8435752853284824, 0.8435752853284824, 0.8520443996110977, 0.8520443996110977, 0.8520443996110977, 0.8520443996110977, 0.8520443996110977, 0.8520443996110977, 0.8520443996110977, 0.8520443996110977, 0.8520443996110977, 0.8520443996110977, 0.8520443996110977, 0.8520443996110977, 0.8520443996110977, 0.8520443996110977, 0.8520443996110977, 0.8520443996110977, 0.8520443996110977, 0.8520443996110977, 0.8520443996110977, 0.8520443996110977, 0.8520443996110977, 0.8520443996110977, 0.8520443996110977, 0.8520443996110977, 0.8520443996110977, 0.8520443996110977, 0.8520443996110977, 0.8520443996110977, 0.8520443996110977, 0.8520443996110977, 0.8520443996110977, 0.856285008469791, 0.856285008469791, 0.856285008469791, 0.856285008469791, 0.856285008469791, 0.856285008469791, 0.856285008469791, 0.856285008469791, 0.856285008469791, 0.856285008469791, 0.856285008469791, 0.856285008469791, 0.856285008469791, 0.856285008469791, 0.856285008469791, 0.856285008469791, 0.856285008469791, 0.856285008469791, 0.856285008469791, 0.856285008469791, 0.856285008469791, 0.856285008469791, 0.856285008469791, 0.856285008469791, 0.856285008469791, 0.856285008469791, 0.856285008469791, 0.856285008469791, 0.856285008469791, 0.856285008469791, 0.856285008469791, 0.856285008469791, 0.856285008469791]}], \"balanced_accuracy\": [{\"categories\": [\"0\", \"1\", \"2\", \"3\", \"4\", \"5\", \"6\", \"7\", \"8\", \"9\", \"10\", \"11\", \"12\", \"13\", \"14\", \"15\", \"16\", \"17\", \"18\", \"19\", \"20\", \"21\", \"22\", \"23\", \"24\", \"25\", \"26\", \"27\", \"28\", \"29\", \"30\", \"31\", \"32\", \"33\", \"34\", \"35\", \"36\", \"37\", \"38\", \"39\", \"40\", \"41\", \"42\", \"43\", \"44\", \"45\", \"46\", \"47\", \"48\", \"49\", \"50\", \"51\", \"52\", \"53\", \"54\", \"55\", \"56\", \"57\", \"58\", \"59\", \"60\", \"61\", \"62\", \"63\", \"64\", \"65\", \"74\", \"75\"], \"mode\": \"markers\", \"name\": \"balanced_accuracy\", \"stepped\": false, \"type\": \"scatter\", \"data\": [0.8077082895810014, 0.8130249020938379, 0.7952587310667975, 0.7950796098447701, 0.8314527833912845, 0.5462382764387913, 0.7764642419619536, 0.7993211511981534, 0.61765993953923, 0.8140416229143346, 0.7878200375774747, 0.6837352831188644, 0.7934417169405729, 0.6741668441525421, 0.8168764000746267, 0.7653338629016546, 0.7994181513566525, 0.7870097192090899, 0.7929775583557047, 0.8176457856598016, 0.8224065759755119, 0.8043957943277166, 0.784952061890563, 0.7890289850944885, 0.8117345929877395, 0.6594152872299326, 0.5125974025974026, 0.8241628453544928, 0.7933653649935114, 0.7466476199556864, 0.8261673984863342, 0.7981745792346479, 0.8194981401131287, 0.840677297245089, 0.6551769575453786, 0.7981108234188897, 0.8053344572729584, 0.8235564677504037, 0.8234726882258346, 0.792303762122698, 0.7568269669562576, 0.8168014172453532, 0.8180509074894087, 0.7422508799997358, 0.8063869464504476, 0.5, 0.8324293222351002, 0.827627545064902, 0.8201177098708563, 0.7859102251676622, 0.5, 0.8129529200141329, 0.8212782408920853, 0.8218713144851588, 0.8199048044188204, 0.8271321398852862, 0.8179936117467582, 0.818582622151558, 0.8132637188326548, 0.8161681513566524, 0.8099874789906254, 0.8157436117467581, 0.8048568551649214, 0.8207535864529572, 0.8204518501457863, 0.8294703850370325, 0.8242504660036125, 0.7178765482546947]}, {\"categories\": [\"0\", \"1\", \"2\", \"3\", \"4\", \"5\", \"6\", \"7\", \"8\", \"9\", \"10\", \"11\", \"12\", \"13\", \"14\", \"15\", \"16\", \"17\", \"18\", \"19\", \"20\", \"21\", \"22\", \"23\", \"24\", \"25\", \"26\", \"27\", \"28\", \"29\", \"30\", \"31\", \"32\", \"33\", \"34\", \"35\", \"36\", \"37\", \"38\", \"39\", \"40\", \"41\", \"42\", \"43\", \"44\", \"45\", \"46\", \"47\", \"48\", \"49\", \"50\", \"51\", \"52\", \"53\", \"54\", \"55\", \"56\", \"57\", \"58\", \"59\", \"60\", \"61\", \"62\", \"63\", \"64\", \"65\", \"74\", \"75\"], \"mode\": \"lines\", \"name\": \"balanced_accuracy_max\", \"stepped\": true, \"type\": \"scatter\", \"data\": [0.8077082895810014, 0.8130249020938379, 0.8130249020938379, 0.8130249020938379, 0.8314527833912845, 0.8314527833912845, 0.8314527833912845, 0.8314527833912845, 0.8314527833912845, 0.8314527833912845, 0.8314527833912845, 0.8314527833912845, 0.8314527833912845, 0.8314527833912845, 0.8314527833912845, 0.8314527833912845, 0.8314527833912845, 0.8314527833912845, 0.8314527833912845, 0.8314527833912845, 0.8314527833912845, 0.8314527833912845, 0.8314527833912845, 0.8314527833912845, 0.8314527833912845, 0.8314527833912845, 0.8314527833912845, 0.8314527833912845, 0.8314527833912845, 0.8314527833912845, 0.8314527833912845, 0.8314527833912845, 0.8314527833912845, 0.840677297245089, 0.840677297245089, 0.840677297245089, 0.840677297245089, 0.840677297245089, 0.840677297245089, 0.840677297245089, 0.840677297245089, 0.840677297245089, 0.840677297245089, 0.840677297245089, 0.840677297245089, 0.840677297245089, 0.840677297245089, 0.840677297245089, 0.840677297245089, 0.840677297245089, 0.840677297245089, 0.840677297245089, 0.840677297245089, 0.840677297245089, 0.840677297245089, 0.840677297245089, 0.840677297245089, 0.840677297245089, 0.840677297245089, 0.840677297245089, 0.840677297245089, 0.840677297245089, 0.840677297245089, 0.840677297245089, 0.840677297245089, 0.840677297245089, 0.840677297245089, 0.840677297245089]}], \"norm_macro_recall\": [{\"categories\": [\"0\", \"1\", \"2\", \"3\", \"4\", \"5\", \"6\", \"7\", \"8\", \"9\", \"10\", \"11\", \"12\", \"13\", \"14\", \"15\", \"16\", \"17\", \"18\", \"19\", \"20\", \"21\", \"22\", \"23\", \"24\", \"25\", \"26\", \"27\", \"28\", \"29\", \"30\", \"31\", \"32\", \"33\", \"34\", \"35\", \"36\", \"37\", \"38\", \"39\", \"40\", \"41\", \"42\", \"43\", \"44\", \"45\", \"46\", \"47\", \"48\", \"49\", \"50\", \"51\", \"52\", \"53\", \"54\", \"55\", \"56\", \"57\", \"58\", \"59\", \"60\", \"61\", \"62\", \"63\", \"64\", \"65\", \"74\", \"75\"], \"mode\": \"markers\", \"name\": \"norm_macro_recall\", \"stepped\": false, \"type\": \"scatter\", \"data\": [0.6154165791620023, 0.626049804187676, 0.5905174621335948, 0.59015921968954, 0.662905566782569, 0.1312714568040655, 0.5529284839239071, 0.5986423023963068, 0.24584619486793394, 0.6280832458286693, 0.5756400751549493, 0.3674705662377288, 0.5868834338811456, 0.34833368830508415, 0.6337528001492532, 0.5306677258033093, 0.598836302713305, 0.5740194384181798, 0.5859551167114095, 0.6352915713196033, 0.6448131519510237, 0.6087915886554329, 0.569904123781126, 0.5780579701889771, 0.6234691859754788, 0.31883057445986507, 0.025194805194805193, 0.648325690708986, 0.5867307299870228, 0.49329523991137264, 0.6523347969726688, 0.5963491584692957, 0.6389962802262573, 0.681354594490178, 0.31035391509075716, 0.5962216468377795, 0.610668914545917, 0.6471129355008072, 0.6469453764516693, 0.5846075242453961, 0.5136539339125152, 0.6336028344907063, 0.6361018149788172, 0.48450175999947165, 0.6127738929008951, 0.0, 0.6648586444702005, 0.6552550901298041, 0.6402354197417127, 0.5718204503353244, 0.0, 0.6259058400282657, 0.6425564817841705, 0.6437426289703179, 0.6398096088376409, 0.6542642797705727, 0.6359872234935164, 0.6371652443031162, 0.6265274376653095, 0.632336302713305, 0.6199749579812508, 0.6314872234935164, 0.6097137103298431, 0.6415071729059143, 0.6409037002915721, 0.6589407700740654, 0.6485009320072249, 0.4357530965093894]}, {\"categories\": [\"0\", \"1\", \"2\", \"3\", \"4\", \"5\", \"6\", \"7\", \"8\", \"9\", \"10\", \"11\", \"12\", \"13\", \"14\", \"15\", \"16\", \"17\", \"18\", \"19\", \"20\", \"21\", \"22\", \"23\", \"24\", \"25\", \"26\", \"27\", \"28\", \"29\", \"30\", \"31\", \"32\", \"33\", \"34\", \"35\", \"36\", \"37\", \"38\", \"39\", \"40\", \"41\", \"42\", \"43\", \"44\", \"45\", \"46\", \"47\", \"48\", \"49\", \"50\", \"51\", \"52\", \"53\", \"54\", \"55\", \"56\", \"57\", \"58\", \"59\", \"60\", \"61\", \"62\", \"63\", \"64\", \"65\", \"74\", \"75\"], \"mode\": \"lines\", \"name\": \"norm_macro_recall_max\", \"stepped\": true, \"type\": \"scatter\", \"data\": [0.6154165791620023, 0.626049804187676, 0.626049804187676, 0.626049804187676, 0.662905566782569, 0.662905566782569, 0.662905566782569, 0.662905566782569, 0.662905566782569, 0.662905566782569, 0.662905566782569, 0.662905566782569, 0.662905566782569, 0.662905566782569, 0.662905566782569, 0.662905566782569, 0.662905566782569, 0.662905566782569, 0.662905566782569, 0.662905566782569, 0.662905566782569, 0.662905566782569, 0.662905566782569, 0.662905566782569, 0.662905566782569, 0.662905566782569, 0.662905566782569, 0.662905566782569, 0.662905566782569, 0.662905566782569, 0.662905566782569, 0.662905566782569, 0.662905566782569, 0.681354594490178, 0.681354594490178, 0.681354594490178, 0.681354594490178, 0.681354594490178, 0.681354594490178, 0.681354594490178, 0.681354594490178, 0.681354594490178, 0.681354594490178, 0.681354594490178, 0.681354594490178, 0.681354594490178, 0.681354594490178, 0.681354594490178, 0.681354594490178, 0.681354594490178, 0.681354594490178, 0.681354594490178, 0.681354594490178, 0.681354594490178, 0.681354594490178, 0.681354594490178, 0.681354594490178, 0.681354594490178, 0.681354594490178, 0.681354594490178, 0.681354594490178, 0.681354594490178, 0.681354594490178, 0.681354594490178, 0.681354594490178, 0.681354594490178, 0.681354594490178, 0.681354594490178]}], \"precision_score_micro\": [{\"categories\": [\"0\", \"1\", \"2\", \"3\", \"4\", \"5\", \"6\", \"7\", \"8\", \"9\", \"10\", \"11\", \"12\", \"13\", \"14\", \"15\", \"16\", \"17\", \"18\", \"19\", \"20\", \"21\", \"22\", \"23\", \"24\", \"25\", \"26\", \"27\", \"28\", \"29\", \"30\", \"31\", \"32\", \"33\", \"34\", \"35\", \"36\", \"37\", \"38\", \"39\", \"40\", \"41\", \"42\", \"43\", \"44\", \"45\", \"46\", \"47\", \"48\", \"49\", \"50\", \"51\", \"52\", \"53\", \"54\", \"55\", \"56\", \"57\", \"58\", \"59\", \"60\", \"61\", \"62\", \"63\", \"64\", \"65\", \"74\", \"75\"], \"mode\": \"markers\", \"name\": \"precision_score_micro\", \"stepped\": false, \"type\": \"scatter\", \"data\": [0.8359770114942527, 0.8358620689655172, 0.8427586206896553, 0.8262068965517242, 0.8593103448275862, 0.6424137931034483, 0.8225287356321838, 0.8326436781609197, 0.7393103448275863, 0.8459770114942529, 0.822528735632184, 0.759080459770115, 0.8428735632183908, 0.7658620689655172, 0.8291954022988506, 0.8026436781609195, 0.8394252873563219, 0.8124137931034483, 0.8327586206896551, 0.835977011494253, 0.8560919540229885, 0.8359770114942527, 0.8359770114942527, 0.792528735632184, 0.8291954022988506, 0.7657471264367816, 0.679080459770115, 0.8224137931034482, 0.8359770114942527, 0.8195402298850574, 0.8562068965517243, 0.805632183908046, 0.8157471264367816, 0.839080459770115, 0.7660919540229885, 0.849425287356322, 0.8428735632183908, 0.8526436781609196, 0.8493103448275863, 0.8291954022988506, 0.8190804597701149, 0.8459770114942529, 0.8491954022988505, 0.8160919540229885, 0.8527586206896551, 0.6791954022988507, 0.8290804597701149, 0.8357471264367817, 0.8457471264367815, 0.8226436781609194, 0.6791954022988507, 0.8155172413793104, 0.812183908045977, 0.8157471264367817, 0.8324137931034482, 0.8527586206896552, 0.8324137931034483, 0.8391954022988506, 0.8427586206896553, 0.8462068965517242, 0.8358620689655172, 0.8462068965517242, 0.8495402298850576, 0.8426436781609195, 0.8425287356321839, 0.8122988505747127, 0.842528735632184, 0.7691954022988506]}, {\"categories\": [\"0\", \"1\", \"2\", \"3\", \"4\", \"5\", \"6\", \"7\", \"8\", \"9\", \"10\", \"11\", \"12\", \"13\", \"14\", \"15\", \"16\", \"17\", \"18\", \"19\", \"20\", \"21\", \"22\", \"23\", \"24\", \"25\", \"26\", \"27\", \"28\", \"29\", \"30\", \"31\", \"32\", \"33\", \"34\", \"35\", \"36\", \"37\", \"38\", \"39\", \"40\", \"41\", \"42\", \"43\", \"44\", \"45\", \"46\", \"47\", \"48\", \"49\", \"50\", \"51\", \"52\", \"53\", \"54\", \"55\", \"56\", \"57\", \"58\", \"59\", \"60\", \"61\", \"62\", \"63\", \"64\", \"65\", \"74\", \"75\"], \"mode\": \"lines\", \"name\": \"precision_score_micro_max\", \"stepped\": true, \"type\": \"scatter\", \"data\": [0.8359770114942527, 0.8359770114942527, 0.8427586206896553, 0.8427586206896553, 0.8593103448275862, 0.8593103448275862, 0.8593103448275862, 0.8593103448275862, 0.8593103448275862, 0.8593103448275862, 0.8593103448275862, 0.8593103448275862, 0.8593103448275862, 0.8593103448275862, 0.8593103448275862, 0.8593103448275862, 0.8593103448275862, 0.8593103448275862, 0.8593103448275862, 0.8593103448275862, 0.8593103448275862, 0.8593103448275862, 0.8593103448275862, 0.8593103448275862, 0.8593103448275862, 0.8593103448275862, 0.8593103448275862, 0.8593103448275862, 0.8593103448275862, 0.8593103448275862, 0.8593103448275862, 0.8593103448275862, 0.8593103448275862, 0.8593103448275862, 0.8593103448275862, 0.8593103448275862, 0.8593103448275862, 0.8593103448275862, 0.8593103448275862, 0.8593103448275862, 0.8593103448275862, 0.8593103448275862, 0.8593103448275862, 0.8593103448275862, 0.8593103448275862, 0.8593103448275862, 0.8593103448275862, 0.8593103448275862, 0.8593103448275862, 0.8593103448275862, 0.8593103448275862, 0.8593103448275862, 0.8593103448275862, 0.8593103448275862, 0.8593103448275862, 0.8593103448275862, 0.8593103448275862, 0.8593103448275862, 0.8593103448275862, 0.8593103448275862, 0.8593103448275862, 0.8593103448275862, 0.8593103448275862, 0.8593103448275862, 0.8593103448275862, 0.8593103448275862, 0.8593103448275862, 0.8593103448275862]}], \"AUC_micro\": [{\"categories\": [\"0\", \"1\", \"2\", \"3\", \"4\", \"5\", \"6\", \"7\", \"8\", \"9\", \"10\", \"11\", \"12\", \"13\", \"14\", \"15\", \"16\", \"17\", \"18\", \"19\", \"20\", \"21\", \"22\", \"23\", \"24\", \"25\", \"26\", \"27\", \"28\", \"29\", \"30\", \"31\", \"32\", \"33\", \"34\", \"35\", \"36\", \"37\", \"38\", \"39\", \"40\", \"41\", \"42\", \"43\", \"44\", \"45\", \"46\", \"47\", \"48\", \"49\", \"50\", \"51\", \"52\", \"53\", \"54\", \"55\", \"56\", \"57\", \"58\", \"59\", \"60\", \"61\", \"62\", \"63\", \"64\", \"65\", \"74\", \"75\"], \"mode\": \"markers\", \"name\": \"AUC_micro\", \"stepped\": false, \"type\": \"scatter\", \"data\": [0.9026533227639053, 0.9042166732725592, 0.9009145197516185, 0.9049067247985201, 0.9108112035936056, 0.6536476416963932, 0.8914057339146518, 0.9024291187739465, 0.839863918615405, 0.9092244682256574, 0.8820451843043996, 0.8192879508521601, 0.8987936319196723, 0.8058736953362399, 0.9042985863390145, 0.8809554762848462, 0.9137702470603779, 0.9115753732329239, 0.897226317875545, 0.8942128418549347, 0.9128833399392258, 0.913873563218391, 0.9024622803540758, 0.8640823094200026, 0.9133745541022593, 0.8645578015589905, 0.7925383802351698, 0.9091017307438236, 0.9133511692429647, 0.8813180076628353, 0.9209027612630466, 0.8747645659928658, 0.9034526357510899, 0.9111465186946758, 0.8707722288281147, 0.9038969480776853, 0.9167000924824944, 0.919778042013476, 0.9171757167393315, 0.9018306249174263, 0.880789800502048, 0.9166006077421059, 0.9157722288281148, 0.8900568106751223, 0.9155480248381558, 0.8493258026159335, 0.9102284317611311, 0.9035403620029065, 0.9125733914651869, 0.8902907913859162, 0.8062168053904081, 0.9038659003831416, 0.8995481569560049, 0.8961037125115604, 0.8965266217465981, 0.9198286431496895, 0.9131660721363456, 0.9153569824283261, 0.9195460430704188, 0.9114213238208482, 0.9084700753071742, 0.919395957193817, 0.9000938036728762, 0.9071133571145461, 0.9107858369665742, 0.8777081516712908, 0.9231835116924296, 0.8822790328973446]}, {\"categories\": [\"0\", \"1\", \"2\", \"3\", \"4\", \"5\", \"6\", \"7\", \"8\", \"9\", \"10\", \"11\", \"12\", \"13\", \"14\", \"15\", \"16\", \"17\", \"18\", \"19\", \"20\", \"21\", \"22\", \"23\", \"24\", \"25\", \"26\", \"27\", \"28\", \"29\", \"30\", \"31\", \"32\", \"33\", \"34\", \"35\", \"36\", \"37\", \"38\", \"39\", \"40\", \"41\", \"42\", \"43\", \"44\", \"45\", \"46\", \"47\", \"48\", \"49\", \"50\", \"51\", \"52\", \"53\", \"54\", \"55\", \"56\", \"57\", \"58\", \"59\", \"60\", \"61\", \"62\", \"63\", \"64\", \"65\", \"74\", \"75\"], \"mode\": \"lines\", \"name\": \"AUC_micro_max\", \"stepped\": true, \"type\": \"scatter\", \"data\": [0.9026533227639053, 0.9042166732725592, 0.9042166732725592, 0.9049067247985201, 0.9108112035936056, 0.9108112035936056, 0.9108112035936056, 0.9108112035936056, 0.9108112035936056, 0.9108112035936056, 0.9108112035936056, 0.9108112035936056, 0.9108112035936056, 0.9108112035936056, 0.9108112035936056, 0.9108112035936056, 0.9137702470603779, 0.9137702470603779, 0.9137702470603779, 0.9137702470603779, 0.9137702470603779, 0.913873563218391, 0.913873563218391, 0.913873563218391, 0.913873563218391, 0.913873563218391, 0.913873563218391, 0.913873563218391, 0.913873563218391, 0.913873563218391, 0.9209027612630466, 0.9209027612630466, 0.9209027612630466, 0.9209027612630466, 0.9209027612630466, 0.9209027612630466, 0.9209027612630466, 0.9209027612630466, 0.9209027612630466, 0.9209027612630466, 0.9209027612630466, 0.9209027612630466, 0.9209027612630466, 0.9209027612630466, 0.9209027612630466, 0.9209027612630466, 0.9209027612630466, 0.9209027612630466, 0.9209027612630466, 0.9209027612630466, 0.9209027612630466, 0.9209027612630466, 0.9209027612630466, 0.9209027612630466, 0.9209027612630466, 0.9209027612630466, 0.9209027612630466, 0.9209027612630466, 0.9209027612630466, 0.9209027612630466, 0.9209027612630466, 0.9209027612630466, 0.9209027612630466, 0.9209027612630466, 0.9209027612630466, 0.9209027612630466, 0.9231835116924296, 0.9231835116924296]}], \"accuracy\": [{\"categories\": [\"0\", \"1\", \"2\", \"3\", \"4\", \"5\", \"6\", \"7\", \"8\", \"9\", \"10\", \"11\", \"12\", \"13\", \"14\", \"15\", \"16\", \"17\", \"18\", \"19\", \"20\", \"21\", \"22\", \"23\", \"24\", \"25\", \"26\", \"27\", \"28\", \"29\", \"30\", \"31\", \"32\", \"33\", \"34\", \"35\", \"36\", \"37\", \"38\", \"39\", \"40\", \"41\", \"42\", \"43\", \"44\", \"45\", \"46\", \"47\", \"48\", \"49\", \"50\", \"51\", \"52\", \"53\", \"54\", \"55\", \"56\", \"57\", \"58\", \"59\", \"60\", \"61\", \"62\", \"63\", \"64\", \"65\", \"74\", \"75\"], \"mode\": \"markers\", \"name\": \"accuracy\", \"stepped\": false, \"type\": \"scatter\", \"data\": [0.8359770114942527, 0.8358620689655172, 0.8427586206896553, 0.8262068965517242, 0.8593103448275862, 0.6424137931034483, 0.8225287356321838, 0.8326436781609197, 0.7393103448275863, 0.8459770114942529, 0.822528735632184, 0.759080459770115, 0.8428735632183908, 0.7658620689655172, 0.8291954022988506, 0.8026436781609195, 0.8394252873563219, 0.8124137931034483, 0.8327586206896551, 0.835977011494253, 0.8560919540229885, 0.8359770114942527, 0.8359770114942527, 0.792528735632184, 0.8291954022988506, 0.7657471264367816, 0.679080459770115, 0.8224137931034482, 0.8359770114942527, 0.8195402298850574, 0.8562068965517243, 0.805632183908046, 0.8157471264367816, 0.839080459770115, 0.7660919540229885, 0.849425287356322, 0.8428735632183908, 0.8526436781609196, 0.8493103448275863, 0.8291954022988506, 0.8190804597701149, 0.8459770114942529, 0.8491954022988505, 0.8160919540229885, 0.8527586206896551, 0.6791954022988507, 0.8290804597701149, 0.8357471264367817, 0.8457471264367815, 0.8226436781609194, 0.6791954022988507, 0.8155172413793104, 0.812183908045977, 0.8157471264367817, 0.8324137931034482, 0.8527586206896552, 0.8324137931034483, 0.8391954022988506, 0.8427586206896553, 0.8462068965517242, 0.8358620689655172, 0.8462068965517242, 0.8495402298850576, 0.8426436781609195, 0.8425287356321839, 0.8122988505747127, 0.842528735632184, 0.7691954022988506]}, {\"categories\": [\"0\", \"1\", \"2\", \"3\", \"4\", \"5\", \"6\", \"7\", \"8\", \"9\", \"10\", \"11\", \"12\", \"13\", \"14\", \"15\", \"16\", \"17\", \"18\", \"19\", \"20\", \"21\", \"22\", \"23\", \"24\", \"25\", \"26\", \"27\", \"28\", \"29\", \"30\", \"31\", \"32\", \"33\", \"34\", \"35\", \"36\", \"37\", \"38\", \"39\", \"40\", \"41\", \"42\", \"43\", \"44\", \"45\", \"46\", \"47\", \"48\", \"49\", \"50\", \"51\", \"52\", \"53\", \"54\", \"55\", \"56\", \"57\", \"58\", \"59\", \"60\", \"61\", \"62\", \"63\", \"64\", \"65\", \"74\", \"75\"], \"mode\": \"lines\", \"name\": \"accuracy_max\", \"stepped\": true, \"type\": \"scatter\", \"data\": [0.8359770114942527, 0.8359770114942527, 0.8427586206896553, 0.8427586206896553, 0.8593103448275862, 0.8593103448275862, 0.8593103448275862, 0.8593103448275862, 0.8593103448275862, 0.8593103448275862, 0.8593103448275862, 0.8593103448275862, 0.8593103448275862, 0.8593103448275862, 0.8593103448275862, 0.8593103448275862, 0.8593103448275862, 0.8593103448275862, 0.8593103448275862, 0.8593103448275862, 0.8593103448275862, 0.8593103448275862, 0.8593103448275862, 0.8593103448275862, 0.8593103448275862, 0.8593103448275862, 0.8593103448275862, 0.8593103448275862, 0.8593103448275862, 0.8593103448275862, 0.8593103448275862, 0.8593103448275862, 0.8593103448275862, 0.8593103448275862, 0.8593103448275862, 0.8593103448275862, 0.8593103448275862, 0.8593103448275862, 0.8593103448275862, 0.8593103448275862, 0.8593103448275862, 0.8593103448275862, 0.8593103448275862, 0.8593103448275862, 0.8593103448275862, 0.8593103448275862, 0.8593103448275862, 0.8593103448275862, 0.8593103448275862, 0.8593103448275862, 0.8593103448275862, 0.8593103448275862, 0.8593103448275862, 0.8593103448275862, 0.8593103448275862, 0.8593103448275862, 0.8593103448275862, 0.8593103448275862, 0.8593103448275862, 0.8593103448275862, 0.8593103448275862, 0.8593103448275862, 0.8593103448275862, 0.8593103448275862, 0.8593103448275862, 0.8593103448275862, 0.8593103448275862, 0.8593103448275862]}], \"recall_score_micro\": [{\"categories\": [\"0\", \"1\", \"2\", \"3\", \"4\", \"5\", \"6\", \"7\", \"8\", \"9\", \"10\", \"11\", \"12\", \"13\", \"14\", \"15\", \"16\", \"17\", \"18\", \"19\", \"20\", \"21\", \"22\", \"23\", \"24\", \"25\", \"26\", \"27\", \"28\", \"29\", \"30\", \"31\", \"32\", \"33\", \"34\", \"35\", \"36\", \"37\", \"38\", \"39\", \"40\", \"41\", \"42\", \"43\", \"44\", \"45\", \"46\", \"47\", \"48\", \"49\", \"50\", \"51\", \"52\", \"53\", \"54\", \"55\", \"56\", \"57\", \"58\", \"59\", \"60\", \"61\", \"62\", \"63\", \"64\", \"65\", \"74\", \"75\"], \"mode\": \"markers\", \"name\": \"recall_score_micro\", \"stepped\": false, \"type\": \"scatter\", \"data\": [0.8359770114942527, 0.8358620689655172, 0.8427586206896553, 0.8262068965517242, 0.8593103448275862, 0.6424137931034483, 0.8225287356321838, 0.8326436781609197, 0.7393103448275863, 0.8459770114942529, 0.822528735632184, 0.759080459770115, 0.8428735632183908, 0.7658620689655172, 0.8291954022988506, 0.8026436781609195, 0.8394252873563219, 0.8124137931034483, 0.8327586206896551, 0.835977011494253, 0.8560919540229885, 0.8359770114942527, 0.8359770114942527, 0.792528735632184, 0.8291954022988506, 0.7657471264367816, 0.679080459770115, 0.8224137931034482, 0.8359770114942527, 0.8195402298850574, 0.8562068965517243, 0.805632183908046, 0.8157471264367816, 0.839080459770115, 0.7660919540229885, 0.849425287356322, 0.8428735632183908, 0.8526436781609196, 0.8493103448275863, 0.8291954022988506, 0.8190804597701149, 0.8459770114942529, 0.8491954022988505, 0.8160919540229885, 0.8527586206896551, 0.6791954022988507, 0.8290804597701149, 0.8357471264367817, 0.8457471264367815, 0.8226436781609194, 0.6791954022988507, 0.8155172413793104, 0.812183908045977, 0.8157471264367817, 0.8324137931034482, 0.8527586206896552, 0.8324137931034483, 0.8391954022988506, 0.8427586206896553, 0.8462068965517242, 0.8358620689655172, 0.8462068965517242, 0.8495402298850576, 0.8426436781609195, 0.8425287356321839, 0.8122988505747127, 0.842528735632184, 0.7691954022988506]}, {\"categories\": [\"0\", \"1\", \"2\", \"3\", \"4\", \"5\", \"6\", \"7\", \"8\", \"9\", \"10\", \"11\", \"12\", \"13\", \"14\", \"15\", \"16\", \"17\", \"18\", \"19\", \"20\", \"21\", \"22\", \"23\", \"24\", \"25\", \"26\", \"27\", \"28\", \"29\", \"30\", \"31\", \"32\", \"33\", \"34\", \"35\", \"36\", \"37\", \"38\", \"39\", \"40\", \"41\", \"42\", \"43\", \"44\", \"45\", \"46\", \"47\", \"48\", \"49\", \"50\", \"51\", \"52\", \"53\", \"54\", \"55\", \"56\", \"57\", \"58\", \"59\", \"60\", \"61\", \"62\", \"63\", \"64\", \"65\", \"74\", \"75\"], \"mode\": \"lines\", \"name\": \"recall_score_micro_max\", \"stepped\": true, \"type\": \"scatter\", \"data\": [0.8359770114942527, 0.8359770114942527, 0.8427586206896553, 0.8427586206896553, 0.8593103448275862, 0.8593103448275862, 0.8593103448275862, 0.8593103448275862, 0.8593103448275862, 0.8593103448275862, 0.8593103448275862, 0.8593103448275862, 0.8593103448275862, 0.8593103448275862, 0.8593103448275862, 0.8593103448275862, 0.8593103448275862, 0.8593103448275862, 0.8593103448275862, 0.8593103448275862, 0.8593103448275862, 0.8593103448275862, 0.8593103448275862, 0.8593103448275862, 0.8593103448275862, 0.8593103448275862, 0.8593103448275862, 0.8593103448275862, 0.8593103448275862, 0.8593103448275862, 0.8593103448275862, 0.8593103448275862, 0.8593103448275862, 0.8593103448275862, 0.8593103448275862, 0.8593103448275862, 0.8593103448275862, 0.8593103448275862, 0.8593103448275862, 0.8593103448275862, 0.8593103448275862, 0.8593103448275862, 0.8593103448275862, 0.8593103448275862, 0.8593103448275862, 0.8593103448275862, 0.8593103448275862, 0.8593103448275862, 0.8593103448275862, 0.8593103448275862, 0.8593103448275862, 0.8593103448275862, 0.8593103448275862, 0.8593103448275862, 0.8593103448275862, 0.8593103448275862, 0.8593103448275862, 0.8593103448275862, 0.8593103448275862, 0.8593103448275862, 0.8593103448275862, 0.8593103448275862, 0.8593103448275862, 0.8593103448275862, 0.8593103448275862, 0.8593103448275862, 0.8593103448275862, 0.8593103448275862]}], \"weighted_accuracy\": [{\"categories\": [\"0\", \"1\", \"2\", \"3\", \"4\", \"5\", \"6\", \"7\", \"8\", \"9\", \"10\", \"11\", \"12\", \"13\", \"14\", \"15\", \"16\", \"17\", \"18\", \"19\", \"20\", \"21\", \"22\", \"23\", \"24\", \"25\", \"26\", \"27\", \"28\", \"29\", \"30\", \"31\", \"32\", \"33\", \"34\", \"35\", \"36\", \"37\", \"38\", \"39\", \"40\", \"41\", \"42\", \"43\", \"44\", \"45\", \"46\", \"47\", \"48\", \"49\", \"50\", \"51\", \"52\", \"53\", \"54\", \"55\", \"56\", \"57\", \"58\", \"59\", \"60\", \"61\", \"62\", \"63\", \"64\", \"65\", \"74\", \"75\"], \"mode\": \"markers\", \"name\": \"weighted_accuracy\", \"stepped\": false, \"type\": \"scatter\", \"data\": [0.8541321922200625, 0.8502962163535492, 0.8729028148284147, 0.8463417532441273, 0.8774028225281928, 0.7077252561233643, 0.8479454199559713, 0.8517463713745308, 0.8173644876068957, 0.866667275749219, 0.8451681878460313, 0.8090522846039923, 0.8747757991047589, 0.8242342713380824, 0.8373810994025517, 0.82296536130966, 0.866116334968471, 0.82908054296414, 0.857015483738711, 0.8473100903691708, 0.8769593319167646, 0.8551589386902508, 0.8699746821223174, 0.794035685460014, 0.840818199141091, 0.8316472046822941, 0.7869985400435027, 0.82033614172519, 0.8614245157780624, 0.8674600043125776, 0.8750794683870934, 0.8096289539407115, 0.8126374143220927, 0.8372863241871918, 0.8367018472317411, 0.8829277608544297, 0.866534899565875, 0.871289775294275, 0.8659062503831325, 0.8518229243089548, 0.8585289080698153, 0.8642049999316862, 0.8690622677609664, 0.8634714766758579, 0.8810852140194777, 0.7931711479234276, 0.8255126031622304, 0.8399268144514822, 0.8625997227872118, 0.8464959215725288, 0.7931711479234276, 0.8169385216036597, 0.8052369443284946, 0.8102179240108296, 0.8410331922594615, 0.8682929992910697, 0.841904503271896, 0.8532326172811106, 0.861622892283258, 0.8660092409141231, 0.8520765734718856, 0.8659572357980061, 0.8788448859724897, 0.856167791241543, 0.856926268289787, 0.8003441903266573, 0.8540780600207262, 0.8068490232773644]}, {\"categories\": [\"0\", \"1\", \"2\", \"3\", \"4\", \"5\", \"6\", \"7\", \"8\", \"9\", \"10\", \"11\", \"12\", \"13\", \"14\", \"15\", \"16\", \"17\", \"18\", \"19\", \"20\", \"21\", \"22\", \"23\", \"24\", \"25\", \"26\", \"27\", \"28\", \"29\", \"30\", \"31\", \"32\", \"33\", \"34\", \"35\", \"36\", \"37\", \"38\", \"39\", \"40\", \"41\", \"42\", \"43\", \"44\", \"45\", \"46\", \"47\", \"48\", \"49\", \"50\", \"51\", \"52\", \"53\", \"54\", \"55\", \"56\", \"57\", \"58\", \"59\", \"60\", \"61\", \"62\", \"63\", \"64\", \"65\", \"74\", \"75\"], \"mode\": \"lines\", \"name\": \"weighted_accuracy_max\", \"stepped\": true, \"type\": \"scatter\", \"data\": [0.8541321922200625, 0.8541321922200625, 0.8729028148284147, 0.8729028148284147, 0.8774028225281928, 0.8774028225281928, 0.8774028225281928, 0.8774028225281928, 0.8774028225281928, 0.8774028225281928, 0.8774028225281928, 0.8774028225281928, 0.8774028225281928, 0.8774028225281928, 0.8774028225281928, 0.8774028225281928, 0.8774028225281928, 0.8774028225281928, 0.8774028225281928, 0.8774028225281928, 0.8774028225281928, 0.8774028225281928, 0.8774028225281928, 0.8774028225281928, 0.8774028225281928, 0.8774028225281928, 0.8774028225281928, 0.8774028225281928, 0.8774028225281928, 0.8774028225281928, 0.8774028225281928, 0.8774028225281928, 0.8774028225281928, 0.8774028225281928, 0.8774028225281928, 0.8829277608544297, 0.8829277608544297, 0.8829277608544297, 0.8829277608544297, 0.8829277608544297, 0.8829277608544297, 0.8829277608544297, 0.8829277608544297, 0.8829277608544297, 0.8829277608544297, 0.8829277608544297, 0.8829277608544297, 0.8829277608544297, 0.8829277608544297, 0.8829277608544297, 0.8829277608544297, 0.8829277608544297, 0.8829277608544297, 0.8829277608544297, 0.8829277608544297, 0.8829277608544297, 0.8829277608544297, 0.8829277608544297, 0.8829277608544297, 0.8829277608544297, 0.8829277608544297, 0.8829277608544297, 0.8829277608544297, 0.8829277608544297, 0.8829277608544297, 0.8829277608544297, 0.8829277608544297, 0.8829277608544297]}], \"recall_score_weighted\": [{\"categories\": [\"0\", \"1\", \"2\", \"3\", \"4\", \"5\", \"6\", \"7\", \"8\", \"9\", \"10\", \"11\", \"12\", \"13\", \"14\", \"15\", \"16\", \"17\", \"18\", \"19\", \"20\", \"21\", \"22\", \"23\", \"24\", \"25\", \"26\", \"27\", \"28\", \"29\", \"30\", \"31\", \"32\", \"33\", \"34\", \"35\", \"36\", \"37\", \"38\", \"39\", \"40\", \"41\", \"42\", \"43\", \"44\", \"45\", \"46\", \"47\", \"48\", \"49\", \"50\", \"51\", \"52\", \"53\", \"54\", \"55\", \"56\", \"57\", \"58\", \"59\", \"60\", \"61\", \"62\", \"63\", \"64\", \"65\", \"74\", \"75\"], \"mode\": \"markers\", \"name\": \"recall_score_weighted\", \"stepped\": false, \"type\": \"scatter\", \"data\": [0.8359770114942527, 0.8358620689655172, 0.8427586206896553, 0.8262068965517242, 0.8593103448275862, 0.6424137931034483, 0.8225287356321838, 0.8326436781609197, 0.7393103448275863, 0.8459770114942529, 0.822528735632184, 0.759080459770115, 0.8428735632183908, 0.7658620689655172, 0.8291954022988506, 0.8026436781609195, 0.8394252873563219, 0.8124137931034483, 0.8327586206896551, 0.835977011494253, 0.8560919540229885, 0.8359770114942527, 0.8359770114942527, 0.792528735632184, 0.8291954022988506, 0.7657471264367816, 0.679080459770115, 0.8224137931034482, 0.8359770114942527, 0.8195402298850574, 0.8562068965517243, 0.805632183908046, 0.8157471264367816, 0.839080459770115, 0.7660919540229885, 0.849425287356322, 0.8428735632183908, 0.8526436781609196, 0.8493103448275863, 0.8291954022988506, 0.8190804597701149, 0.8459770114942529, 0.8491954022988505, 0.8160919540229885, 0.8527586206896551, 0.6791954022988507, 0.8290804597701149, 0.8357471264367817, 0.8457471264367815, 0.8226436781609194, 0.6791954022988507, 0.8155172413793104, 0.812183908045977, 0.8157471264367817, 0.8324137931034482, 0.8527586206896552, 0.8324137931034483, 0.8391954022988506, 0.8427586206896553, 0.8462068965517242, 0.8358620689655172, 0.8462068965517242, 0.8495402298850576, 0.8426436781609195, 0.8425287356321839, 0.8122988505747127, 0.842528735632184, 0.7691954022988506]}, {\"categories\": [\"0\", \"1\", \"2\", \"3\", \"4\", \"5\", \"6\", \"7\", \"8\", \"9\", \"10\", \"11\", \"12\", \"13\", \"14\", \"15\", \"16\", \"17\", \"18\", \"19\", \"20\", \"21\", \"22\", \"23\", \"24\", \"25\", \"26\", \"27\", \"28\", \"29\", \"30\", \"31\", \"32\", \"33\", \"34\", \"35\", \"36\", \"37\", \"38\", \"39\", \"40\", \"41\", \"42\", \"43\", \"44\", \"45\", \"46\", \"47\", \"48\", \"49\", \"50\", \"51\", \"52\", \"53\", \"54\", \"55\", \"56\", \"57\", \"58\", \"59\", \"60\", \"61\", \"62\", \"63\", \"64\", \"65\", \"74\", \"75\"], \"mode\": \"lines\", \"name\": \"recall_score_weighted_max\", \"stepped\": true, \"type\": \"scatter\", \"data\": [0.8359770114942527, 0.8359770114942527, 0.8427586206896553, 0.8427586206896553, 0.8593103448275862, 0.8593103448275862, 0.8593103448275862, 0.8593103448275862, 0.8593103448275862, 0.8593103448275862, 0.8593103448275862, 0.8593103448275862, 0.8593103448275862, 0.8593103448275862, 0.8593103448275862, 0.8593103448275862, 0.8593103448275862, 0.8593103448275862, 0.8593103448275862, 0.8593103448275862, 0.8593103448275862, 0.8593103448275862, 0.8593103448275862, 0.8593103448275862, 0.8593103448275862, 0.8593103448275862, 0.8593103448275862, 0.8593103448275862, 0.8593103448275862, 0.8593103448275862, 0.8593103448275862, 0.8593103448275862, 0.8593103448275862, 0.8593103448275862, 0.8593103448275862, 0.8593103448275862, 0.8593103448275862, 0.8593103448275862, 0.8593103448275862, 0.8593103448275862, 0.8593103448275862, 0.8593103448275862, 0.8593103448275862, 0.8593103448275862, 0.8593103448275862, 0.8593103448275862, 0.8593103448275862, 0.8593103448275862, 0.8593103448275862, 0.8593103448275862, 0.8593103448275862, 0.8593103448275862, 0.8593103448275862, 0.8593103448275862, 0.8593103448275862, 0.8593103448275862, 0.8593103448275862, 0.8593103448275862, 0.8593103448275862, 0.8593103448275862, 0.8593103448275862, 0.8593103448275862, 0.8593103448275862, 0.8593103448275862, 0.8593103448275862, 0.8593103448275862, 0.8593103448275862, 0.8593103448275862]}], \"AUC_macro\": [{\"categories\": [\"0\", \"1\", \"2\", \"3\", \"4\", \"5\", \"6\", \"7\", \"8\", \"9\", \"10\", \"11\", \"12\", \"13\", \"14\", \"15\", \"16\", \"17\", \"18\", \"19\", \"20\", \"21\", \"22\", \"23\", \"24\", \"25\", \"26\", \"27\", \"28\", \"29\", \"30\", \"31\", \"32\", \"33\", \"34\", \"35\", \"36\", \"37\", \"38\", \"39\", \"40\", \"41\", \"42\", \"43\", \"44\", \"45\", \"46\", \"47\", \"48\", \"49\", \"50\", \"51\", \"52\", \"53\", \"54\", \"55\", \"56\", \"57\", \"58\", \"59\", \"60\", \"61\", \"62\", \"63\", \"64\", \"65\", \"74\", \"75\"], \"mode\": \"markers\", \"name\": \"AUC_macro\", \"stepped\": false, \"type\": \"scatter\", \"data\": [0.8831034719814468, 0.8847369443591411, 0.8847715965088391, 0.8940095883923688, 0.9028613008971703, 0.5058572603005097, 0.8672331527930499, 0.8938913023115541, 0.8332658768957968, 0.900186520704484, 0.8638387105774978, 0.7996258755419511, 0.8845017973402985, 0.7464011599733854, 0.8967744396124259, 0.8622732591524926, 0.9031964896871075, 0.8972063200106106, 0.8853547098147212, 0.8749529647570837, 0.8960912485429647, 0.9065491630921836, 0.8982296342250005, 0.8674226487661842, 0.9101363372198612, 0.8668379604864158, 0.773291712482788, 0.90526777965445, 0.9006359715989578, 0.8801182310189175, 0.9131286955861325, 0.8686723778869659, 0.9064519654978463, 0.9103707053371242, 0.8946698649071074, 0.888634476067199, 0.9068205093321797, 0.9086939266534804, 0.9040648909273623, 0.8909093929102511, 0.8785886259071042, 0.9054548453643992, 0.9085828752821887, 0.8956962236233974, 0.903713377179224, 0.9083017527899679, 0.9157218452367193, 0.9086553771478542, 0.9108264893679081, 0.8700245886455269, 0.8023954043265829, 0.9049319189772851, 0.9064518577130134, 0.9031918625890591, 0.8860591151242183, 0.9092839639998107, 0.9088659476700096, 0.9090251992244556, 0.9115895727736116, 0.8981761860871986, 0.9020935013477921, 0.9091452032034413, 0.8961088333619511, 0.8992588115270609, 0.9039630540173444, 0.8742116665731082, 0.9178054571816012, 0.9089498269443922]}, {\"categories\": [\"0\", \"1\", \"2\", \"3\", \"4\", \"5\", \"6\", \"7\", \"8\", \"9\", \"10\", \"11\", \"12\", \"13\", \"14\", \"15\", \"16\", \"17\", \"18\", \"19\", \"20\", \"21\", \"22\", \"23\", \"24\", \"25\", \"26\", \"27\", \"28\", \"29\", \"30\", \"31\", \"32\", \"33\", \"34\", \"35\", \"36\", \"37\", \"38\", \"39\", \"40\", \"41\", \"42\", \"43\", \"44\", \"45\", \"46\", \"47\", \"48\", \"49\", \"50\", \"51\", \"52\", \"53\", \"54\", \"55\", \"56\", \"57\", \"58\", \"59\", \"60\", \"61\", \"62\", \"63\", \"64\", \"65\", \"74\", \"75\"], \"mode\": \"lines\", \"name\": \"AUC_macro_max\", \"stepped\": true, \"type\": \"scatter\", \"data\": [0.8831034719814468, 0.8847369443591411, 0.8847715965088391, 0.8940095883923688, 0.9028613008971703, 0.9028613008971703, 0.9028613008971703, 0.9028613008971703, 0.9028613008971703, 0.9028613008971703, 0.9028613008971703, 0.9028613008971703, 0.9028613008971703, 0.9028613008971703, 0.9028613008971703, 0.9028613008971703, 0.9031964896871075, 0.9031964896871075, 0.9031964896871075, 0.9031964896871075, 0.9031964896871075, 0.9065491630921836, 0.9065491630921836, 0.9065491630921836, 0.9101363372198612, 0.9101363372198612, 0.9101363372198612, 0.9101363372198612, 0.9101363372198612, 0.9101363372198612, 0.9131286955861325, 0.9131286955861325, 0.9131286955861325, 0.9131286955861325, 0.9131286955861325, 0.9131286955861325, 0.9131286955861325, 0.9131286955861325, 0.9131286955861325, 0.9131286955861325, 0.9131286955861325, 0.9131286955861325, 0.9131286955861325, 0.9131286955861325, 0.9131286955861325, 0.9131286955861325, 0.9157218452367193, 0.9157218452367193, 0.9157218452367193, 0.9157218452367193, 0.9157218452367193, 0.9157218452367193, 0.9157218452367193, 0.9157218452367193, 0.9157218452367193, 0.9157218452367193, 0.9157218452367193, 0.9157218452367193, 0.9157218452367193, 0.9157218452367193, 0.9157218452367193, 0.9157218452367193, 0.9157218452367193, 0.9157218452367193, 0.9157218452367193, 0.9157218452367193, 0.9178054571816012, 0.9178054571816012]}], \"f1_score_weighted\": [{\"categories\": [\"0\", \"1\", \"2\", \"3\", \"4\", \"5\", \"6\", \"7\", \"8\", \"9\", \"10\", \"11\", \"12\", \"13\", \"14\", \"15\", \"16\", \"17\", \"18\", \"19\", \"20\", \"21\", \"22\", \"23\", \"24\", \"25\", \"26\", \"27\", \"28\", \"29\", \"30\", \"31\", \"32\", \"33\", \"34\", \"35\", \"36\", \"37\", \"38\", \"39\", \"40\", \"41\", \"42\", \"43\", \"44\", \"45\", \"46\", \"47\", \"48\", \"49\", \"50\", \"51\", \"52\", \"53\", \"54\", \"55\", \"56\", \"57\", \"58\", \"59\", \"60\", \"61\", \"62\", \"63\", \"64\", \"65\", \"74\", \"75\"], \"mode\": \"markers\", \"name\": \"f1_score_weighted\", \"stepped\": false, \"type\": \"scatter\", \"data\": [0.8333388901455894, 0.8342588560383983, 0.8350760940163846, 0.8214909462297435, 0.8553484665222131, 0.5969597383330986, 0.8172522868333717, 0.8298630154128149, 0.6868595770797061, 0.8428729972409513, 0.81906121720746, 0.7377924950188879, 0.8349883458434448, 0.7414592889700058, 0.8312272298673078, 0.8004748418046018, 0.8331714665321547, 0.812002281323795, 0.8276497651149007, 0.8365044507793649, 0.8528962935432418, 0.8335333666033126, 0.8282180882957929, 0.7966623210665318, 0.8295730452765125, 0.732081938643254, 0.5629668514049239, 0.8275956315109487, 0.8297870383329371, 0.8033465371468802, 0.8528391057786953, 0.809674406672017, 0.8215497045188324, 0.84403158548747, 0.724432424932169, 0.8416962231182097, 0.8383724666914322, 0.8491634895430946, 0.8468213216359398, 0.8230775851822173, 0.8066114712867408, 0.8422542137981489, 0.846694471078373, 0.7972638716395719, 0.8454046038171811, 0.5534120288954022, 0.8340769355377233, 0.8384298745321397, 0.8434707902181579, 0.819687496914795, 0.5534120288954022, 0.8195106505262795, 0.8178433567169618, 0.8199014026437954, 0.8347408205558556, 0.8500302449270585, 0.833283333128429, 0.8368341885720778, 0.8402216569903995, 0.8421104108983444, 0.8340671840025283, 0.8420884919231325, 0.8427805877270425, 0.8409314978296779, 0.8415554898122883, 0.8184568095887139, 0.8419072653280326, 0.7252972079045136]}, {\"categories\": [\"0\", \"1\", \"2\", \"3\", \"4\", \"5\", \"6\", \"7\", \"8\", \"9\", \"10\", \"11\", \"12\", \"13\", \"14\", \"15\", \"16\", \"17\", \"18\", \"19\", \"20\", \"21\", \"22\", \"23\", \"24\", \"25\", \"26\", \"27\", \"28\", \"29\", \"30\", \"31\", \"32\", \"33\", \"34\", \"35\", \"36\", \"37\", \"38\", \"39\", \"40\", \"41\", \"42\", \"43\", \"44\", \"45\", \"46\", \"47\", \"48\", \"49\", \"50\", \"51\", \"52\", \"53\", \"54\", \"55\", \"56\", \"57\", \"58\", \"59\", \"60\", \"61\", \"62\", \"63\", \"64\", \"65\", \"74\", \"75\"], \"mode\": \"lines\", \"name\": \"f1_score_weighted_max\", \"stepped\": true, \"type\": \"scatter\", \"data\": [0.8333388901455894, 0.8342588560383983, 0.8350760940163846, 0.8350760940163846, 0.8553484665222131, 0.8553484665222131, 0.8553484665222131, 0.8553484665222131, 0.8553484665222131, 0.8553484665222131, 0.8553484665222131, 0.8553484665222131, 0.8553484665222131, 0.8553484665222131, 0.8553484665222131, 0.8553484665222131, 0.8553484665222131, 0.8553484665222131, 0.8553484665222131, 0.8553484665222131, 0.8553484665222131, 0.8553484665222131, 0.8553484665222131, 0.8553484665222131, 0.8553484665222131, 0.8553484665222131, 0.8553484665222131, 0.8553484665222131, 0.8553484665222131, 0.8553484665222131, 0.8553484665222131, 0.8553484665222131, 0.8553484665222131, 0.8553484665222131, 0.8553484665222131, 0.8553484665222131, 0.8553484665222131, 0.8553484665222131, 0.8553484665222131, 0.8553484665222131, 0.8553484665222131, 0.8553484665222131, 0.8553484665222131, 0.8553484665222131, 0.8553484665222131, 0.8553484665222131, 0.8553484665222131, 0.8553484665222131, 0.8553484665222131, 0.8553484665222131, 0.8553484665222131, 0.8553484665222131, 0.8553484665222131, 0.8553484665222131, 0.8553484665222131, 0.8553484665222131, 0.8553484665222131, 0.8553484665222131, 0.8553484665222131, 0.8553484665222131, 0.8553484665222131, 0.8553484665222131, 0.8553484665222131, 0.8553484665222131, 0.8553484665222131, 0.8553484665222131, 0.8553484665222131, 0.8553484665222131]}], \"precision_score_weighted\": [{\"categories\": [\"0\", \"1\", \"2\", \"3\", \"4\", \"5\", \"6\", \"7\", \"8\", \"9\", \"10\", \"11\", \"12\", \"13\", \"14\", \"15\", \"16\", \"17\", \"18\", \"19\", \"20\", \"21\", \"22\", \"23\", \"24\", \"25\", \"26\", \"27\", \"28\", \"29\", \"30\", \"31\", \"32\", \"33\", \"34\", \"35\", \"36\", \"37\", \"38\", \"39\", \"40\", \"41\", \"42\", \"43\", \"44\", \"45\", \"46\", \"47\", \"48\", \"49\", \"50\", \"51\", \"52\", \"53\", \"54\", \"55\", \"56\", \"57\", \"58\", \"59\", \"60\", \"61\", \"62\", \"63\", \"64\", \"65\", \"74\", \"75\"], \"mode\": \"markers\", \"name\": \"precision_score_weighted\", \"stepped\": false, \"type\": \"scatter\", \"data\": [0.8443308716969533, 0.8506678986628277, 0.8523064555247597, 0.8435679380006965, 0.872052793247784, 0.6029834921330174, 0.8306327939926141, 0.8472853260129256, 0.7619747750971889, 0.8544760412001791, 0.8413501419573877, 0.7747115667200626, 0.85852272429109, 0.7784834739122095, 0.8475808579472031, 0.8181986486915273, 0.8491727876663171, 0.8302204473160245, 0.8481435494765595, 0.8503782294601162, 0.8642312691252855, 0.8453564561710124, 0.8472904084754159, 0.8303048768950072, 0.8459309726189291, 0.7933838690470874, 0.498462717359269, 0.8486184409584568, 0.8537012956842572, 0.8411547366426675, 0.8697011751339337, 0.8282823956770942, 0.8451828322245744, 0.8624627212481707, 0.8111136421512484, 0.8617082688093183, 0.8508248058510428, 0.8707126358537902, 0.8602896650716122, 0.8445965602727487, 0.8240523760347598, 0.8599137098117607, 0.8600667155795474, 0.841397228237733, 0.8686788307712989, 0.47055053507728895, 0.8559745272526236, 0.8567363490873612, 0.8630293700026966, 0.8391043350078208, 0.47055053507728895, 0.8416728362910897, 0.8507161301189271, 0.8504725371382784, 0.850306179597981, 0.8652397380043336, 0.8509644197639611, 0.8554384315778618, 0.8552557519941327, 0.8583817763031538, 0.850295564167731, 0.8592618032810069, 0.860939827705195, 0.8570883511350044, 0.8572248972198263, 0.8531252157893616, 0.8585312359034027, 0.7107664739059043]}, {\"categories\": [\"0\", \"1\", \"2\", \"3\", \"4\", \"5\", \"6\", \"7\", \"8\", \"9\", \"10\", \"11\", \"12\", \"13\", \"14\", \"15\", \"16\", \"17\", \"18\", \"19\", \"20\", \"21\", \"22\", \"23\", \"24\", \"25\", \"26\", \"27\", \"28\", \"29\", \"30\", \"31\", \"32\", \"33\", \"34\", \"35\", \"36\", \"37\", \"38\", \"39\", \"40\", \"41\", \"42\", \"43\", \"44\", \"45\", \"46\", \"47\", \"48\", \"49\", \"50\", \"51\", \"52\", \"53\", \"54\", \"55\", \"56\", \"57\", \"58\", \"59\", \"60\", \"61\", \"62\", \"63\", \"64\", \"65\", \"74\", \"75\"], \"mode\": \"lines\", \"name\": \"precision_score_weighted_max\", \"stepped\": true, \"type\": \"scatter\", \"data\": [0.8443308716969533, 0.8506678986628277, 0.8523064555247597, 0.8523064555247597, 0.872052793247784, 0.872052793247784, 0.872052793247784, 0.872052793247784, 0.872052793247784, 0.872052793247784, 0.872052793247784, 0.872052793247784, 0.872052793247784, 0.872052793247784, 0.872052793247784, 0.872052793247784, 0.872052793247784, 0.872052793247784, 0.872052793247784, 0.872052793247784, 0.872052793247784, 0.872052793247784, 0.872052793247784, 0.872052793247784, 0.872052793247784, 0.872052793247784, 0.872052793247784, 0.872052793247784, 0.872052793247784, 0.872052793247784, 0.872052793247784, 0.872052793247784, 0.872052793247784, 0.872052793247784, 0.872052793247784, 0.872052793247784, 0.872052793247784, 0.872052793247784, 0.872052793247784, 0.872052793247784, 0.872052793247784, 0.872052793247784, 0.872052793247784, 0.872052793247784, 0.872052793247784, 0.872052793247784, 0.872052793247784, 0.872052793247784, 0.872052793247784, 0.872052793247784, 0.872052793247784, 0.872052793247784, 0.872052793247784, 0.872052793247784, 0.872052793247784, 0.872052793247784, 0.872052793247784, 0.872052793247784, 0.872052793247784, 0.872052793247784, 0.872052793247784, 0.872052793247784, 0.872052793247784, 0.872052793247784, 0.872052793247784, 0.872052793247784, 0.872052793247784, 0.872052793247784]}], \"log_loss\": [{\"categories\": [\"0\", \"1\", \"2\", \"3\", \"4\", \"5\", \"6\", \"7\", \"8\", \"9\", \"10\", \"11\", \"12\", \"13\", \"14\", \"15\", \"16\", \"17\", \"18\", \"19\", \"20\", \"21\", \"22\", \"23\", \"24\", \"25\", \"26\", \"27\", \"28\", \"29\", \"30\", \"31\", \"32\", \"33\", \"34\", \"35\", \"36\", \"37\", \"38\", \"39\", \"40\", \"41\", \"42\", \"43\", \"44\", \"45\", \"46\", \"47\", \"48\", \"49\", \"50\", \"51\", \"52\", \"53\", \"54\", \"55\", \"56\", \"57\", \"58\", \"59\", \"60\", \"61\", \"62\", \"63\", \"64\", \"65\", \"74\", \"75\"], \"mode\": \"markers\", \"name\": \"log_loss\", \"stepped\": false, \"type\": \"scatter\", \"data\": [0.48178524669308065, 0.41764279420186134, 0.40490030339213884, 0.38957869793188815, 0.39212207022259304, 0.706099308813747, 0.4754448220270021, 0.4028725733877173, 0.5887236232300054, 0.3735049660918235, 0.43200343255225954, 0.526091020875025, 0.4723469025228114, 1.2827620632333787, 0.44436134131158483, 0.49339850403519847, 0.37415932138330354, 0.3704609855635857, 0.40974582425585454, 0.46110439221190197, 0.37203366403086247, 0.3658259383152337, 0.4316803485120313, 0.4626758255767503, 0.37283620702400283, 0.4774242790328175, 0.5699035054105388, 0.47687519981222426, 0.37501960348961105, 0.4583253778484903, 0.3531361478968076, 0.5788833513887228, 0.45955456361016245, 0.4420682934968635, 0.4798831804517497, 0.3999509849574145, 0.38358600690917155, 0.3555212159720403, 0.3558177025437216, 0.39286231972382685, 0.45060157082694785, 0.364130343115996, 0.3641679390445021, 0.455346180662423, 0.37989256310904834, 0.6258164384755057, 0.3836199283398648, 0.38911246152267975, 0.3824707577979881, 0.41101150682057924, 0.6320081385600957, 0.3845344946186682, 0.37860150852877006, 0.39317694305197387, 0.45513786507047865, 0.3678814090839452, 0.36114005132381893, 0.38724266412309805, 0.357062108951251, 0.3901914427269569, 0.3933472069874128, 0.36879034068694344, 0.4240050801571867, 0.4008029194669172, 0.4143722482550206, 0.5432237435805883, 0.3999267558987434, 0.46731303731220797]}, {\"categories\": [\"0\", \"1\", \"2\", \"3\", \"4\", \"5\", \"6\", \"7\", \"8\", \"9\", \"10\", \"11\", \"12\", \"13\", \"14\", \"15\", \"16\", \"17\", \"18\", \"19\", \"20\", \"21\", \"22\", \"23\", \"24\", \"25\", \"26\", \"27\", \"28\", \"29\", \"30\", \"31\", \"32\", \"33\", \"34\", \"35\", \"36\", \"37\", \"38\", \"39\", \"40\", \"41\", \"42\", \"43\", \"44\", \"45\", \"46\", \"47\", \"48\", \"49\", \"50\", \"51\", \"52\", \"53\", \"54\", \"55\", \"56\", \"57\", \"58\", \"59\", \"60\", \"61\", \"62\", \"63\", \"64\", \"65\", \"74\", \"75\"], \"mode\": \"lines\", \"name\": \"log_loss_min\", \"stepped\": true, \"type\": \"scatter\", \"data\": [0.48178524669308065, 0.41764279420186134, 0.40490030339213884, 0.38957869793188815, 0.38957869793188815, 0.38957869793188815, 0.38957869793188815, 0.38957869793188815, 0.38957869793188815, 0.3735049660918235, 0.3735049660918235, 0.3735049660918235, 0.3735049660918235, 0.3735049660918235, 0.3735049660918235, 0.3735049660918235, 0.3735049660918235, 0.3704609855635857, 0.3704609855635857, 0.3704609855635857, 0.3704609855635857, 0.3658259383152337, 0.3658259383152337, 0.3658259383152337, 0.3658259383152337, 0.3658259383152337, 0.3658259383152337, 0.3658259383152337, 0.3658259383152337, 0.3658259383152337, 0.3531361478968076, 0.3531361478968076, 0.3531361478968076, 0.3531361478968076, 0.3531361478968076, 0.3531361478968076, 0.3531361478968076, 0.3531361478968076, 0.3531361478968076, 0.3531361478968076, 0.3531361478968076, 0.3531361478968076, 0.3531361478968076, 0.3531361478968076, 0.3531361478968076, 0.3531361478968076, 0.3531361478968076, 0.3531361478968076, 0.3531361478968076, 0.3531361478968076, 0.3531361478968076, 0.3531361478968076, 0.3531361478968076, 0.3531361478968076, 0.3531361478968076, 0.3531361478968076, 0.3531361478968076, 0.3531361478968076, 0.3531361478968076, 0.3531361478968076, 0.3531361478968076, 0.3531361478968076, 0.3531361478968076, 0.3531361478968076, 0.3531361478968076, 0.3531361478968076, 0.3531361478968076, 0.3531361478968076]}]}, \"metricName\": null, \"primaryMetricName\": \"AUC_weighted\", \"showLegend\": false}, \"run_metrics\": [{\"name\": \"experiment_status\", \"run_id\": \"AutoML_d3d7619a-7438-4a73-a422-7771f8b72101\", \"categories\": [0, 1, 2, 3, 4, 5, 6, 7, 8, 9, 10, 11], \"series\": [{\"data\": [\"DatasetEvaluation\", \"FeaturesGeneration\", \"DatasetFeaturization\", \"DatasetFeaturizationCompleted\", \"DatasetCrossValidationSplit\", \"ModelSelection\", \"BestRunExplainModel\", \"ModelExplanationDataSetSetup\", \"PickSurrogateModel\", \"EngineeredFeatureExplanations\", \"EngineeredFeatureExplanations\", \"RawFeaturesExplanations\"]}]}, {\"name\": \"experiment_status_description\", \"run_id\": \"AutoML_d3d7619a-7438-4a73-a422-7771f8b72101\", \"categories\": [0, 1, 2, 3, 4, 5, 6, 7, 8, 9, 10, 11], \"series\": [{\"data\": [\"Gathering dataset statistics.\", \"Generating features for the dataset.\", \"Beginning to fit featurizers and featurize the dataset.\", \"Completed fit featurizers and featurizing the dataset.\", \"Generating individually featurized CV splits.\", \"Beginning model selection.\", \"Best run model explanations started\", \"Model explanations data setup completed\", \"Choosing LightGBM as the surrogate model for explanations\", \"Computation of engineered features started\", \"Computation of engineered features completed\", \"Computation of raw features started\"]}]}, {\"name\": \"log_loss\", \"run_id\": \"AutoML_d3d7619a-7438-4a73-a422-7771f8b72101\", \"categories\": [0], \"series\": [{\"data\": [0.3999267558987434]}]}, {\"name\": \"weighted_accuracy\", \"run_id\": \"AutoML_d3d7619a-7438-4a73-a422-7771f8b72101\", \"categories\": [0], \"series\": [{\"data\": [0.8540780600207262]}]}, {\"name\": \"AUC_micro\", \"run_id\": \"AutoML_d3d7619a-7438-4a73-a422-7771f8b72101\", \"categories\": [0], \"series\": [{\"data\": [0.9231835116924296]}]}, {\"name\": \"balanced_accuracy\", \"run_id\": \"AutoML_d3d7619a-7438-4a73-a422-7771f8b72101\", \"categories\": [0], \"series\": [{\"data\": [0.8242504660036125]}]}, {\"name\": \"average_precision_score_weighted\", \"run_id\": \"AutoML_d3d7619a-7438-4a73-a422-7771f8b72101\", \"categories\": [0], \"series\": [{\"data\": [0.9314271581501158]}]}, {\"name\": \"f1_score_weighted\", \"run_id\": \"AutoML_d3d7619a-7438-4a73-a422-7771f8b72101\", \"categories\": [0], \"series\": [{\"data\": [0.8419072653280326]}]}, {\"name\": \"precision_score_micro\", \"run_id\": \"AutoML_d3d7619a-7438-4a73-a422-7771f8b72101\", \"categories\": [0], \"series\": [{\"data\": [0.842528735632184]}]}, {\"name\": \"average_precision_score_macro\", \"run_id\": \"AutoML_d3d7619a-7438-4a73-a422-7771f8b72101\", \"categories\": [0], \"series\": [{\"data\": [0.9099130955220188]}]}, {\"name\": \"f1_score_macro\", \"run_id\": \"AutoML_d3d7619a-7438-4a73-a422-7771f8b72101\", \"categories\": [0], \"series\": [{\"data\": [0.8133131655472596]}]}, {\"name\": \"average_precision_score_micro\", \"run_id\": \"AutoML_d3d7619a-7438-4a73-a422-7771f8b72101\", \"categories\": [0], \"series\": [{\"data\": [0.9252395195733742]}]}, {\"name\": \"precision_score_macro\", \"run_id\": \"AutoML_d3d7619a-7438-4a73-a422-7771f8b72101\", \"categories\": [0], \"series\": [{\"data\": [0.8219380241455051]}]}, {\"name\": \"precision_score_weighted\", \"run_id\": \"AutoML_d3d7619a-7438-4a73-a422-7771f8b72101\", \"categories\": [0], \"series\": [{\"data\": [0.8585312359034027]}]}, {\"name\": \"norm_macro_recall\", \"run_id\": \"AutoML_d3d7619a-7438-4a73-a422-7771f8b72101\", \"categories\": [0], \"series\": [{\"data\": [0.6485009320072249]}]}, {\"name\": \"matthews_correlation\", \"run_id\": \"AutoML_d3d7619a-7438-4a73-a422-7771f8b72101\", \"categories\": [0], \"series\": [{\"data\": [0.644675168109656]}]}, {\"name\": \"AUC_macro\", \"run_id\": \"AutoML_d3d7619a-7438-4a73-a422-7771f8b72101\", \"categories\": [0], \"series\": [{\"data\": [0.9178054571816012]}]}, {\"name\": \"accuracy\", \"run_id\": \"AutoML_d3d7619a-7438-4a73-a422-7771f8b72101\", \"categories\": [0], \"series\": [{\"data\": [0.842528735632184]}]}, {\"name\": \"recall_score_micro\", \"run_id\": \"AutoML_d3d7619a-7438-4a73-a422-7771f8b72101\", \"categories\": [0], \"series\": [{\"data\": [0.842528735632184]}]}, {\"name\": \"AUC_weighted\", \"run_id\": \"AutoML_d3d7619a-7438-4a73-a422-7771f8b72101\", \"categories\": [0], \"series\": [{\"data\": [0.9178054571816012]}]}, {\"name\": \"recall_score_macro\", \"run_id\": \"AutoML_d3d7619a-7438-4a73-a422-7771f8b72101\", \"categories\": [0], \"series\": [{\"data\": [0.8242504660036125]}]}, {\"name\": \"f1_score_micro\", \"run_id\": \"AutoML_d3d7619a-7438-4a73-a422-7771f8b72101\", \"categories\": [0], \"series\": [{\"data\": [0.842528735632184]}]}, {\"name\": \"recall_score_weighted\", \"run_id\": \"AutoML_d3d7619a-7438-4a73-a422-7771f8b72101\", \"categories\": [0], \"series\": [{\"data\": [0.842528735632184]}]}], \"run_logs\": \"\\nRun is completed.\", \"graph\": {}, \"widget_settings\": {\"childWidgetDisplay\": \"popup\", \"send_telemetry\": false, \"log_level\": \"INFO\", \"sdk_version\": \"1.36.0\"}, \"loading\": false}"
     },
     "metadata": {},
     "output_type": "display_data"
    }
   ],
   "source": [
    "from azureml.widgets import RunDetails\n",
    "RunDetails(aml_run).show()"
   ]
  },
  {
   "cell_type": "markdown",
   "metadata": {},
   "source": [
    "## Best Model\n",
    "\n",
    "After the run has finished, you can get the best model and have a look at the specifica of the same.\n",
    "\n"
   ]
  },
  {
   "cell_type": "code",
   "execution_count": 8,
   "metadata": {
    "gather": {
     "logged": 1598431425670
    },
    "jupyter": {
     "outputs_hidden": false,
     "source_hidden": false
    },
    "nteract": {
     "transient": {
      "deleting": false
     }
    }
   },
   "outputs": [],
   "source": [
    "best_run_automl, fitted_model_automl = aml_run.get_output()\n",
    "model_name = best_run_automl.properties['model_name']"
   ]
  },
  {
   "cell_type": "code",
   "execution_count": 9,
   "metadata": {
    "scrolled": true
   },
   "outputs": [
    {
     "name": "stdout",
     "output_type": "stream",
     "text": [
      "Run(Experiment: heart-failure-experiment,\n",
      "Id: AutoML_d3d7619a-7438-4a73-a422-7771f8b72101_74,\n",
      "Type: azureml.scriptrun,\n",
      "Status: Completed)\n"
     ]
    }
   ],
   "source": [
    "print(best_run_automl)"
   ]
  },
  {
   "cell_type": "code",
   "execution_count": 10,
   "metadata": {},
   "outputs": [
    {
     "data": {
      "text/plain": [
       "[('datatransformer',\n",
       "  DataTransformer(\n",
       "      task='classification',\n",
       "      is_onnx_compatible=False,\n",
       "      enable_feature_sweeping=True,\n",
       "      enable_dnn=False,\n",
       "      force_text_dnn=False,\n",
       "      feature_sweeping_timeout=86400,\n",
       "      featurization_config=None,\n",
       "      is_cross_validation=True,\n",
       "      feature_sweeping_config={}\n",
       "  )),\n",
       " ('prefittedsoftvotingclassifier',\n",
       "  PreFittedSoftVotingClassifier(\n",
       "      estimators=[('46', Pipeline(\n",
       "          memory=None,\n",
       "          steps=[('standardscalerwrapper', StandardScalerWrapper(\n",
       "              copy=True,\n",
       "              with_mean=False,\n",
       "              with_std=False\n",
       "          )), ('randomforestclassifier', RandomForestClassifier(\n",
       "              bootstrap=True,\n",
       "              ccp_alpha=0.0,\n",
       "              class_weight='balanced',\n",
       "              criterion='gini',\n",
       "              max_depth=None,\n",
       "              max_features=0.5,\n",
       "              max_leaf_nodes=None,\n",
       "              max_samples=None,\n",
       "              min_impurity_decrease=0.0,\n",
       "              min_impurity_split=None,\n",
       "              min_samples_leaf=0.01,\n",
       "              min_samples_split=0.19736842105263158,\n",
       "              min_weight_fraction_leaf=0.0,\n",
       "              n_estimators=25,\n",
       "              n_jobs=1,\n",
       "              oob_score=True,\n",
       "              random_state=None,\n",
       "              verbose=0,\n",
       "              warm_start=False\n",
       "          ))],\n",
       "          verbose=False\n",
       "      )), ('30', Pipeline(\n",
       "          memory=None,\n",
       "          steps=[('maxabsscaler', MaxAbsScaler(\n",
       "              copy=True\n",
       "          )), ('gradientboostingclassifier', GradientBoostingClassifier(\n",
       "              ccp_alpha=0.0,\n",
       "              criterion='mse',\n",
       "              init=None,\n",
       "              learning_rate=0.01,\n",
       "              loss='deviance',\n",
       "              max_depth=10,\n",
       "              max_features='log2',\n",
       "              max_leaf_nodes=None,\n",
       "              min_impurity_decrease=0.0,\n",
       "              min_impurity_split=None,\n",
       "              min_samples_leaf=0.035789473684210524,\n",
       "              min_samples_split=0.5252631578947369,\n",
       "              min_weight_fraction_leaf=0.0,\n",
       "              n_estimators=600,\n",
       "              n_iter_no_change=None,\n",
       "              presort='deprecated',\n",
       "              random_state=None,\n",
       "              subsample=0.7631578947368421,\n",
       "              tol=0.0001,\n",
       "              validation_fraction=0.1,\n",
       "              verbose=0,\n",
       "              warm_start=False\n",
       "          ))],\n",
       "          verbose=False\n",
       "      )), ('58', Pipeline(\n",
       "          memory=None,\n",
       "          steps=[('standardscalerwrapper', StandardScalerWrapper(\n",
       "              copy=True,\n",
       "              with_mean=False,\n",
       "              with_std=False\n",
       "          )), ('gradientboostingclassifier', GradientBoostingClassifier(\n",
       "              ccp_alpha=0.0,\n",
       "              criterion='mse',\n",
       "              init=None,\n",
       "              learning_rate=0.01,\n",
       "              loss='deviance',\n",
       "              max_depth=5,\n",
       "              max_features=None,\n",
       "              max_leaf_nodes=None,\n",
       "              min_impurity_decrease=0.0,\n",
       "              min_impurity_split=None,\n",
       "              min_samples_leaf=0.01,\n",
       "              min_samples_split=0.15052631578947367,\n",
       "              min_weight_fraction_leaf=0.0,\n",
       "              n_estimators=400,\n",
       "              n_iter_no_change=None,\n",
       "              presort='deprecated',\n",
       "              random_state=None,\n",
       "              subsample=0.5736842105263158,\n",
       "              tol=0.0001,\n",
       "              validation_fraction=0.1,\n",
       "              verbose=0,\n",
       "              warm_start=False\n",
       "          ))],\n",
       "          verbose=False\n",
       "      )), ('48', Pipeline(\n",
       "          memory=None,\n",
       "          steps=[('minmaxscaler', MinMaxScaler(\n",
       "              copy=True,\n",
       "              feature_range=(0, 1)\n",
       "          )), ('lightgbmclassifier', LightGBMClassifier(\n",
       "              boosting_type='goss',\n",
       "              colsample_bytree=0.99,\n",
       "              learning_rate=0.005272631578947368,\n",
       "              max_bin=310,\n",
       "              max_depth=3,\n",
       "              min_child_weight=0,\n",
       "              min_data_in_leaf=0.03104137931034483,\n",
       "              min_split_gain=0.7368421052631579,\n",
       "              n_estimators=400,\n",
       "              num_leaves=188,\n",
       "              reg_alpha=0.42105263157894735,\n",
       "              reg_lambda=0.05263157894736842,\n",
       "              subsample=1,\n",
       "              random_state=None,\n",
       "              n_jobs=1,\n",
       "              problem_info=ProblemInfo(\n",
       "                  gpu_training_param_dict={'processing_unit_type': 'cpu'}\n",
       "              )\n",
       "          ))],\n",
       "          verbose=False\n",
       "      )), ('33', Pipeline(\n",
       "          memory=None,\n",
       "          steps=[('standardscalerwrapper', StandardScalerWrapper(\n",
       "              copy=True,\n",
       "              with_mean=False,\n",
       "              with_std=True\n",
       "          )), ('randomforestclassifier', RandomForestClassifier(\n",
       "              bootstrap=True,\n",
       "              ccp_alpha=0.0,\n",
       "              class_weight='balanced',\n",
       "              criterion='entropy',\n",
       "              max_depth=None,\n",
       "              max_features='log2',\n",
       "              max_leaf_nodes=None,\n",
       "              max_samples=None,\n",
       "              min_impurity_decrease=0.0,\n",
       "              min_impurity_split=None,\n",
       "              min_samples_leaf=0.035789473684210524,\n",
       "              min_samples_split=0.19736842105263158,\n",
       "              min_weight_fraction_leaf=0.0,\n",
       "              n_estimators=50,\n",
       "              n_jobs=1,\n",
       "              oob_score=True,\n",
       "              random_state=None,\n",
       "              verbose=0,\n",
       "              warm_start=False\n",
       "          ))],\n",
       "          verbose=False\n",
       "      )), ('24', Pipeline(\n",
       "          memory=None,\n",
       "          steps=[('standardscalerwrapper', StandardScalerWrapper(\n",
       "              copy=True,\n",
       "              with_mean=False,\n",
       "              with_std=True\n",
       "          )), ('extratreesclassifier', ExtraTreesClassifier(\n",
       "              bootstrap=False,\n",
       "              ccp_alpha=0.0,\n",
       "              class_weight='balanced',\n",
       "              criterion='gini',\n",
       "              max_depth=None,\n",
       "              max_features=None,\n",
       "              max_leaf_nodes=None,\n",
       "              max_samples=None,\n",
       "              min_impurity_decrease=0.0,\n",
       "              min_impurity_split=None,\n",
       "              min_samples_leaf=0.01,\n",
       "              min_samples_split=0.056842105263157895,\n",
       "              min_weight_fraction_leaf=0.0,\n",
       "              n_estimators=200,\n",
       "              n_jobs=1,\n",
       "              oob_score=False,\n",
       "              random_state=None,\n",
       "              verbose=0,\n",
       "              warm_start=False\n",
       "          ))],\n",
       "          verbose=False\n",
       "      )), ('3', Pipeline(\n",
       "          memory=None,\n",
       "          steps=[('maxabsscaler', MaxAbsScaler(\n",
       "              copy=True\n",
       "          )), ('randomforestclassifier', RandomForestClassifier(\n",
       "              bootstrap=True,\n",
       "              ccp_alpha=0.0,\n",
       "              class_weight=None,\n",
       "              criterion='gini',\n",
       "              max_depth=None,\n",
       "              max_features='log2',\n",
       "              max_leaf_nodes=None,\n",
       "              max_samples=None,\n",
       "              min_impurity_decrease=0.0,\n",
       "              min_impurity_split=None,\n",
       "              min_samples_leaf=0.01,\n",
       "              min_samples_split=0.01,\n",
       "              min_weight_fraction_leaf=0.0,\n",
       "              n_estimators=10,\n",
       "              n_jobs=1,\n",
       "              oob_score=False,\n",
       "              random_state=None,\n",
       "              verbose=0,\n",
       "              warm_start=False\n",
       "          ))],\n",
       "          verbose=False\n",
       "      )), ('47', Pipeline(\n",
       "          memory=None,\n",
       "          steps=[('standardscalerwrapper', StandardScalerWrapper(\n",
       "              copy=True,\n",
       "              with_mean=False,\n",
       "              with_std=False\n",
       "          )), ('randomforestclassifier', RandomForestClassifier(\n",
       "              bootstrap=True,\n",
       "              ccp_alpha=0.0,\n",
       "              class_weight='balanced',\n",
       "              criterion='gini',\n",
       "              max_depth=None,\n",
       "              max_features=0.9,\n",
       "              max_leaf_nodes=None,\n",
       "              max_samples=None,\n",
       "              min_impurity_decrease=0.0,\n",
       "              min_impurity_split=None,\n",
       "              min_samples_leaf=0.01,\n",
       "              min_samples_split=0.10368421052631578,\n",
       "              min_weight_fraction_leaf=0.0,\n",
       "              n_estimators=10,\n",
       "              n_jobs=1,\n",
       "              oob_score=True,\n",
       "              random_state=None,\n",
       "              verbose=0,\n",
       "              warm_start=False\n",
       "          ))],\n",
       "          verbose=False\n",
       "      )), ('45', Pipeline(\n",
       "          memory=None,\n",
       "          steps=[('robustscaler', RobustScaler(\n",
       "              copy=True,\n",
       "              quantile_range=[25, 75],\n",
       "              with_centering=True,\n",
       "              with_scaling=False\n",
       "          )), ('gradientboostingclassifier', GradientBoostingClassifier(\n",
       "              ccp_alpha=0.0,\n",
       "              criterion='friedman_mse',\n",
       "              init=None,\n",
       "              learning_rate=0.002154434690031882,\n",
       "              loss='deviance',\n",
       "              max_depth=8,\n",
       "              max_features=0.4,\n",
       "              max_leaf_nodes=None,\n",
       "              min_impurity_decrease=0.0,\n",
       "              min_impurity_split=None,\n",
       "              min_samples_leaf=0.06157894736842105,\n",
       "              min_samples_split=0.19736842105263158,\n",
       "              min_weight_fraction_leaf=0.0,\n",
       "              n_estimators=10,\n",
       "              n_iter_no_change=None,\n",
       "              presort='deprecated',\n",
       "              random_state=None,\n",
       "              subsample=0.5263157894736842,\n",
       "              tol=0.0001,\n",
       "              validation_fraction=0.1,\n",
       "              verbose=0,\n",
       "              warm_start=False\n",
       "          ))],\n",
       "          verbose=False\n",
       "      ))],\n",
       "      weights=[0.26666666666666666, 0.06666666666666667, 0.06666666666666667, 0.06666666666666667, 0.13333333333333333, 0.06666666666666667, 0.06666666666666667, 0.06666666666666667, 0.2],\n",
       "      flatten_transform=None,\n",
       "      classification_labels=array([0, 1])\n",
       "  ))]"
      ]
     },
     "execution_count": 10,
     "metadata": {},
     "output_type": "execute_result"
    }
   ],
   "source": [
    "fitted_model_automl.steps"
   ]
  },
  {
   "cell_type": "code",
   "execution_count": 11,
   "metadata": {},
   "outputs": [
    {
     "name": "stdout",
     "output_type": "stream",
     "text": [
      "datatransformer\n",
      "{'enable_dnn': False,\n",
      " 'enable_feature_sweeping': True,\n",
      " 'feature_sweeping_config': {},\n",
      " 'feature_sweeping_timeout': 86400,\n",
      " 'featurization_config': None,\n",
      " 'force_text_dnn': False,\n",
      " 'is_cross_validation': True,\n",
      " 'is_onnx_compatible': False,\n",
      " 'observer': None,\n",
      " 'task': 'classification',\n",
      " 'working_dir': '/mnt/batch/tasks/shared/LS_root/mounts/clusters/notebook170222/code/Users/odl_user_170222/udacity-final/starter_file'}\n",
      "\n",
      "prefittedsoftvotingclassifier\n",
      "{'estimators': ['46', '30', '58', '48', '33', '24', '3', '47', '45'],\n",
      " 'weights': [0.26666666666666666,\n",
      "             0.06666666666666667,\n",
      "             0.06666666666666667,\n",
      "             0.06666666666666667,\n",
      "             0.13333333333333333,\n",
      "             0.06666666666666667,\n",
      "             0.06666666666666667,\n",
      "             0.06666666666666667,\n",
      "             0.2]}\n",
      "\n",
      "46 - standardscalerwrapper\n",
      "{'class_name': 'StandardScaler',\n",
      " 'copy': True,\n",
      " 'module_name': 'sklearn.preprocessing._data',\n",
      " 'with_mean': False,\n",
      " 'with_std': False}\n",
      "\n",
      "46 - randomforestclassifier\n",
      "{'bootstrap': True,\n",
      " 'ccp_alpha': 0.0,\n",
      " 'class_weight': 'balanced',\n",
      " 'criterion': 'gini',\n",
      " 'max_depth': None,\n",
      " 'max_features': 0.5,\n",
      " 'max_leaf_nodes': None,\n",
      " 'max_samples': None,\n",
      " 'min_impurity_decrease': 0.0,\n",
      " 'min_impurity_split': None,\n",
      " 'min_samples_leaf': 0.01,\n",
      " 'min_samples_split': 0.19736842105263158,\n",
      " 'min_weight_fraction_leaf': 0.0,\n",
      " 'n_estimators': 25,\n",
      " 'n_jobs': 1,\n",
      " 'oob_score': True,\n",
      " 'random_state': None,\n",
      " 'verbose': 0,\n",
      " 'warm_start': False}\n",
      "\n",
      "30 - maxabsscaler\n",
      "{'copy': True}\n",
      "\n",
      "30 - gradientboostingclassifier\n",
      "{'ccp_alpha': 0.0,\n",
      " 'criterion': 'mse',\n",
      " 'init': None,\n",
      " 'learning_rate': 0.01,\n",
      " 'loss': 'deviance',\n",
      " 'max_depth': 10,\n",
      " 'max_features': 'log2',\n",
      " 'max_leaf_nodes': None,\n",
      " 'min_impurity_decrease': 0.0,\n",
      " 'min_impurity_split': None,\n",
      " 'min_samples_leaf': 0.035789473684210524,\n",
      " 'min_samples_split': 0.5252631578947369,\n",
      " 'min_weight_fraction_leaf': 0.0,\n",
      " 'n_estimators': 600,\n",
      " 'n_iter_no_change': None,\n",
      " 'presort': 'deprecated',\n",
      " 'random_state': None,\n",
      " 'subsample': 0.7631578947368421,\n",
      " 'tol': 0.0001,\n",
      " 'validation_fraction': 0.1,\n",
      " 'verbose': 0,\n",
      " 'warm_start': False}\n",
      "\n",
      "58 - standardscalerwrapper\n",
      "{'class_name': 'StandardScaler',\n",
      " 'copy': True,\n",
      " 'module_name': 'sklearn.preprocessing._data',\n",
      " 'with_mean': False,\n",
      " 'with_std': False}\n",
      "\n",
      "58 - gradientboostingclassifier\n",
      "{'ccp_alpha': 0.0,\n",
      " 'criterion': 'mse',\n",
      " 'init': None,\n",
      " 'learning_rate': 0.01,\n",
      " 'loss': 'deviance',\n",
      " 'max_depth': 5,\n",
      " 'max_features': None,\n",
      " 'max_leaf_nodes': None,\n",
      " 'min_impurity_decrease': 0.0,\n",
      " 'min_impurity_split': None,\n",
      " 'min_samples_leaf': 0.01,\n",
      " 'min_samples_split': 0.15052631578947367,\n",
      " 'min_weight_fraction_leaf': 0.0,\n",
      " 'n_estimators': 400,\n",
      " 'n_iter_no_change': None,\n",
      " 'presort': 'deprecated',\n",
      " 'random_state': None,\n",
      " 'subsample': 0.5736842105263158,\n",
      " 'tol': 0.0001,\n",
      " 'validation_fraction': 0.1,\n",
      " 'verbose': 0,\n",
      " 'warm_start': False}\n",
      "\n",
      "48 - minmaxscaler\n",
      "{'copy': True, 'feature_range': (0, 1)}\n",
      "\n",
      "48 - lightgbmclassifier\n",
      "{'boosting_type': 'goss',\n",
      " 'colsample_bytree': 0.99,\n",
      " 'learning_rate': 0.005272631578947368,\n",
      " 'max_bin': 310,\n",
      " 'max_depth': 3,\n",
      " 'min_child_weight': 0,\n",
      " 'min_data_in_leaf': 0.03104137931034483,\n",
      " 'min_split_gain': 0.7368421052631579,\n",
      " 'n_estimators': 400,\n",
      " 'n_jobs': 1,\n",
      " 'num_leaves': 188,\n",
      " 'problem_info': ProblemInfo(\n",
      "    gpu_training_param_dict={'processing_unit_type': 'cpu'}\n",
      "),\n",
      " 'random_state': None,\n",
      " 'reg_alpha': 0.42105263157894735,\n",
      " 'reg_lambda': 0.05263157894736842,\n",
      " 'subsample': 1}\n",
      "\n",
      "33 - standardscalerwrapper\n",
      "{'class_name': 'StandardScaler',\n",
      " 'copy': True,\n",
      " 'module_name': 'sklearn.preprocessing._data',\n",
      " 'with_mean': False,\n",
      " 'with_std': True}\n",
      "\n",
      "33 - randomforestclassifier\n",
      "{'bootstrap': True,\n",
      " 'ccp_alpha': 0.0,\n",
      " 'class_weight': 'balanced',\n",
      " 'criterion': 'entropy',\n",
      " 'max_depth': None,\n",
      " 'max_features': 'log2',\n",
      " 'max_leaf_nodes': None,\n",
      " 'max_samples': None,\n",
      " 'min_impurity_decrease': 0.0,\n",
      " 'min_impurity_split': None,\n",
      " 'min_samples_leaf': 0.035789473684210524,\n",
      " 'min_samples_split': 0.19736842105263158,\n",
      " 'min_weight_fraction_leaf': 0.0,\n",
      " 'n_estimators': 50,\n",
      " 'n_jobs': 1,\n",
      " 'oob_score': True,\n",
      " 'random_state': None,\n",
      " 'verbose': 0,\n",
      " 'warm_start': False}\n",
      "\n",
      "24 - standardscalerwrapper\n",
      "{'class_name': 'StandardScaler',\n",
      " 'copy': True,\n",
      " 'module_name': 'sklearn.preprocessing._data',\n",
      " 'with_mean': False,\n",
      " 'with_std': True}\n",
      "\n",
      "24 - extratreesclassifier\n",
      "{'bootstrap': False,\n",
      " 'ccp_alpha': 0.0,\n",
      " 'class_weight': 'balanced',\n",
      " 'criterion': 'gini',\n",
      " 'max_depth': None,\n",
      " 'max_features': None,\n",
      " 'max_leaf_nodes': None,\n",
      " 'max_samples': None,\n",
      " 'min_impurity_decrease': 0.0,\n",
      " 'min_impurity_split': None,\n",
      " 'min_samples_leaf': 0.01,\n",
      " 'min_samples_split': 0.056842105263157895,\n",
      " 'min_weight_fraction_leaf': 0.0,\n",
      " 'n_estimators': 200,\n",
      " 'n_jobs': 1,\n",
      " 'oob_score': False,\n",
      " 'random_state': None,\n",
      " 'verbose': 0,\n",
      " 'warm_start': False}\n",
      "\n",
      "3 - maxabsscaler\n",
      "{'copy': True}\n",
      "\n",
      "3 - randomforestclassifier\n",
      "{'bootstrap': True,\n",
      " 'ccp_alpha': 0.0,\n",
      " 'class_weight': None,\n",
      " 'criterion': 'gini',\n",
      " 'max_depth': None,\n",
      " 'max_features': 'log2',\n",
      " 'max_leaf_nodes': None,\n",
      " 'max_samples': None,\n",
      " 'min_impurity_decrease': 0.0,\n",
      " 'min_impurity_split': None,\n",
      " 'min_samples_leaf': 0.01,\n",
      " 'min_samples_split': 0.01,\n",
      " 'min_weight_fraction_leaf': 0.0,\n",
      " 'n_estimators': 10,\n",
      " 'n_jobs': 1,\n",
      " 'oob_score': False,\n",
      " 'random_state': None,\n",
      " 'verbose': 0,\n",
      " 'warm_start': False}\n",
      "\n",
      "47 - standardscalerwrapper\n",
      "{'class_name': 'StandardScaler',\n",
      " 'copy': True,\n",
      " 'module_name': 'sklearn.preprocessing._data',\n",
      " 'with_mean': False,\n",
      " 'with_std': False}\n",
      "\n",
      "47 - randomforestclassifier\n",
      "{'bootstrap': True,\n",
      " 'ccp_alpha': 0.0,\n",
      " 'class_weight': 'balanced',\n",
      " 'criterion': 'gini',\n",
      " 'max_depth': None,\n",
      " 'max_features': 0.9,\n",
      " 'max_leaf_nodes': None,\n",
      " 'max_samples': None,\n",
      " 'min_impurity_decrease': 0.0,\n",
      " 'min_impurity_split': None,\n",
      " 'min_samples_leaf': 0.01,\n",
      " 'min_samples_split': 0.10368421052631578,\n",
      " 'min_weight_fraction_leaf': 0.0,\n",
      " 'n_estimators': 10,\n",
      " 'n_jobs': 1,\n",
      " 'oob_score': True,\n",
      " 'random_state': None,\n",
      " 'verbose': 0,\n",
      " 'warm_start': False}\n",
      "\n",
      "45 - robustscaler\n",
      "{'copy': True,\n",
      " 'quantile_range': [25, 75],\n",
      " 'with_centering': True,\n",
      " 'with_scaling': False}\n",
      "\n",
      "45 - gradientboostingclassifier\n",
      "{'ccp_alpha': 0.0,\n",
      " 'criterion': 'friedman_mse',\n",
      " 'init': None,\n",
      " 'learning_rate': 0.002154434690031882,\n",
      " 'loss': 'deviance',\n",
      " 'max_depth': 8,\n",
      " 'max_features': 0.4,\n",
      " 'max_leaf_nodes': None,\n",
      " 'min_impurity_decrease': 0.0,\n",
      " 'min_impurity_split': None,\n",
      " 'min_samples_leaf': 0.06157894736842105,\n",
      " 'min_samples_split': 0.19736842105263158,\n",
      " 'min_weight_fraction_leaf': 0.0,\n",
      " 'n_estimators': 10,\n",
      " 'n_iter_no_change': None,\n",
      " 'presort': 'deprecated',\n",
      " 'random_state': None,\n",
      " 'subsample': 0.5263157894736842,\n",
      " 'tol': 0.0001,\n",
      " 'validation_fraction': 0.1,\n",
      " 'verbose': 0,\n",
      " 'warm_start': False}\n",
      "\n"
     ]
    }
   ],
   "source": [
    "# taken from :\n",
    "# https://docs.microsoft.com/de-de/azure/machine-learning/how-to-configure-auto-features\n",
    "\n",
    "from pprint import pprint\n",
    "\n",
    "def print_model(model, prefix=\"\"):\n",
    "    for step in model.steps:\n",
    "        print(prefix + step[0])\n",
    "        if hasattr(step[1], 'estimators') and hasattr(step[1], 'weights'):\n",
    "            pprint({'estimators': list(\n",
    "                e[0] for e in step[1].estimators), 'weights': step[1].weights})\n",
    "            print()\n",
    "            for estimator in step[1].estimators:\n",
    "                print_model(estimator[1], estimator[0] + ' - ')\n",
    "        else:\n",
    "            pprint(step[1].get_params())\n",
    "            print()\n",
    "\n",
    "print_model(fitted_model_automl)"
   ]
  },
  {
   "cell_type": "code",
   "execution_count": 12,
   "metadata": {
    "scrolled": true
   },
   "outputs": [
    {
     "data": {
      "text/plain": [
       "['accuracy_table',\n",
       " 'automl_driver.py',\n",
       " 'confusion_matrix',\n",
       " 'logs/azureml/18_azureml.log',\n",
       " 'logs/azureml/azureml_automl.log',\n",
       " 'outputs/conda_env_v_1_0_0.yml',\n",
       " 'outputs/engineered_feature_names.json',\n",
       " 'outputs/env_dependencies.json',\n",
       " 'outputs/featurization_summary.json',\n",
       " 'outputs/internal_cross_validated_models.pkl',\n",
       " 'outputs/model.pkl',\n",
       " 'outputs/pipeline_graph.json',\n",
       " 'outputs/scoring_file_v_1_0_0.py',\n",
       " 'outputs/scoring_file_v_2_0_0.py',\n",
       " 'system_logs/cs_capability/cs-capability.log',\n",
       " 'system_logs/hosttools_capability/hosttools-capability.log',\n",
       " 'system_logs/lifecycler/execution-wrapper.log',\n",
       " 'system_logs/lifecycler/lifecycler.log',\n",
       " 'system_logs/lifecycler/vm-bootstrapper.log',\n",
       " 'user_logs/std_log.txt']"
      ]
     },
     "execution_count": 12,
     "metadata": {},
     "output_type": "execute_result"
    }
   ],
   "source": [
    "best_run_automl.get_file_names()"
   ]
  },
  {
   "cell_type": "code",
   "execution_count": 13,
   "metadata": {},
   "outputs": [
    {
     "data": {
      "text/plain": [
       "{'precision_score_weighted': 0.8585312359034027,\n",
       " 'AUC_weighted': 0.9178054571816012,\n",
       " 'f1_score_micro': 0.842528735632184,\n",
       " 'norm_macro_recall': 0.6485009320072249,\n",
       " 'recall_score_micro': 0.842528735632184,\n",
       " 'precision_score_macro': 0.8219380241455051,\n",
       " 'recall_score_macro': 0.8242504660036125,\n",
       " 'accuracy': 0.842528735632184,\n",
       " 'f1_score_weighted': 0.8419072653280326,\n",
       " 'AUC_macro': 0.9178054571816012,\n",
       " 'recall_score_weighted': 0.842528735632184,\n",
       " 'average_precision_score_weighted': 0.9314271581501158,\n",
       " 'matthews_correlation': 0.644675168109656,\n",
       " 'weighted_accuracy': 0.8540780600207262,\n",
       " 'AUC_micro': 0.9231835116924296,\n",
       " 'log_loss': 0.3999267558987434,\n",
       " 'f1_score_macro': 0.8133131655472596,\n",
       " 'precision_score_micro': 0.842528735632184,\n",
       " 'average_precision_score_macro': 0.9099130955220188,\n",
       " 'balanced_accuracy': 0.8242504660036125,\n",
       " 'average_precision_score_micro': 0.9252395195733742,\n",
       " 'confusion_matrix': 'aml://artifactId/ExperimentRun/dcid.AutoML_d3d7619a-7438-4a73-a422-7771f8b72101_74/confusion_matrix',\n",
       " 'accuracy_table': 'aml://artifactId/ExperimentRun/dcid.AutoML_d3d7619a-7438-4a73-a422-7771f8b72101_74/accuracy_table'}"
      ]
     },
     "execution_count": 13,
     "metadata": {},
     "output_type": "execute_result"
    }
   ],
   "source": [
    "best_run_automl.get_metrics()"
   ]
  },
  {
   "cell_type": "code",
   "execution_count": 14,
   "metadata": {},
   "outputs": [
    {
     "data": {
      "text/plain": [
       "{'runTemplate': 'automl_child',\n",
       " 'pipeline_id': '__AutoML_Ensemble__',\n",
       " 'pipeline_spec': '{\"pipeline_id\":\"__AutoML_Ensemble__\",\"objects\":[{\"module\":\"azureml.train.automl.ensemble\",\"class_name\":\"Ensemble\",\"spec_class\":\"sklearn\",\"param_args\":[],\"param_kwargs\":{\"automl_settings\":\"{\\'task_type\\':\\'classification\\',\\'primary_metric\\':\\'AUC_weighted\\',\\'verbosity\\':20,\\'ensemble_iterations\\':15,\\'is_timeseries\\':False,\\'name\\':\\'heart-failure-experiment\\',\\'compute_target\\':\\'cpu-cluster\\',\\'subscription_id\\':\\'976ee174-3882-4721-b90a-b5fef6b72f24\\',\\'region\\':\\'southcentralus\\',\\'spark_service\\':None}\",\"ensemble_run_id\":\"AutoML_d3d7619a-7438-4a73-a422-7771f8b72101_74\",\"experiment_name\":\"heart-failure-experiment\",\"workspace_name\":\"quick-starts-ws-170222\",\"subscription_id\":\"976ee174-3882-4721-b90a-b5fef6b72f24\",\"resource_group_name\":\"aml-quickstarts-170222\"}}]}',\n",
       " 'training_percent': '100',\n",
       " 'predicted_cost': None,\n",
       " 'iteration': '74',\n",
       " '_aml_system_scenario_identification': 'Remote.Child',\n",
       " '_azureml.ComputeTargetType': 'amlcompute',\n",
       " 'ContentSnapshotId': 'f541c4a2-5fa2-4bbc-8512-cc167d2e4e14',\n",
       " 'ProcessInfoFile': 'azureml-logs/process_info.json',\n",
       " 'ProcessStatusFile': 'azureml-logs/process_status.json',\n",
       " 'run_preprocessor': '',\n",
       " 'run_algorithm': 'VotingEnsemble',\n",
       " 'ensembled_iterations': '[46, 30, 58, 48, 33, 24, 3, 47, 45]',\n",
       " 'ensembled_algorithms': \"['RandomForest', 'GradientBoosting', 'GradientBoosting', 'LightGBM', 'RandomForest', 'ExtremeRandomTrees', 'RandomForest', 'RandomForest', 'GradientBoosting']\",\n",
       " 'ensembled_run_ids': \"['AutoML_d3d7619a-7438-4a73-a422-7771f8b72101_46', 'AutoML_d3d7619a-7438-4a73-a422-7771f8b72101_30', 'AutoML_d3d7619a-7438-4a73-a422-7771f8b72101_58', 'AutoML_d3d7619a-7438-4a73-a422-7771f8b72101_48', 'AutoML_d3d7619a-7438-4a73-a422-7771f8b72101_33', 'AutoML_d3d7619a-7438-4a73-a422-7771f8b72101_24', 'AutoML_d3d7619a-7438-4a73-a422-7771f8b72101_3', 'AutoML_d3d7619a-7438-4a73-a422-7771f8b72101_47', 'AutoML_d3d7619a-7438-4a73-a422-7771f8b72101_45']\",\n",
       " 'ensemble_weights': '[0.26666666666666666, 0.06666666666666667, 0.06666666666666667, 0.06666666666666667, 0.13333333333333333, 0.06666666666666667, 0.06666666666666667, 0.06666666666666667, 0.2]',\n",
       " 'best_individual_pipeline_score': '0.9157218452367193',\n",
       " 'best_individual_iteration': '46',\n",
       " 'model_output_path': 'outputs/model.pkl',\n",
       " 'conda_env_data_location': 'aml://artifact/ExperimentRun/dcid.AutoML_d3d7619a-7438-4a73-a422-7771f8b72101_74/outputs/conda_env_v_1_0_0.yml',\n",
       " 'model_data_location': 'aml://artifact/ExperimentRun/dcid.AutoML_d3d7619a-7438-4a73-a422-7771f8b72101_74/outputs/model.pkl',\n",
       " 'model_size_on_disk': '2179994',\n",
       " 'scoring_data_location': 'aml://artifact/ExperimentRun/dcid.AutoML_d3d7619a-7438-4a73-a422-7771f8b72101_74/outputs/scoring_file_v_1_0_0.py',\n",
       " 'scoring_data_location_v2': 'aml://artifact/ExperimentRun/dcid.AutoML_d3d7619a-7438-4a73-a422-7771f8b72101_74/outputs/scoring_file_v_2_0_0.py',\n",
       " 'model_exp_support': 'True',\n",
       " 'pipeline_graph_version': '1.0.0',\n",
       " 'model_name': 'AutoMLd3d7619a774',\n",
       " 'score': '0.9178054571816012',\n",
       " 'score_table': 'NaN',\n",
       " 'run_properties': \"\\n    estimators=[('46', Pipeline(\\n        memory=None,\\n        steps=[('standardscalerwrapper', StandardScalerWrapper(\\n            copy=True,\\n            with_mean=False,\\n            with_std=False\\n        \",\n",
       " 'pipeline_script': '{\"pipeline_id\":\"__AutoML_Ensemble__\",\"objects\":[{\"module\":\"azureml.train.automl.ensemble\",\"class_name\":\"Ensemble\",\"spec_class\":\"sklearn\",\"param_args\":[],\"param_kwargs\":{\"automl_settings\":\"{\\'task_type\\':\\'classification\\',\\'primary_metric\\':\\'AUC_weighted\\',\\'verbosity\\':20,\\'ensemble_iterations\\':15,\\'is_timeseries\\':False,\\'name\\':\\'heart-failure-experiment\\',\\'compute_target\\':\\'cpu-cluster\\',\\'subscription_id\\':\\'976ee174-3882-4721-b90a-b5fef6b72f24\\',\\'region\\':\\'southcentralus\\',\\'spark_service\\':None}\",\"ensemble_run_id\":\"AutoML_d3d7619a-7438-4a73-a422-7771f8b72101_74\",\"experiment_name\":\"heart-failure-experiment\",\"workspace_name\":\"quick-starts-ws-170222\",\"subscription_id\":\"976ee174-3882-4721-b90a-b5fef6b72f24\",\"resource_group_name\":\"aml-quickstarts-170222\"}}]}',\n",
       " 'training_type': 'MeanCrossValidation',\n",
       " 'fit_time': '38',\n",
       " 'goal': 'AUC_weighted_max',\n",
       " 'primary_metric': 'AUC_weighted',\n",
       " 'errors': '{}',\n",
       " 'onnx_model_resource': '{}',\n",
       " 'dependencies_versions': '{\"azureml-train-restclients-hyperdrive\": \"1.36.0\", \"azureml-train-core\": \"1.36.0\", \"azureml-train-automl-runtime\": \"1.36.1\", \"azureml-train-automl-client\": \"1.36.0\", \"azureml-telemetry\": \"1.36.0\", \"azureml-responsibleai\": \"1.36.0\", \"azureml-pipeline-core\": \"1.36.0\", \"azureml-mlflow\": \"1.36.0\", \"azureml-interpret\": \"1.36.0\", \"azureml-inference-server-http\": \"0.4.2\", \"azureml-defaults\": \"1.36.0\", \"azureml-dataset-runtime\": \"1.36.0\", \"azureml-dataprep\": \"2.24.4\", \"azureml-dataprep-rslex\": \"2.0.3\", \"azureml-dataprep-native\": \"38.0.0\", \"azureml-core\": \"1.36.0.post2\", \"azureml-automl-runtime\": \"1.36.1\", \"azureml-automl-core\": \"1.36.1\"}',\n",
       " 'num_cores': '4',\n",
       " 'num_logical_cores': '4',\n",
       " 'peak_memory_usage': '1647728',\n",
       " 'vm_configuration': 'x86_64',\n",
       " 'core_hours': '0.01511603722222222',\n",
       " 'feature_skus': 'automatedml_sdk_guardrails'}"
      ]
     },
     "execution_count": 14,
     "metadata": {},
     "output_type": "execute_result"
    }
   ],
   "source": [
    "best_run_automl.properties"
   ]
  },
  {
   "cell_type": "code",
   "execution_count": 15,
   "metadata": {},
   "outputs": [
    {
     "data": {
      "text/plain": [
       "'VotingEnsemble'"
      ]
     },
     "execution_count": 15,
     "metadata": {},
     "output_type": "execute_result"
    }
   ],
   "source": [
    "best_run_automl.properties['run_algorithm']"
   ]
  },
  {
   "cell_type": "code",
   "execution_count": 16,
   "metadata": {},
   "outputs": [
    {
     "data": {
      "text/plain": [
       "\"\\n    estimators=[('46', Pipeline(\\n        memory=None,\\n        steps=[('standardscalerwrapper', StandardScalerWrapper(\\n            copy=True,\\n            with_mean=False,\\n            with_std=False\\n        \""
      ]
     },
     "execution_count": 16,
     "metadata": {},
     "output_type": "execute_result"
    }
   ],
   "source": [
    "best_run_automl.properties['run_properties']"
   ]
  },
  {
   "cell_type": "code",
   "execution_count": 17,
   "metadata": {},
   "outputs": [
    {
     "data": {
      "text/plain": [
       "\"['RandomForest', 'GradientBoosting', 'GradientBoosting', 'LightGBM', 'RandomForest', 'ExtremeRandomTrees', 'RandomForest', 'RandomForest', 'GradientBoosting']\""
      ]
     },
     "execution_count": 17,
     "metadata": {},
     "output_type": "execute_result"
    }
   ],
   "source": [
    "best_run_automl.properties['ensembled_algorithms']"
   ]
  },
  {
   "cell_type": "code",
   "execution_count": 18,
   "metadata": {
    "gather": {
     "logged": 1598431426111
    },
    "jupyter": {
     "outputs_hidden": false,
     "source_hidden": false
    },
    "nteract": {
     "transient": {
      "deleting": false
     }
    }
   },
   "outputs": [],
   "source": [
    "#Save the best model - download pkl and register model in Azure\n",
    "model_name = 'aml-best-heart-failure'\n",
    "model = best_run_automl.register_model(model_name, model_path='outputs/model.pkl')"
   ]
  },
  {
   "cell_type": "code",
   "execution_count": 19,
   "metadata": {},
   "outputs": [],
   "source": [
    "best_run_automl.download_file('outputs/scoring_file_v_2_0_0.py', 'automl_output/score.py')\n",
    "best_run_automl.download_file('outputs/model.pkl', 'automl_output/model.pkl')"
   ]
  },
  {
   "cell_type": "code",
   "execution_count": 20,
   "metadata": {},
   "outputs": [
    {
     "name": "stdout",
     "output_type": "stream",
     "text": [
      "Model(workspace=Workspace.create(name='quick-starts-ws-170222', subscription_id='976ee174-3882-4721-b90a-b5fef6b72f24', resource_group='aml-quickstarts-170222'), name=aml-best-heart-failure, id=aml-best-heart-failure:1, version=1, tags={}, properties={})\n"
     ]
    }
   ],
   "source": [
    "print(model)"
   ]
  },
  {
   "cell_type": "markdown",
   "metadata": {},
   "source": [
    "## Model Deployment\n",
    "\n",
    "All thats left to do is deploy the model.\n",
    "After successful deployment, we can trigger the endpoint using a request."
   ]
  },
  {
   "cell_type": "code",
   "execution_count": 21,
   "metadata": {
    "gather": {
     "logged": 1598431435189
    },
    "jupyter": {
     "outputs_hidden": false,
     "source_hidden": false
    },
    "nteract": {
     "transient": {
      "deleting": false
     }
    }
   },
   "outputs": [
    {
     "name": "stdout",
     "output_type": "stream",
     "text": [
      "Tips: You can try get_logs(): https://aka.ms/debugimage#dockerlog or local deployment: https://aka.ms/debugimage#debug-locally to debug if deployment takes longer than 10 minutes.\n",
      "Running\n",
      "2021-12-29 13:42:17+00:00 Creating Container Registry if not exists..\n",
      "2021-12-29 13:52:18+00:00 Use the existing image.\n",
      "2021-12-29 13:52:18+00:00 Submitting deployment to compute..\n",
      "2021-12-29 13:52:22+00:00 Checking the status of deployment aml-service..\n",
      "2021-12-29 13:56:39+00:00 Checking the status of inference endpoint aml-service.\n",
      "Succeeded\n",
      "ACI service creation operation finished, operation \"Succeeded\"\n"
     ]
    }
   ],
   "source": [
    "service_name = 'aml-service'\n",
    "inference_config = InferenceConfig(entry_script='automl_output/score.py')\n",
    "service = Model.deploy(ws, service_name, [model], inference_config, overwrite=True)\n",
    "service.wait_for_deployment(show_output=True)"
   ]
  },
  {
   "cell_type": "code",
   "execution_count": 35,
   "metadata": {},
   "outputs": [
    {
     "name": "stdout",
     "output_type": "stream",
     "text": [
      "Healthy\n"
     ]
    }
   ],
   "source": [
    "print(service.state)"
   ]
  },
  {
   "cell_type": "code",
   "execution_count": 34,
   "metadata": {},
   "outputs": [
    {
     "name": "stdout",
     "output_type": "stream",
     "text": [
      "b'{\"Results\": [1]}'\n"
     ]
    }
   ],
   "source": [
    "import urllib.request\n",
    "import json\n",
    "import os\n",
    "import ssl\n",
    "\n",
    "def allowSelfSignedHttps(allowed):\n",
    "    # bypass the server certificate verification on client side\n",
    "    if allowed and not os.environ.get('PYTHONHTTPSVERIFY', '') and getattr(ssl, '_create_unverified_context', None):\n",
    "        ssl._create_default_https_context = ssl._create_unverified_context\n",
    "\n",
    "allowSelfSignedHttps(True) # this line is needed if you use self-signed certificate in your scoring service.\n",
    "\n",
    "# Request data goes here\n",
    "data = {\n",
    "    \"Inputs\": {\n",
    "        \"data\":\n",
    "        [\n",
    "            {\n",
    "                'age': \"70\",\n",
    "                'anaemia': \"1\",\n",
    "                'creatinine_phosphokinase': \"582\",\n",
    "                'diabetes': \"0\",\n",
    "                'ejection_fraction': \"17\",\n",
    "                'high_blood_pressure': \"0\",\n",
    "                'platelets': \"265000\",\n",
    "                'serum_creatinine': \"3\",\n",
    "                'serum_sodium': \"127\",\n",
    "                'sex': \"0\",\n",
    "                'smoking': \"0\",\n",
    "                'time': \"5\",\n",
    "            },\n",
    "        ],\n",
    "    },\n",
    "    \"GlobalParameters\": {\n",
    "    }\n",
    "}\n",
    "\n",
    "  \n",
    "body = str.encode(json.dumps(data))\n",
    "\n",
    "url = 'http://10334fe6-8145-4cab-856b-7f0e2bfc0211.southcentralus.azurecontainer.io/score'\n",
    "api_key = '' # Replace this with the API key for the web service; here: no key\n",
    "headers = {'Content-Type':'application/json', 'Authorization':('Bearer '+ api_key)}\n",
    "\n",
    "req = urllib.request.Request(url, body, headers)\n",
    "\n",
    "try:\n",
    "    response = urllib.request.urlopen(req)\n",
    "\n",
    "    result = response.read()\n",
    "    print(result)\n",
    "except urllib.error.HTTPError as error:\n",
    "    print(\"The request failed with status code: \" + str(error.code))\n",
    "\n",
    "    # Print the headers - they include the requert ID and the timestamp, which are useful for debugging the failure\n",
    "    print(error.info())\n",
    "    print(json.loads(error.read().decode(\"utf8\", 'ignore')))"
   ]
  },
  {
   "cell_type": "markdown",
   "metadata": {},
   "source": [
    "Delete the service:"
   ]
  },
  {
   "cell_type": "code",
   "execution_count": 36,
   "metadata": {
    "gather": {
     "logged": 1610405049049
    },
    "jupyter": {
     "outputs_hidden": false,
     "source_hidden": false
    },
    "nteract": {
     "transient": {
      "deleting": false
     }
    }
   },
   "outputs": [],
   "source": [
    "service.delete()"
   ]
  },
  {
   "cell_type": "code",
   "execution_count": 52,
   "metadata": {
    "jupyter": {
     "outputs_hidden": false,
     "source_hidden": false
    },
    "nteract": {
     "transient": {
      "deleting": false
     }
    }
   },
   "outputs": [
    {
     "name": "stdout",
     "output_type": "stream",
     "text": [
      "Deleting\n"
     ]
    }
   ],
   "source": [
    "print(service.state)"
   ]
  },
  {
   "cell_type": "code",
   "execution_count": null,
   "metadata": {},
   "outputs": [],
   "source": []
  }
 ],
 "metadata": {
  "kernel_info": {
   "name": "python3-azureml"
  },
  "kernelspec": {
   "display_name": "Python 3",
   "language": "python",
   "name": "python3"
  },
  "language_info": {
   "codemirror_mode": {
    "name": "ipython",
    "version": 3
   },
   "file_extension": ".py",
   "mimetype": "text/x-python",
   "name": "python",
   "nbconvert_exporter": "python",
   "pygments_lexer": "ipython3",
   "version": "3.6.9"
  },
  "nteract": {
   "version": "nteract-front-end@1.0.0"
  }
 },
 "nbformat": 4,
 "nbformat_minor": 2
}
